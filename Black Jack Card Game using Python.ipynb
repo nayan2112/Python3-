{
 "cells": [
  {
   "cell_type": "code",
   "execution_count": 1,
   "metadata": {},
   "outputs": [],
   "source": [
    "import random\n",
    "\n",
    "suits = ('Hearts','Diamonds','Spades','Clubs',)\n",
    "ranks = ('Two','Three','Four','Five','Six','Seven','Eight','Nine','Ten','Jack','Queen','King','Ace')\n",
    "values = {'Two':2, 'Three':3, 'Four':4, 'Five':5, 'Six':6, 'Seven':7, 'Eight':8, 'Nine':9, 'Ten':10, 'Jack':10,\n",
    "         'Queen':10, 'King':10, 'Ace':11}\n",
    "Playing = True"
   ]
  },
  {
   "cell_type": "code",
   "execution_count": 2,
   "metadata": {},
   "outputs": [],
   "source": [
    "class Cards():\n",
    "\n",
    "    def __init__(self,suit,rank):\n",
    "        self.suit = suit\n",
    "        self.rank = rank\n",
    "        \n",
    "    def __str__(self):\n",
    "        return self.rank + ' of ' + self.suit"
   ]
  },
  {
   "cell_type": "code",
   "execution_count": 3,
   "metadata": {},
   "outputs": [
    {
     "name": "stdout",
     "output_type": "stream",
     "text": [
      "Nine of Spades\n"
     ]
    }
   ],
   "source": [
    "x = Cards('Spades', 'Nine')\n",
    "print(x)"
   ]
  },
  {
   "cell_type": "code",
   "execution_count": 4,
   "metadata": {},
   "outputs": [],
   "source": [
    "class Deck():\n",
    "    \n",
    "    def __init__(self):\n",
    "        self.deck = []\n",
    "        for suit in suits:\n",
    "            for rank in ranks:\n",
    "                self.deck.append(Cards(suit,rank))\n",
    "            \n",
    "    def __str__(self):\n",
    "        deck_comp = ' '\n",
    "        for card in self.deck:\n",
    "            deck_comp +=  '\\n' + card.__str__()\n",
    "        return \"The Decks consists of: \"+deck_comp \n",
    "    \n",
    "    def shuffle(self):\n",
    "        random.shuffle(self.deck)\n",
    "        \n",
    "    def deal(self):\n",
    "        single_card = self.deck.pop()\n",
    "        return single_card\n",
    "    \n"
   ]
  },
  {
   "cell_type": "code",
   "execution_count": 5,
   "metadata": {},
   "outputs": [
    {
     "data": {
      "text/plain": [
       "<__main__.Deck at 0x21405d93388>"
      ]
     },
     "execution_count": 5,
     "metadata": {},
     "output_type": "execute_result"
    }
   ],
   "source": [
    "Deck()"
   ]
  },
  {
   "cell_type": "code",
   "execution_count": 6,
   "metadata": {},
   "outputs": [
    {
     "name": "stdout",
     "output_type": "stream",
     "text": [
      "Seven of Diamonds\n"
     ]
    }
   ],
   "source": [
    "test_deck = Deck()\n",
    "test_deck.shuffle()\n",
    "x = test_deck.deal()\n",
    "print(x)\n",
    "\n"
   ]
  },
  {
   "cell_type": "code",
   "execution_count": 7,
   "metadata": {},
   "outputs": [],
   "source": [
    "class Hand():\n",
    "    \n",
    "    def __init__(self):\n",
    "        \n",
    "        self.cards = []\n",
    "        self.value = 0\n",
    "        self.aces = 0\n",
    "        \n",
    "    def add_card(self,card):\n",
    "        self.cards.append(card)\n",
    "        self.value+= values[card.rank]\n",
    "        \n",
    "        if card.rank == 'Ace':\n",
    "            self.aces+= 1\n",
    "            \n",
    "    def adjust_for_ace(self):\n",
    "        \n",
    "        while self.value>21 and self.aces>1:\n",
    "            self.value-=21\n",
    "            self.aces-=1\n",
    "    \n",
    "    "
   ]
  },
  {
   "cell_type": "code",
   "execution_count": 8,
   "metadata": {},
   "outputs": [
    {
     "name": "stdout",
     "output_type": "stream",
     "text": [
      "Five of Clubs\n",
      "5\n"
     ]
    }
   ],
   "source": [
    "test_deck = Deck()\n",
    "test_deck.shuffle()\n",
    "\n",
    "test_player = Hand()\n",
    "pulled_card = test_deck.deal()\n",
    "print(pulled_card)\n",
    "test_player.add_card(pulled_card)\n",
    "print(test_player.value)\n",
    "\n"
   ]
  },
  {
   "cell_type": "code",
   "execution_count": 9,
   "metadata": {},
   "outputs": [],
   "source": [
    "test_player.add_card(test_deck.deal())"
   ]
  },
  {
   "cell_type": "code",
   "execution_count": 10,
   "metadata": {},
   "outputs": [
    {
     "name": "stdout",
     "output_type": "stream",
     "text": [
      "12\n"
     ]
    }
   ],
   "source": [
    "print(test_player.value)"
   ]
  },
  {
   "cell_type": "code",
   "execution_count": 11,
   "metadata": {},
   "outputs": [],
   "source": [
    "class Chips():\n",
    "    \n",
    "    def __init__(self):\n",
    "        self.total = 100\n",
    "        self.bet = 0\n",
    "        \n",
    "    def win_bet(self):\n",
    "        self.total+= self.bet\n",
    "        \n",
    "    def lose_bet(self):\n",
    "        self.total-= self.bet"
   ]
  },
  {
   "cell_type": "code",
   "execution_count": 12,
   "metadata": {},
   "outputs": [],
   "source": [
    "def take_bet(chips):\n",
    "    \n",
    "    while True:\n",
    "        try:\n",
    "            chips.bet = int(input('How many chips would you like to bet? '))\n",
    "        except ValueError:\n",
    "            print(\"Sorry! A bet must be an integer\")\n",
    "        else:\n",
    "            if chips.bet > chips.total:\n",
    "                print(\"Sorry! Your bet cant exceed\",chips.total)\n",
    "            else:\n",
    "                break\n",
    "            \n",
    "            "
   ]
  },
  {
   "cell_type": "code",
   "execution_count": 13,
   "metadata": {},
   "outputs": [],
   "source": [
    "def hit(deck,hand):\n",
    "    \n",
    "    hand.add_card(deck.deal())\n",
    "    hand.adjust_for_ace()"
   ]
  },
  {
   "cell_type": "code",
   "execution_count": 14,
   "metadata": {},
   "outputs": [],
   "source": [
    "'''\n",
    "def hit_or_stand(deck,hand):\n",
    "    \n",
    "    global playing\n",
    "    \n",
    "    while True:\n",
    "        x = input(\"Would you like to hit or stand? Enter 'h' or 's' \")\n",
    "        \n",
    "        if x[0].lower == 'h':\n",
    "            hit(deck,hand)\n",
    "            \n",
    "        elif x[0].lower == 's':\n",
    "            print(\"Player stands. Dealer is playing\")\n",
    "            playing = False\n",
    "            \n",
    "        else:\n",
    "            print(\"Sorry! Please try again\")\n",
    "            continue\n",
    "        break\n",
    "        '''\n",
    "\n",
    "def hit_or_stand(deck,hand):\n",
    "    global Playing  # to control an upcoming while loop\n",
    "    \n",
    "    while True:\n",
    "        x = input(\"Would you like to Hit or Stand? Enter 'h' or 's' \")\n",
    "        \n",
    "        if x[0].lower() == 'h':\n",
    "            hit(deck,hand)  # hit() function defined above\n",
    "\n",
    "        elif x[0].lower() == 's':\n",
    "            print(\"Player stands. Dealer is playing.\")\n",
    "            Playing = False\n",
    "\n",
    "        else:\n",
    "            print(\"Sorry, please try again.\")\n",
    "            continue\n",
    "        break\n",
    "        "
   ]
  },
  {
   "cell_type": "code",
   "execution_count": 15,
   "metadata": {},
   "outputs": [],
   "source": [
    "def show_some(player,dealer):\n",
    "    print(\"\\nDealer's Hand:\")\n",
    "    print(\" <card hidden>\")\n",
    "    print('',dealer.cards[1])  \n",
    "    print(\"\\nPlayer's Hand:\", *player.cards, sep='\\n ')\n",
    "    \n",
    "def show_all(player,dealer):\n",
    "    print(\"\\nDealer's Hand:\", *dealer.cards, sep='\\n ')\n",
    "    print(\"Dealer's Hand =\",dealer.value)\n",
    "    print(\"\\nPlayer's Hand:\", *player.cards, sep='\\n ')\n",
    "    print(\"Player's Hand =\",player.value)\n"
   ]
  },
  {
   "cell_type": "code",
   "execution_count": 16,
   "metadata": {},
   "outputs": [],
   "source": [
    "\n",
    "def player_busts(player,dealer,chips):\n",
    "    print(\"Player busts!\")\n",
    "    chips.lose_bet()\n",
    "\n",
    "def player_wins(player,dealer,chips):\n",
    "    print(\"Player wins!\")\n",
    "    chips.win_bet()\n",
    "\n",
    "def dealer_busts(player,dealer,chips):\n",
    "    print(\"Dealer busts!\")\n",
    "    chips.win_bet()\n",
    "    \n",
    "def dealer_wins(player,dealer,chips):\n",
    "    print(\"Dealer wins!\")\n",
    "    chips.lose_bet()\n",
    "    \n",
    "def push(player,dealer):\n",
    "    print(\"Dealer and Player tie! It's a push.\")"
   ]
  },
  {
   "cell_type": "code",
   "execution_count": null,
   "metadata": {},
   "outputs": [
    {
     "name": "stdout",
     "output_type": "stream",
     "text": [
      "Welcome to BlackJack! Get as close to 21 as you can without going over!\n",
      "           Dealer hits until she reaches 17. Aces count as 1 or 11.\n",
      "How many chips would you like to bet? 20\n",
      "\n",
      "Dealer's Hand:\n",
      " <card hidden>\n",
      " King of Hearts\n",
      "\n",
      "Player's Hand:\n",
      " Two of Clubs\n",
      " King of Clubs\n",
      "\n",
      "Dealer's Hand:\n",
      " Five of Clubs\n",
      " King of Hearts\n",
      " Jack of Clubs\n",
      "Dealer's Hand = 25\n",
      "\n",
      "Player's Hand:\n",
      " Two of Clubs\n",
      " King of Clubs\n",
      "Player's Hand = 12\n",
      "Dealer busts!\n",
      "Players winning stand at 120\n",
      "Would you like to play another hand? Enter 'y' or 'n' y\n",
      "Welcome to BlackJack! Get as close to 21 as you can without going over!\n",
      "           Dealer hits until she reaches 17. Aces count as 1 or 11.\n",
      "How many chips would you like to bet? 20\n",
      "\n",
      "Dealer's Hand:\n",
      " <card hidden>\n",
      " King of Spades\n",
      "\n",
      "Player's Hand:\n",
      " Five of Diamonds\n",
      " Four of Clubs\n",
      "Would you like to Hit or Stand? Enter 'h' or 's' h\n",
      "\n",
      "Dealer's Hand:\n",
      " <card hidden>\n",
      " King of Spades\n",
      "\n",
      "Player's Hand:\n",
      " Five of Diamonds\n",
      " Four of Clubs\n",
      " Eight of Spades\n",
      "Would you like to Hit or Stand? Enter 'h' or 's' h\n",
      "\n",
      "Dealer's Hand:\n",
      " <card hidden>\n",
      " King of Spades\n",
      "\n",
      "Player's Hand:\n",
      " Five of Diamonds\n",
      " Four of Clubs\n",
      " Eight of Spades\n",
      " Nine of Hearts\n",
      "Player busts!\n",
      "Players winning stand at 80\n",
      "Would you like to play another hand? Enter 'y' or 'n' y\n",
      "Welcome to BlackJack! Get as close to 21 as you can without going over!\n",
      "           Dealer hits until she reaches 17. Aces count as 1 or 11.\n",
      "How many chips would you like to bet? 20\n",
      "\n",
      "Dealer's Hand:\n",
      " <card hidden>\n",
      " Nine of Spades\n",
      "\n",
      "Player's Hand:\n",
      " King of Hearts\n",
      " Queen of Spades\n",
      "Would you like to Hit or Stand? Enter 'h' or 's' s\n",
      "Player stands. Dealer is playing.\n",
      "\n",
      "Dealer's Hand:\n",
      " <card hidden>\n",
      " Nine of Spades\n",
      "\n",
      "Player's Hand:\n",
      " King of Hearts\n",
      " Queen of Spades\n",
      "\n",
      "Dealer's Hand:\n",
      " Four of Diamonds\n",
      " Nine of Spades\n",
      " Nine of Clubs\n",
      "Dealer's Hand = 22\n",
      "\n",
      "Player's Hand:\n",
      " King of Hearts\n",
      " Queen of Spades\n",
      "Player's Hand = 20\n",
      "Dealer busts!\n",
      "Players winning stand at 120\n",
      "Would you like to play another hand? Enter 'y' or 'n' y\n",
      "Welcome to BlackJack! Get as close to 21 as you can without going over!\n",
      "           Dealer hits until she reaches 17. Aces count as 1 or 11.\n",
      "How many chips would you like to bet? 50\n",
      "\n",
      "Dealer's Hand:\n",
      " <card hidden>\n",
      " Six of Clubs\n",
      "\n",
      "Player's Hand:\n",
      " King of Clubs\n",
      " Jack of Spades\n",
      "Would you like to Hit or Stand? Enter 'h' or 's' s\n",
      "Player stands. Dealer is playing.\n",
      "\n",
      "Dealer's Hand:\n",
      " <card hidden>\n",
      " Six of Clubs\n",
      "\n",
      "Player's Hand:\n",
      " King of Clubs\n",
      " Jack of Spades\n",
      "\n",
      "Dealer's Hand:\n",
      " King of Diamonds\n",
      " Six of Clubs\n",
      " Five of Spades\n",
      "Dealer's Hand = 21\n",
      "\n",
      "Player's Hand:\n",
      " King of Clubs\n",
      " Jack of Spades\n",
      "Player's Hand = 20\n",
      "Dealer wins!\n",
      "Players winning stand at 50\n"
     ]
    }
   ],
   "source": [
    "while True:\n",
    "    \n",
    "    print('Welcome to BlackJack! Get as close to 21 as you can without going over!\\n\\\n",
    "           Dealer hits until she reaches 17. Aces count as 1 or 11.')\n",
    "\n",
    " # Create & shuffle the deck, deal two cards to each player\n",
    "    deck = Deck()\n",
    "    deck.shuffle()\n",
    "    \n",
    "    player_hand = Hand()\n",
    "    player_hand.add_card(deck.deal())\n",
    "    player_hand.add_card(deck.deal())\n",
    "    \n",
    "    dealer_hand = Hand()\n",
    "    dealer_hand.add_card(deck.deal())\n",
    "    dealer_hand.add_card(deck.deal())\n",
    "    \n",
    "    # Set up the Player's chips\n",
    "    player_chips = Chips()\n",
    "    \n",
    "    # Prompt the Player for their bet\n",
    "    take_bet(player_chips)\n",
    "    \n",
    "    # Show cards (but keep one dealer card hidden)\n",
    "    show_some(player_hand,dealer_hand)\n",
    "    \n",
    "    \n",
    "    while Playing:  # recall this variable from our hit_or_stand function\n",
    "        \n",
    "        # Prompt for Player to Hit or Stand\n",
    "        hit_or_stand(deck,player_hand)\n",
    "        \n",
    "        # Show cards (but keep one dealer card hidden)\n",
    "        show_some(player_hand,dealer_hand)\n",
    "        \n",
    "        # If player's hand exceeds 21, run player_busts() and break out of loop\n",
    "        if player_hand.value>21:\n",
    "            player_busts(player_hand,dealer_hand,player_chips)\n",
    "            break\n",
    "            \n",
    "    # If Player hasn't busted, play Dealer's hand until Dealer reaches 17        \n",
    "    if player_hand.value<=21:\n",
    "        \n",
    "        while dealer_hand.value < 17:\n",
    "            hit(deck,dealer_hand)\n",
    "        \n",
    "        # Show all cards\n",
    "        show_all(player_hand,dealer_hand)\n",
    "        \n",
    "        # Run different winning scenarios\n",
    "        if dealer_hand.value>21:\n",
    "            dealer_busts(player_hand,dealer_hand,player_chips)\n",
    "            \n",
    "        elif dealer_hand.value > player_hand.value:\n",
    "            dealer_wins(player_hand,dealer_hand,player_chips)\n",
    "            \n",
    "        elif dealer_hand.value < player_hand.value:\n",
    "            player_wins(player_hand,dealer_hand,player_chips)\n",
    "            \n",
    "        else:\n",
    "            push(player_hand,dealer_hand)\n",
    "            \n",
    "    \n",
    "    # Inform Player of their chips total\n",
    "    print(\"Players winning stand at\", player_chips.total)\n",
    "            \n",
    "    # Ask to play again\n",
    "    new_game = input(\"Would you like to play another hand? Enter 'y' or 'n' \")\n",
    "    \n",
    "    if new_game[0].lower()=='y':\n",
    "        Playing=True\n",
    "        continue\n",
    "    else:\n",
    "        print(\"Thanks for playing!\")\n",
    "        break        \n",
    "            "
   ]
  },
  {
   "cell_type": "code",
   "execution_count": null,
   "metadata": {},
   "outputs": [],
   "source": []
  }
 ],
 "metadata": {
  "kernelspec": {
   "display_name": "Python 3",
   "language": "python",
   "name": "python3"
  },
  "language_info": {
   "codemirror_mode": {
    "name": "ipython",
    "version": 3
   },
   "file_extension": ".py",
   "mimetype": "text/x-python",
   "name": "python",
   "nbconvert_exporter": "python",
   "pygments_lexer": "ipython3",
   "version": "3.7.6"
  }
 },
 "nbformat": 4,
 "nbformat_minor": 4
}
