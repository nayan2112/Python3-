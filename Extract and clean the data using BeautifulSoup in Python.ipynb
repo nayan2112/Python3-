{
 "cells": [
  {
   "cell_type": "code",
   "execution_count": 1,
   "metadata": {},
   "outputs": [],
   "source": [
    "import requests"
   ]
  },
  {
   "cell_type": "code",
   "execution_count": 2,
   "metadata": {},
   "outputs": [],
   "source": [
    "req = requests.get(\"https://en.wikipedia.org/wiki/University_of_Cambridge\")"
   ]
  },
  {
   "cell_type": "code",
   "execution_count": 77,
   "metadata": {},
   "outputs": [],
   "source": [
    "page = req.text"
   ]
  },
  {
   "cell_type": "code",
   "execution_count": 78,
   "metadata": {},
   "outputs": [
    {
     "data": {
      "text/plain": [
       "str"
      ]
     },
     "execution_count": 78,
     "metadata": {},
     "output_type": "execute_result"
    }
   ],
   "source": [
    "type(page)"
   ]
  },
  {
   "cell_type": "code",
   "execution_count": 79,
   "metadata": {},
   "outputs": [],
   "source": [
    "from bs4 import BeautifulSoup"
   ]
  },
  {
   "cell_type": "code",
   "execution_count": 80,
   "metadata": {},
   "outputs": [],
   "source": [
    "soup = BeautifulSoup(page,'html.parser')"
   ]
  },
  {
   "cell_type": "code",
   "execution_count": 82,
   "metadata": {},
   "outputs": [
    {
     "data": {
      "text/plain": [
       "bs4.BeautifulSoup"
      ]
     },
     "execution_count": 82,
     "metadata": {},
     "output_type": "execute_result"
    }
   ],
   "source": [
    "type(soup)"
   ]
  },
  {
   "cell_type": "code",
   "execution_count": 83,
   "metadata": {},
   "outputs": [
    {
     "data": {
      "text/plain": [
       "<title>University of Cambridge - Wikipedia</title>"
      ]
     },
     "execution_count": 83,
     "metadata": {},
     "output_type": "execute_result"
    }
   ],
   "source": [
    "soup.title"
   ]
  },
  {
   "cell_type": "code",
   "execution_count": 84,
   "metadata": {},
   "outputs": [
    {
     "data": {
      "text/plain": [
       "'University of Cambridge - Wikipedia'"
      ]
     },
     "execution_count": 84,
     "metadata": {},
     "output_type": "execute_result"
    }
   ],
   "source": [
    "soup.title.get_text()"
   ]
  },
  {
   "cell_type": "code",
   "execution_count": 85,
   "metadata": {},
   "outputs": [
    {
     "data": {
      "text/plain": [
       "[<p class=\"mw-empty-elt\">\n",
       " </p>,\n",
       " <p>The <b>University of Cambridge</b> (legally <b>The Chancellor, Masters, and Scholars of the University of Cambridge</b>) is a <a href=\"/wiki/Collegiate_university\" title=\"Collegiate university\">collegiate</a> <a href=\"/wiki/Public_university\" title=\"Public university\">public</a> <a href=\"/wiki/Research_university\" title=\"Research university\">research university</a> in <a href=\"/wiki/Cambridge\" title=\"Cambridge\">Cambridge, United Kingdom</a>. Founded in 1209<sup class=\"reference\" id=\"cite_ref-Early_records_10-0\"><a href=\"#cite_note-Early_records-10\">[10]</a></sup> and granted a <a href=\"/wiki/Royal_charter\" title=\"Royal charter\">royal charter</a> by <a href=\"/wiki/Henry_III_of_England\" title=\"Henry III of England\">King Henry III</a> in 1231, Cambridge is the second-oldest university in the <a href=\"/wiki/English-speaking_world\" title=\"English-speaking world\">English-speaking world</a> and the world's <a href=\"/wiki/List_of_oldest_universities_in_continuous_operation\" title=\"List of oldest universities in continuous operation\">fourth-oldest surviving university</a>.<sup class=\"reference\" id=\"cite_ref-11\"><a href=\"#cite_note-11\">[11]</a></sup> The university grew out of an association of scholars who left the <a href=\"/wiki/University_of_Oxford\" title=\"University of Oxford\">University of Oxford</a> after a dispute with the townspeople.<sup class=\"reference\" id=\"cite_ref-12\"><a href=\"#cite_note-12\">[12]</a></sup> The two '<a href=\"/wiki/Ancient_university\" title=\"Ancient university\">ancient universities</a>' share many common features and are often referred to jointly as '<a href=\"/wiki/Oxbridge\" title=\"Oxbridge\">Oxbridge</a>'. The academic standards, history, influence and wealth of the University of Cambridge has made it one of the most prestigious universities in the world.<sup class=\"reference\" id=\"cite_ref-13\"><a href=\"#cite_note-13\">[13]</a></sup>\n",
       " </p>,\n",
       " <p>Cambridge is formed from a variety of institutions which include <a href=\"/wiki/Colleges_of_the_University_of_Cambridge\" title=\"Colleges of the University of Cambridge\">31 semi-autonomous constituent Colleges</a> and over 100 academic departments organised into six schools. <a href=\"/wiki/Cambridge_University_Press\" title=\"Cambridge University Press\">Cambridge University Press</a>, a department of the university, is the world's oldest publishing house and the second-largest university press in the world. <a href=\"/wiki/University_of_Cambridge_Local_Examinations_Syndicate\" title=\"University of Cambridge Local Examinations Syndicate\">Cambridge Assessment</a>, also a department of the university, is one of the world's leading examining bodies and provides assessment to over eight million learners globally every year. The university also operates eight cultural and scientific museums, including the <a href=\"/wiki/Fitzwilliam_Museum\" title=\"Fitzwilliam Museum\">Fitzwilliam Museum</a>, as well as a <a href=\"/wiki/Cambridge_University_Botanic_Garden\" title=\"Cambridge University Botanic Garden\">botanic garden</a>. <a href=\"/wiki/Libraries_of_the_University_of_Cambridge\" title=\"Libraries of the University of Cambridge\">Cambridge's libraries</a>, of which there are over 100, hold a total of around 16 million books, around nine million of which are in <a href=\"/wiki/Cambridge_University_Library\" title=\"Cambridge University Library\">Cambridge University Library</a>, a <a class=\"mw-redirect\" href=\"/wiki/Legal_deposit_library\" title=\"Legal deposit library\">legal deposit library</a>. The university is home to, but independent of, the <a href=\"/wiki/Cambridge_Union\" title=\"Cambridge Union\">Cambridge Union</a> - the world's oldest debating society. The university is closely linked to the development of the high-tech <a href=\"/wiki/Business_cluster\" title=\"Business cluster\">business cluster</a> known as '<a href=\"/wiki/Silicon_Fen\" title=\"Silicon Fen\">Silicon Fen</a>'. It is the central member of <a href=\"/wiki/Cambridge_University_Health_Partners\" title=\"Cambridge University Health Partners\">Cambridge University Health Partners</a>, an <a href=\"/wiki/Academic_health_science_centre\" title=\"Academic health science centre\">academic health science centre</a> based around the <a href=\"/wiki/Cambridge_Biomedical_Campus\" title=\"Cambridge Biomedical Campus\">Cambridge Biomedical Campus</a>.\n",
       " </p>,\n",
       " <p>In the fiscal year ending 31 July 2019, the central university, excluding colleges, had a total income of £2.192 billion, of which £592.4 million was from research grants and contracts.<sup class=\"reference\" id=\"cite_ref-14\"><a href=\"#cite_note-14\">[14]</a></sup> At the end of the same financial year, the central university and colleges together possessed a combined endowment of over £6.9 billion and overall consolidated net assets (excluding 'immaterial' historical assets) of £12.569 billion.<sup class=\"reference\" id=\"cite_ref-17\"><a href=\"#cite_note-17\">[17]</a></sup> By both <a href=\"/wiki/List_of_UK_universities_by_endowment\" title=\"List of UK universities by endowment\">endowment size</a> and consolidated assets, Cambridge is the wealthiest university in the United Kingdom.<sup class=\"reference\" id=\"cite_ref-18\"><a href=\"#cite_note-18\">[18]</a></sup>\n",
       " </p>,\n",
       " <p>As of 2019, Cambridge is the top-ranked university in the United Kingdom according to <a href=\"/wiki/Rankings_of_universities_in_the_United_Kingdom\" title=\"Rankings of universities in the United Kingdom\">all major league tables</a>. Cambridge is ranked the world's second best university by the <a href=\"/wiki/Times_Higher_Education_World_University_Rankings\" title=\"Times Higher Education World University Rankings\">Times Higher Education World University Rankings</a>,<sup class=\"reference\" id=\"cite_ref-19\"><a href=\"#cite_note-19\">[19]</a></sup> ranked 3rd worldwide by <a href=\"/wiki/Academic_Ranking_of_World_Universities\" title=\"Academic Ranking of World Universities\">Academic Ranking of World Universities</a>, 6th by <a href=\"/wiki/QS_World_University_Rankings\" title=\"QS World University Rankings\">QS</a>, and 7th by <a href=\"/wiki/U.S._News_%26_World_Report_Best_Global_University_Ranking\" title=\"U.S. News &amp; World Report Best Global University Ranking\">US News</a>.<sup class=\"reference\" id=\"cite_ref-20\"><a href=\"#cite_note-20\">[20]</a></sup><sup class=\"reference\" id=\"cite_ref-21\"><a href=\"#cite_note-21\">[21]</a></sup><sup class=\"reference\" id=\"cite_ref-22\"><a href=\"#cite_note-22\">[22]</a></sup> Cambridge was ranked No. 10 in the 2016 and 2018 Nature Index Annual Tables, which measure the largest contributors to papers published in 82 leading scientific journals.<sup class=\"reference\" id=\"cite_ref-Nature_Index_2016_23-0\"><a href=\"#cite_note-Nature_Index_2016-23\">[23]</a></sup><sup class=\"reference\" id=\"cite_ref-Nature_Index_2018_24-0\"><a href=\"#cite_note-Nature_Index_2018-24\">[24]</a></sup><sup class=\"reference\" id=\"cite_ref-Nature_Index_FAQs_25-0\"><a href=\"#cite_note-Nature_Index_FAQs-25\">[25]</a></sup> According to the Times Higher Education ranking, no other institution in the world ranks in the top 10 for as many subjects.<sup class=\"reference\" id=\"cite_ref-THE_World_University_Rankings_Top_10_26-0\"><a href=\"#cite_note-THE_World_University_Rankings_Top_10-26\">[26]</a></sup> It is a member of numerous associations and forms part of the '<a href=\"/wiki/Golden_triangle_(universities)\" title=\"Golden triangle (universities)\">golden triangle</a>' of English universities.\n",
       " </p>,\n",
       " <p>The university has educated many <a href=\"/wiki/List_of_University_of_Cambridge_people\" title=\"List of University of Cambridge people\">notable alumni</a>, including eminent mathematicians, scientists, politicians, lawyers, philosophers, writers, actors, monarchs and other heads of state. As of October 2019<sup class=\"plainlinks noexcerpt noprint asof-tag update\" style=\"display:none;\"><a class=\"external text\" href=\"https://en.wikipedia.org/w/index.php?title=University_of_Cambridge&amp;action=edit\">[update]</a></sup>, <a href=\"/wiki/List_of_Nobel_laureates_by_university_affiliation\" title=\"List of Nobel laureates by university affiliation\">120 Nobel Laureates</a>, <a href=\"/wiki/List_of_Fields_Medal_winners_by_university_affiliation\" title=\"List of Fields Medal winners by university affiliation\">11 Fields Medalists</a>, <a href=\"/wiki/List_of_Turing_Award_laureates_by_university_affiliation\" title=\"List of Turing Award laureates by university affiliation\">7 Turing Award winners</a> and 14 <a href=\"/wiki/List_of_prime_ministers_of_the_United_Kingdom_by_education\" title=\"List of prime ministers of the United Kingdom by education\">British Prime Ministers</a> have been affiliated with Cambridge as students, alumni, faculty or research staff.<sup class=\"reference\" id=\"cite_ref-27\"><a href=\"#cite_note-27\">[27]</a></sup> University alumni have won 194 Olympic medals.<sup class=\"reference\" id=\"cite_ref-Hawks_28-0\"><a href=\"#cite_note-Hawks-28\">[28]</a></sup>\n",
       " </p>,\n",
       " <p>By the late 12th century, the Cambridge area already had a scholarly and ecclesiastical reputation, due to monks from the nearby bishopric church of <a href=\"/wiki/Ely,_Cambridgeshire\" title=\"Ely, Cambridgeshire\">Ely</a>. However, it was an incident at <a href=\"/wiki/University_of_Oxford\" title=\"University of Oxford\">Oxford</a> which is most likely to have led to the establishment of the university: three Oxford scholars were hanged by the town authorities for the death of a woman, without consulting the ecclesiastical authorities, who would normally take precedence (and pardon the scholars) in such a case, but were at that time in conflict with <a href=\"/wiki/John,_King_of_England\" title=\"John, King of England\">King John</a>. Fearing more violence from the townsfolk, scholars from the University of Oxford started to move away to cities such as <a href=\"/wiki/Paris\" title=\"Paris\">Paris</a>, <a href=\"/wiki/Reading,_Berkshire\" title=\"Reading, Berkshire\">Reading</a>, and <a href=\"/wiki/Cambridge\" title=\"Cambridge\">Cambridge</a>. Subsequently, enough scholars remained in Cambridge to form the nucleus of a new university when it had become safe enough for academia to resume at Oxford.<sup class=\"reference\" id=\"cite_ref-Early_records_10-1\"><a href=\"#cite_note-Early_records-10\">[10]</a></sup><sup class=\"reference\" id=\"cite_ref-29\"><a href=\"#cite_note-29\">[29]</a></sup><sup class=\"reference\" id=\"cite_ref-30\"><a href=\"#cite_note-30\">[30]</a></sup> In order to claim precedence, it is common for Cambridge to trace its founding to the 1231 charter from <a href=\"/wiki/Henry_III_of_England\" title=\"Henry III of England\">King Henry III</a> granting it the right to discipline its own members (<i>ius non-trahi extra</i>) and an exemption from some taxes; Oxford was not granted similar rights until 1248.<sup class=\"reference\" id=\"cite_ref-31\"><a href=\"#cite_note-31\">[31]</a></sup>\n",
       " </p>,\n",
       " <p>A <a href=\"/wiki/Papal_bull\" title=\"Papal bull\">bull</a> in 1233 from <a href=\"/wiki/Pope_Gregory_IX\" title=\"Pope Gregory IX\">Pope Gregory IX</a> gave graduates from Cambridge the right to teach \"everywhere in <a href=\"/wiki/Christendom\" title=\"Christendom\">Christendom</a>\".<sup class=\"reference\" id=\"cite_ref-32\"><a href=\"#cite_note-32\">[32]</a></sup> After Cambridge was described as a <i><a href=\"/wiki/Studium_generale\" title=\"Studium generale\">studium generale</a></i> in a letter from <a href=\"/wiki/Pope_Nicholas_IV\" title=\"Pope Nicholas IV\">Pope Nicholas IV</a> in 1290,<sup class=\"reference\" id=\"cite_ref-Hackett_33-0\"><a href=\"#cite_note-Hackett-33\">[33]</a></sup> and confirmed as such in a <a href=\"/wiki/Papal_bull\" title=\"Papal bull\">bull</a> by <a href=\"/wiki/Pope_John_XXII\" title=\"Pope John XXII\">Pope John XXII</a> in 1318,<sup class=\"reference\" id=\"cite_ref-34\"><a href=\"#cite_note-34\">[34]</a></sup> it became common for researchers from other European <a class=\"mw-redirect\" href=\"/wiki/Medieval_universities\" title=\"Medieval universities\">medieval universities</a> to visit Cambridge to study or to give lecture courses.<sup class=\"reference\" id=\"cite_ref-Hackett_33-1\"><a href=\"#cite_note-Hackett-33\">[33]</a></sup>\n",
       " </p>,\n",
       " <p>The <a href=\"/wiki/Colleges_of_the_University_of_Cambridge\" title=\"Colleges of the University of Cambridge\">colleges</a> at the University of Cambridge were originally an incidental feature of the system. No college is as old as the university itself. The colleges were endowed fellowships of scholars. There were also institutions without endowments, called hostels. The hostels were gradually absorbed by the colleges over the centuries, but they have left some traces, such as the name of Garret Hostel Lane.<sup class=\"reference\" id=\"cite_ref-35\"><a href=\"#cite_note-35\">[35]</a></sup>\n",
       " </p>,\n",
       " <p><a class=\"mw-redirect\" href=\"/wiki/Hugh_Balsham\" title=\"Hugh Balsham\">Hugh Balsham</a>, <a href=\"/wiki/Bishop_of_Ely\" title=\"Bishop of Ely\">Bishop of Ely</a>, founded <a href=\"/wiki/Peterhouse,_Cambridge\" title=\"Peterhouse, Cambridge\">Peterhouse</a>, Cambridge's first college, in 1284. Many colleges were founded during the 14th and 15th centuries, but colleges continued to be established until modern times, although there was a gap of 204 years between the founding of <a href=\"/wiki/Sidney_Sussex_College,_Cambridge\" title=\"Sidney Sussex College, Cambridge\">Sidney Sussex</a> in 1596 and that of <a href=\"/wiki/Downing_College,_Cambridge\" title=\"Downing College, Cambridge\">Downing</a> in 1800. The most recently established college is <a href=\"/wiki/Robinson_College,_Cambridge\" title=\"Robinson College, Cambridge\">Robinson</a>, built in the late 1970s. However, <a href=\"/wiki/Homerton_College,_Cambridge\" title=\"Homerton College, Cambridge\">Homerton College</a> only achieved full university college status in March 2010, making it the newest full college (it was previously an \"Approved Society\" affiliated with the university).\n",
       " </p>,\n",
       " <p>In <a class=\"mw-redirect\" href=\"/wiki/Medieval\" title=\"Medieval\">medieval</a> times, many colleges were founded so that their members would <a href=\"/wiki/Prayer\" title=\"Prayer\">pray</a> for the <a href=\"/wiki/Soul\" title=\"Soul\">souls</a> of the founders, and were often associated with chapels or <a href=\"/wiki/Abbey\" title=\"Abbey\">abbeys</a>. The colleges' focus changed in 1536 with the <a href=\"/wiki/Dissolution_of_the_Monasteries\" title=\"Dissolution of the Monasteries\">Dissolution of the Monasteries</a>. King <a href=\"/wiki/Henry_VIII_of_England\" title=\"Henry VIII of England\">Henry VIII</a> ordered the university to disband its Faculty of <a class=\"mw-redirect\" href=\"/wiki/Canon_Law\" title=\"Canon Law\">Canon Law</a><sup class=\"reference\" id=\"cite_ref-36\"><a href=\"#cite_note-36\">[36]</a></sup> and to stop teaching \"<a class=\"mw-redirect\" href=\"/wiki/Scholastic_philosophy\" title=\"Scholastic philosophy\">scholastic philosophy</a>\". In response, colleges changed their curricula away from canon law, and towards the <a href=\"/wiki/Classics\" title=\"Classics\">classics</a>, the Bible, and mathematics.\n",
       " </p>,\n",
       " <p>Nearly a century later, the university was at the centre of a Protestant schism. Many nobles, intellectuals and even commoners saw the ways of the <a href=\"/wiki/Church_of_England\" title=\"Church of England\">Church of England</a> as too similar to the Catholic Church, and felt that it was used by the Crown to usurp the rightful powers of the counties. <a href=\"/wiki/East_Anglia\" title=\"East Anglia\">East Anglia</a> was the centre of what became the <a class=\"mw-redirect\" href=\"/wiki/Puritan\" title=\"Puritan\">Puritan</a> movement. In Cambridge, the movement was particularly strong at Emmanuel, St Catharine's Hall, Sidney Sussex and <a href=\"/wiki/Christ%27s_College,_Cambridge\" title=\"Christ's College, Cambridge\">Christ's College</a>.<sup class=\"reference\" id=\"cite_ref-37\"><a href=\"#cite_note-37\">[37]</a></sup> They produced many \"non-conformist\" graduates who greatly influenced, by social position or preaching, some 20,000 Puritans who left for <a href=\"/wiki/New_England\" title=\"New England\">New England</a> and especially the <a href=\"/wiki/Massachusetts_Bay_Colony\" title=\"Massachusetts Bay Colony\">Massachusetts Bay Colony</a> during the <a class=\"mw-redirect\" href=\"/wiki/Great_Migration_(Puritan)\" title=\"Great Migration (Puritan)\">Great Migration</a> decade of the 1630s. <a href=\"/wiki/Oliver_Cromwell\" title=\"Oliver Cromwell\">Oliver Cromwell</a>, Parliamentary commander during the English Civil War and head of the English Commonwealth (1649–1660), attended <a class=\"mw-redirect\" href=\"/wiki/Sidney_Sussex\" title=\"Sidney Sussex\">Sidney Sussex</a>.\n",
       " </p>,\n",
       " <p><a class=\"mw-redirect\" href=\"/wiki/Cambridge_Mathematical_Tripos\" title=\"Cambridge Mathematical Tripos\">Examination in mathematics</a> was once compulsory for all undergraduates studying for the Bachelor of Arts degree, the main first degree at Cambridge in both arts and sciences. From the time of <a href=\"/wiki/Isaac_Newton\" title=\"Isaac Newton\">Isaac Newton</a> in the later 17th century until the mid-19th century, the university maintained an especially strong emphasis on <a href=\"/wiki/Applied_mathematics\" title=\"Applied mathematics\">applied mathematics</a>, particularly <a href=\"/wiki/Mathematical_physics\" title=\"Mathematical physics\">mathematical physics</a>. The exam is known as a <a href=\"/wiki/Tripos\" title=\"Tripos\">Tripos</a>.<sup class=\"reference\" id=\"cite_ref-38\"><a href=\"#cite_note-38\">[38]</a></sup> Students awarded <a href=\"/wiki/British_undergraduate_degree_classification\" title=\"British undergraduate degree classification\">first-class honours</a> after completing the mathematics Tripos are termed <a href=\"/wiki/Wrangler_(University_of_Cambridge)\" title=\"Wrangler (University of Cambridge)\">wranglers</a>, and the top student among them is the <a class=\"mw-redirect\" href=\"/wiki/Senior_Wrangler_(University_of_Cambridge)\" title=\"Senior Wrangler (University of Cambridge)\">Senior Wrangler</a>. The <a class=\"mw-redirect\" href=\"/wiki/Cambridge_Mathematical_Tripos\" title=\"Cambridge Mathematical Tripos\">Cambridge Mathematical Tripos</a> is competitive and has helped produce some of the most famous names in British science, including <a href=\"/wiki/James_Clerk_Maxwell\" title=\"James Clerk Maxwell\">James Clerk Maxwell</a>, <a href=\"/wiki/William_Thomson,_1st_Baron_Kelvin\" title=\"William Thomson, 1st Baron Kelvin\">Lord Kelvin</a> and <a class=\"mw-redirect\" href=\"/wiki/John_Strutt,_3rd_Baron_Rayleigh\" title=\"John Strutt, 3rd Baron Rayleigh\">Lord Rayleigh</a>.<sup class=\"reference\" id=\"cite_ref-39\"><a href=\"#cite_note-39\">[39]</a></sup> However, some famous students, such as <a href=\"/wiki/G._H._Hardy\" title=\"G. H. Hardy\">G. H. Hardy</a>, disliked the system, feeling that people were too interested in accumulating marks in exams and not interested in the subject itself.\n",
       " </p>,\n",
       " <p>Pure mathematics at Cambridge in the 19th century achieved great things, but also missed out on substantial developments in French and German mathematics. Pure mathematical research at Cambridge finally reached the highest international standard in the early 20th century, thanks above all to G. H. Hardy, his collaborator <a class=\"mw-redirect\" href=\"/wiki/J._E._Littlewood\" title=\"J. E. Littlewood\">J. E. Littlewood</a> and <a href=\"/wiki/Srinivasa_Ramanujan\" title=\"Srinivasa Ramanujan\">Srinivasa Ramanujan</a>. In geometry, <a href=\"/wiki/W._V._D._Hodge\" title=\"W. V. D. Hodge\">W. V. D. Hodge</a> brought Cambridge onto the international mainstream in the 1930s.\n",
       " </p>,\n",
       " <p>Although diversified in its research and teaching interests, Cambridge today maintains its strength in mathematics. Cambridge alumni have won six <a href=\"/wiki/Fields_Medal\" title=\"Fields Medal\">Fields Medals</a> and one <a href=\"/wiki/Abel_Prize\" title=\"Abel Prize\">Abel Prize</a> for mathematics, while individuals representing Cambridge have won four Fields Medals.<sup class=\"reference\" id=\"cite_ref-40\"><a href=\"#cite_note-40\">[40]</a></sup>\n",
       " </p>,\n",
       " <p>After the <a class=\"mw-redirect\" href=\"/wiki/Cambridge_University_Act\" title=\"Cambridge University Act\">Cambridge University Act</a> formalised the organisational structure of the university, the study of many new subjects was introduced, such as theology, history and <a class=\"mw-redirect\" href=\"/wiki/Modern_languages\" title=\"Modern languages\">modern languages</a>.<sup class=\"reference\" id=\"cite_ref-41\"><a href=\"#cite_note-41\">[41]</a></sup> Resources necessary for new courses in the arts, architecture and <a class=\"mw-redirect\" href=\"/wiki/Archeology\" title=\"Archeology\">archaeology</a> were donated by <a href=\"/wiki/Richard_FitzWilliam,_7th_Viscount_FitzWilliam\" title=\"Richard FitzWilliam, 7th Viscount FitzWilliam\">Viscount Fitzwilliam</a>, of <a href=\"/wiki/Trinity_College,_Cambridge\" title=\"Trinity College, Cambridge\">Trinity College</a>, who also founded the <a href=\"/wiki/Fitzwilliam_Museum\" title=\"Fitzwilliam Museum\">Fitzwilliam Museum</a>.<sup class=\"reference\" id=\"cite_ref-42\"><a href=\"#cite_note-42\">[42]</a></sup> Between 1896 and 1902, <a href=\"/wiki/Downing_College,_Cambridge\" title=\"Downing College, Cambridge\">Downing College</a> sold part of its land to build the <i><a href=\"/wiki/Downing_Site\" title=\"Downing Site\">Downing Site</a></i>, with new scientific laboratories for <a href=\"/wiki/Anatomy\" title=\"Anatomy\">anatomy</a>, <a href=\"/wiki/Genetics\" title=\"Genetics\">genetics</a> and <a class=\"mw-redirect\" href=\"/wiki/Earth_sciences\" title=\"Earth sciences\">Earth sciences</a>.<sup class=\"reference\" id=\"cite_ref-43\"><a href=\"#cite_note-43\">[43]</a></sup> During the same period, the <i><a href=\"/wiki/New_Museums_Site\" title=\"New Museums Site\">New Museums Site</a></i> was erected, including the <a href=\"/wiki/Cavendish_Laboratory\" title=\"Cavendish Laboratory\">Cavendish Laboratory</a>, which has since moved to the <a class=\"mw-redirect\" href=\"/wiki/West_Cambridge_Site\" title=\"West Cambridge Site\">West Cambridge Site</a>, and other <a href=\"/wiki/Department_of_Chemistry,_University_of_Cambridge\" title=\"Department of Chemistry, University of Cambridge\">departments for chemistry</a> and medicine.<sup class=\"reference\" id=\"cite_ref-44\"><a href=\"#cite_note-44\">[44]</a></sup>\n",
       " </p>,\n",
       " <p>The University of Cambridge began to award PhD degrees in the first third of the 20th century. The first Cambridge PhD in mathematics was awarded in 1924.<sup class=\"reference\" id=\"cite_ref-45\"><a href=\"#cite_note-45\">[45]</a></sup>\n",
       " </p>,\n",
       " <p>In the <a class=\"mw-redirect\" href=\"/wiki/First_World_War\" title=\"First World War\">First World War</a>, 13,878 members of the university served and 2,470 were killed. Teaching, and the fees it earned, came almost to a stop and severe financial difficulties followed. As a consequence the university first received systematic state support in 1919, and a <a class=\"mw-redirect\" href=\"/wiki/Royal_Commission\" title=\"Royal Commission\">Royal Commission</a> appointed in 1920 recommended that the university (but not the colleges) should receive an annual grant.<sup class=\"reference\" id=\"cite_ref-46\"><a href=\"#cite_note-46\">[46]</a></sup> Following the <a class=\"mw-redirect\" href=\"/wiki/Second_World_War\" title=\"Second World War\">Second World War</a>, the university saw a rapid expansion of student numbers and available places; this was partly due to the success and popularity gained by many Cambridge scientists.<sup class=\"reference\" id=\"cite_ref-47\"><a href=\"#cite_note-47\">[47]</a></sup>\n",
       " </p>,\n",
       " <p>The university was one of only two universities to hold parliamentary seats in the <a href=\"/wiki/Parliament_of_England\" title=\"Parliament of England\">Parliament of England</a> and was later one of eight represented in the <a href=\"/wiki/Parliament_of_the_United_Kingdom\" title=\"Parliament of the United Kingdom\">Parliament of the United Kingdom</a>. The constituency was created by a <a class=\"mw-redirect\" href=\"/wiki/Royal_Charter\" title=\"Royal Charter\">Royal Charter</a> of 1603 and returned two members of parliament until 1950, when it was abolished by the <a href=\"/wiki/Representation_of_the_People_Act_1948\" title=\"Representation of the People Act 1948\">Representation of the People Act 1948</a>.\n",
       " </p>,\n",
       " <p>The constituency was not a geographical area. Its electorate consisted of the graduates of the university. Before 1918 the franchise was restricted to male graduates with a doctorate or <a class=\"mw-redirect\" href=\"/wiki/Master_of_Arts_(Oxbridge_and_Dublin)\" title=\"Master of Arts (Oxbridge and Dublin)\">MA</a> degree.\n",
       " </p>,\n",
       " <p>For many years only male students were enrolled into the university. The first colleges for women were <a href=\"/wiki/Girton_College,_Cambridge\" title=\"Girton College, Cambridge\">Girton College</a> (founded by <a href=\"/wiki/Emily_Davies\" title=\"Emily Davies\">Emily Davies</a>) in 1869 and <a href=\"/wiki/Newnham_College,_Cambridge\" title=\"Newnham College, Cambridge\">Newnham College</a> in 1872 (founded by <a href=\"/wiki/Anne_Clough\" title=\"Anne Clough\">Anne Clough</a> and <a href=\"/wiki/Henry_Sidgwick\" title=\"Henry Sidgwick\">Henry Sidgwick</a>), followed by <a href=\"/wiki/Hughes_Hall,_Cambridge\" title=\"Hughes Hall, Cambridge\">Hughes Hall</a> in 1885 (founded by <a href=\"/wiki/Elizabeth_Phillips_Hughes\" title=\"Elizabeth Phillips Hughes\">Elizabeth Phillips Hughes</a> as the Cambridge Teaching College for Women), <a class=\"mw-redirect\" href=\"/wiki/Murray_Edwards_College\" title=\"Murray Edwards College\">Murray Edwards College</a> (founded by <a href=\"/wiki/Rosemary_Murray\" title=\"Rosemary Murray\">Rosemary Murray</a> as <a href=\"/wiki/Murray_Edwards_College,_Cambridge\" title=\"Murray Edwards College, Cambridge\">New Hall</a>) in 1954, and <a href=\"/wiki/Lucy_Cavendish_College,_Cambridge\" title=\"Lucy Cavendish College, Cambridge\">Lucy Cavendish College</a> in 1965. The first women students were examined in 1882 but attempts to make women full members of the university did not succeed until 1948.<sup class=\"reference\" id=\"cite_ref-48\"><a href=\"#cite_note-48\">[48]</a></sup> Women were allowed to study courses, sit examinations, and have their results recorded from 1881; for a brief period after the turn of the twentieth century, this allowed the \"<a href=\"/wiki/Steamboat_ladies\" title=\"Steamboat ladies\">steamboat ladies</a>\" to receive <i><a class=\"mw-redirect\" href=\"/wiki/Ad_eundem_gradum\" title=\"Ad eundem gradum\">ad eundem</a></i> degrees from the <a href=\"/wiki/University_of_Dublin\" title=\"University of Dublin\">University of Dublin</a>.<sup class=\"reference\" id=\"cite_ref-49\"><a href=\"#cite_note-49\">[49]</a></sup>\n",
       " </p>,\n",
       " <p>From 1921 women were awarded diplomas which \"conferred the Title of the Degree of Bachelor of Arts\". As they were not \"admitted to the Degree of Bachelor of Arts\" they were excluded from the governing of the university. Since students must belong to a college, and since established colleges remained closed to women, women found admissions restricted to colleges established only for women. Darwin College, the first wholly graduate college of the university, matriculated both men and women students from its inception in 1964 – and elected a mixed fellowship. Of the undergraduate colleges, starting with Churchill, Clare and King's Colleges, the former men's colleges began to admit women between 1972 and 1988. One of the female-only colleges, Girton, also began to admit male students from 1979, but the other female-only colleges did not do likewise. As a result of <a href=\"/wiki/St_Hilda%27s_College,_Oxford\" title=\"St Hilda's College, Oxford\">St Hilda's College, Oxford</a>, ending its ban on male students in 2008, Cambridge is now the only remaining United Kingdom university with female-only colleges (Newnham, Murray Edwards and Lucy Cavendish).<sup class=\"reference\" id=\"cite_ref-50\"><a href=\"#cite_note-50\">[50]</a></sup><sup class=\"reference\" id=\"cite_ref-51\"><a href=\"#cite_note-51\">[51]</a></sup> In the academic year 2004–5, the university's student sex ratio, including post-graduates, was male 52%: female 48%.<sup class=\"reference\" id=\"cite_ref-52\"><a href=\"#cite_note-52\">[52]</a></sup>\n",
       " </p>,\n",
       " <p>As an institution with such a long history, the university has developed a large number of myths and legends. The vast majority of these are untrue, but have been propagated nonetheless by generations of students and tour guides.\n",
       " </p>,\n",
       " <p>A discontinued tradition is that of the <a href=\"/wiki/Wooden_spoon_(award)\" title=\"Wooden spoon (award)\">wooden spoon</a>, the 'prize' awarded to the student with the lowest passing honours grade in the final examinations of the Mathematical Tripos. The last of these spoons was awarded in 1909 to Cuthbert Lempriere Holthouse, an oarsman of the Lady Margaret Boat Club of <a href=\"/wiki/St_John%27s_College,_Cambridge\" title=\"St John's College, Cambridge\">St John's College</a>. It was over one metre in length and had an oar blade for a handle. It can now be seen outside the Senior Combination Room of St John's. Since 1908, examination results have been published alphabetically within class rather than in strict order of merit. This made it harder to ascertain who was \"entitled\" to the spoon (unless there was only one person in the third class), and so the practice was abandoned.\n",
       " </p>,\n",
       " <p>Each Christmas Eve, BBC radio and television broadcasts <a href=\"/wiki/Nine_Lessons_and_Carols\" title=\"Nine Lessons and Carols\">The Festival of Nine Lessons and Carols</a> sung by the <a href=\"/wiki/Choir_of_King%27s_College,_Cambridge\" title=\"Choir of King's College, Cambridge\">Choir of King's College, Cambridge</a>. The radio broadcast has been a national Christmas tradition since it was first transmitted in 1928 (though the festival has existed since 1918). The radio broadcast is carried worldwide by the <a href=\"/wiki/BBC_World_Service\" title=\"BBC World Service\">BBC World Service</a> and is also syndicated to hundreds of radio stations in the US. The first television broadcast of the festival was in 1954.<sup class=\"reference\" id=\"cite_ref-53\"><a href=\"#cite_note-53\">[53]</a></sup><sup class=\"reference\" id=\"cite_ref-54\"><a href=\"#cite_note-54\">[54]</a></sup>\n",
       " </p>,\n",
       " <p>The university occupies a central location within the city of <a href=\"/wiki/Cambridge\" title=\"Cambridge\">Cambridge</a>, with the students taking up a significant proportion (nearly 20%) of the town's population and heavily affecting the age structure.<sup class=\"reference\" id=\"cite_ref-55\"><a href=\"#cite_note-55\">[55]</a></sup> Most of the older colleges are situated nearby the city centre and <a href=\"/wiki/River_Cam\" title=\"River Cam\">river Cam</a>, along which it is traditional to <a href=\"/wiki/Punt_(boat)\" title=\"Punt (boat)\">punt</a> to appreciate the buildings and surroundings.<sup class=\"reference\" id=\"cite_ref-56\"><a href=\"#cite_note-56\">[56]</a></sup>\n",
       " </p>,\n",
       " <p>Examples of notable buildings include <a class=\"mw-redirect\" href=\"/wiki/King%27s_College_Chapel\" title=\"King's College Chapel\">King's College Chapel</a>,<sup class=\"reference\" id=\"cite_ref-57\"><a href=\"#cite_note-57\">[57]</a></sup> the history faculty building<sup class=\"reference\" id=\"cite_ref-58\"><a href=\"#cite_note-58\">[58]</a></sup> designed by <a href=\"/wiki/James_Stirling_(architect)\" title=\"James Stirling (architect)\">James Stirling</a>; and the Cripps Building at <a href=\"/wiki/St_John%27s_College,_Cambridge\" title=\"St John's College, Cambridge\">St John's College</a>.<sup class=\"reference\" id=\"cite_ref-59\"><a href=\"#cite_note-59\">[59]</a></sup> The <a href=\"/wiki/Brickwork\" title=\"Brickwork\">brickwork</a> of several of the colleges is also notable: <a class=\"mw-redirect\" href=\"/wiki/Queens%27_College\" title=\"Queens' College\">Queens' College</a> contains \"some of the earliest patterned brickwork in the country\"<sup class=\"reference\" id=\"cite_ref-60\"><a href=\"#cite_note-60\">[60]</a></sup> and the brick walls of St John's College provide examples of <a class=\"mw-redirect\" href=\"/wiki/English_bond\" title=\"English bond\">English bond</a>, <a class=\"mw-redirect\" href=\"/wiki/Flemish_bond\" title=\"Flemish bond\">Flemish bond</a> and <a class=\"mw-redirect\" href=\"/wiki/Running_bond\" title=\"Running bond\">Running bond</a>.<sup class=\"reference\" id=\"cite_ref-61\"><a href=\"#cite_note-61\">[61]</a></sup>\n",
       " </p>,\n",
       " <p>The university is divided into several sites where the different departments are placed. The main ones are:<sup class=\"reference\" id=\"cite_ref-62\"><a href=\"#cite_note-62\">[62]</a></sup>\n",
       " </p>,\n",
       " <p>The university's School of Clinical Medicine is based in <a href=\"/wiki/Addenbrooke%27s_Hospital\" title=\"Addenbrooke's Hospital\">Addenbrooke's Hospital</a> where students in medicine undergo their three-year clinical placement period after obtaining their BA degree,<sup class=\"reference\" id=\"cite_ref-63\"><a href=\"#cite_note-63\">[63]</a></sup> while the West Cambridge site is undergoing a major expansion and will host a new sports development.<sup class=\"reference\" id=\"cite_ref-64\"><a href=\"#cite_note-64\">[64]</a></sup> In addition, the <a class=\"mw-redirect\" href=\"/wiki/Judge_Business_School\" title=\"Judge Business School\">Judge Business School</a>, situated on Trumpington Street, provides management education courses since 1990 and is consistently ranked within the top 20 business schools globally by the <a href=\"/wiki/Financial_Times\" title=\"Financial Times\">Financial Times</a>.<sup class=\"reference\" id=\"cite_ref-65\"><a href=\"#cite_note-65\">[65]</a></sup>\n",
       " </p>,\n",
       " <p>Given that the sites are in relative close proximity to each other and the area around Cambridge is reasonably flat, one of the favourite modes of transport for students is the bicycle: a fifth of the journeys in the city are made by bike, a figure enhanced by the fact that students are not permitted to hold car park permits, except under special circumstances.<sup class=\"reference\" id=\"cite_ref-66\"><a href=\"#cite_note-66\">[66]</a></sup>\n",
       " </p>,\n",
       " <p>The relationship between the university and the city has not always been positive. The phrase <i>town and gown</i> is employed to differentiate inhabitants of Cambridge from students at the university, who historically wore <a href=\"/wiki/Academic_dress\" title=\"Academic dress\">academical dress</a>. There are many stories of ferocious rivalry between the two categories. During the <a href=\"/wiki/Peasants%27_Revolt\" title=\"Peasants' Revolt\">Peasants' Revolt</a> of 1381, strong clashes brought about attacks and <a href=\"/wiki/Looting\" title=\"Looting\">looting</a> of university properties while locals contested the privileges granted by the government to the academic staff, the university's ledgers being burned in <a href=\"/wiki/Market_Hill,_Cambridge\" title=\"Market Hill, Cambridge\">Market Square</a> to the rallying cry <a class=\"mw-redirect\" href=\"/wiki/%22Away_with_the_learning_of_clerks,_away_with_it!%22\" title='\"Away with the learning of clerks, away with it!\"'>\"Away with the learning of clerks, away with it!\"</a>.<sup class=\"reference\" id=\"cite_ref-67\"><a href=\"#cite_note-67\">[67]</a></sup> Following these events, the Chancellor was given special powers allowing him to prosecute the criminals and re-establish order in the city. Attempts to reconcile the two groups followed over time, and in the 16th century agreements were signed to improve the quality of streets and student accommodation around the city. However, this was followed by new confrontations when the <a href=\"/wiki/Plague_(disease)\" title=\"Plague (disease)\">plague</a> hit Cambridge in 1630 and colleges refused to help those affected by the disease by locking their sites.<sup class=\"reference\" id=\"cite_ref-68\"><a href=\"#cite_note-68\">[68]</a></sup>\n",
       " </p>,\n",
       " <p>Nowadays, these conflicts have somewhat subsided and the university has become an opportunity for employment among the population, providing an increased level of wealth in the area.<sup class=\"reference\" id=\"cite_ref-69\"><a href=\"#cite_note-69\">[69]</a></sup> The enormous growth in the number of <a class=\"mw-redirect\" href=\"/wiki/High-tech\" title=\"High-tech\">high-tech</a>, <a class=\"mw-redirect\" href=\"/wiki/Biotech\" title=\"Biotech\">biotech</a>, providers of services and related firms situated near Cambridge has been termed the <i>Cambridge Phenomenon</i>: the addition of 1,500 new, registered companies and as many as 40,000 jobs between 1960 and 2010 has been directly related to the presence and importance of the university.<sup class=\"reference\" id=\"cite_ref-70\"><a href=\"#cite_note-70\">[70]</a></sup>\n",
       " </p>,\n",
       " <p>Cambridge is a <a href=\"/wiki/Collegiate_university\" title=\"Collegiate university\">collegiate university</a>, meaning that it is made up of self-governing and independent colleges, each with its own property and income. Most colleges bring together academics and students from a broad range of disciplines, and within each faculty, school or department within the university, academics from many different colleges will be found.\n",
       " </p>,\n",
       " <p>The faculties are responsible for ensuring that lectures are given, arranging seminars, performing research and determining the syllabi for teaching, overseen by the General Board. Together with the central administration headed by the <a class=\"mw-redirect\" href=\"/wiki/List_of_Vice-Chancellors_of_the_University_of_Cambridge\" title=\"List of Vice-Chancellors of the University of Cambridge\">Vice-Chancellor</a>, they make up the entire Cambridge University. Facilities such as libraries are provided on all these levels: by the university (the <a href=\"/wiki/Cambridge_University_Library\" title=\"Cambridge University Library\">Cambridge University Library</a>), by the Faculties (Faculty libraries such as the Squire Law Library), and by the individual colleges (all of which maintain a multi-discipline library, generally aimed mainly at their undergraduates).\n",
       " </p>,\n",
       " <p>The colleges are self-governing institutions with their own endowments and property, founded as integral parts of the university. All students and most academics are attached to a college. Their importance lies in the housing, welfare, social functions, and undergraduate teaching they provide. All faculties, departments, research centres, and laboratories belong to the university, which arranges lectures and awards degrees, but undergraduates receive their supervisions—small-group teaching sessions, often with just one student—within the colleges (though in many cases students go to other colleges for supervision if the teaching fellows at their college do not specialise in the areas concerned). Each college appoints its own teaching staff and <a href=\"/wiki/Fellow\" title=\"Fellow\">fellows</a>, who are also members of a university department. The colleges also decide which undergraduates to admit to the university, in accordance with university regulations.\n",
       " </p>,\n",
       " <p>Cambridge has 31 colleges, of which three, <a href=\"/wiki/Murray_Edwards_College,_Cambridge\" title=\"Murray Edwards College, Cambridge\">Murray Edwards</a>, <a href=\"/wiki/Newnham_College,_Cambridge\" title=\"Newnham College, Cambridge\">Newnham</a> and <a href=\"/wiki/Lucy_Cavendish_College,_Cambridge\" title=\"Lucy Cavendish College, Cambridge\">Lucy Cavendish</a>, admit women only. The other colleges are <a href=\"/wiki/Mixed-sex_education\" title=\"Mixed-sex education\">mixed</a>, though most were originally all-male. <a href=\"/wiki/Darwin_College,_Cambridge\" title=\"Darwin College, Cambridge\">Darwin</a> was the first college to admit both men and women, while <a href=\"/wiki/Churchill_College,_Cambridge\" title=\"Churchill College, Cambridge\">Churchill</a>, Clare, and <a href=\"/wiki/King%27s_College,_Cambridge\" title=\"King's College, Cambridge\">King's</a> were the first previously all-male colleges to admit female undergraduates, in 1972. <a href=\"/wiki/Magdalene_College,_Cambridge\" title=\"Magdalene College, Cambridge\">Magdalene</a> became the last all-male college to accept women, in 1988.<sup class=\"reference\" id=\"cite_ref-71\"><a href=\"#cite_note-71\">[71]</a></sup> <a href=\"/wiki/Clare_Hall,_Cambridge\" title=\"Clare Hall, Cambridge\">Clare Hall</a> and <a href=\"/wiki/Darwin_College,_Cambridge\" title=\"Darwin College, Cambridge\">Darwin</a> admit only postgraduates, and <a href=\"/wiki/Hughes_Hall,_Cambridge\" title=\"Hughes Hall, Cambridge\">Hughes Hall</a>, <a href=\"/wiki/Lucy_Cavendish_College,_Cambridge\" title=\"Lucy Cavendish College, Cambridge\">Lucy Cavendish</a>, <a href=\"/wiki/St_Edmund%27s_College,_Cambridge\" title=\"St Edmund's College, Cambridge\">St Edmund's</a> and <a href=\"/wiki/Wolfson_College,_Cambridge\" title=\"Wolfson College, Cambridge\">Wolfson</a> admit only <a class=\"mw-redirect\" href=\"/wiki/Mature_student\" title=\"Mature student\">mature</a> (i.e. 21 years or older on date of <a href=\"/wiki/Matriculation\" title=\"Matriculation\">matriculation</a>) students, encompassing both undergraduate and graduate students. All other colleges admit both undergraduate and postgraduate students with no age restrictions.\n",
       " </p>,\n",
       " <p>Colleges are not required to admit students in all subjects, with some colleges choosing not to offer subjects such as architecture, history of art or theology, but most offer close to the complete range. Some colleges maintain a bias towards certain subjects, for example with <a href=\"/wiki/Churchill_College,_Cambridge\" title=\"Churchill College, Cambridge\">Churchill</a> leaning towards the sciences and engineering,<sup class=\"reference\" id=\"cite_ref-72\"><a href=\"#cite_note-72\">[72]</a></sup> while others such as <a href=\"/wiki/St_Catharine%27s_College,_Cambridge\" title=\"St Catharine's College, Cambridge\">St Catharine's</a> aim for a balanced intake.<sup class=\"reference\" id=\"cite_ref-73\"><a href=\"#cite_note-73\">[73]</a></sup> Others maintain much more informal reputations, such as for the students of <a href=\"/wiki/King%27s_College,_Cambridge\" title=\"King's College, Cambridge\">King's</a> to hold left-wing political views,<sup class=\"reference\" id=\"cite_ref-74\"><a href=\"#cite_note-74\">[74]</a></sup> or <a href=\"/wiki/Robinson_College,_Cambridge\" title=\"Robinson College, Cambridge\">Robinson</a>'s and <a href=\"/wiki/Churchill_College,_Cambridge\" title=\"Churchill College, Cambridge\">Churchill</a>'s attempts to minimise their environmental impact.<sup class=\"reference\" id=\"cite_ref-75\"><a href=\"#cite_note-75\">[75]</a></sup>\n",
       " </p>,\n",
       " <p>Costs to students (accommodation and food prices) vary considerably from college to college.<sup class=\"reference\" id=\"cite_ref-76\"><a href=\"#cite_note-76\">[76]</a></sup><sup class=\"reference\" id=\"cite_ref-77\"><a href=\"#cite_note-77\">[77]</a></sup> Similarly, college expenditure on student education also varies widely between individual colleges.<sup class=\"reference\" id=\"cite_ref-TCS_college_spending_78-0\"><a href=\"#cite_note-TCS_college_spending-78\">[78]</a></sup>\n",
       " </p>,\n",
       " <p>There are also several theological colleges in Cambridge, separate from Cambridge University, including <a href=\"/wiki/Westcott_House,_Cambridge\" title=\"Westcott House, Cambridge\">Westcott House</a>, <a href=\"/wiki/Westminster_College,_Cambridge\" title=\"Westminster College, Cambridge\">Westminster College</a> and <a href=\"/wiki/Ridley_Hall,_Cambridge\" title=\"Ridley Hall, Cambridge\">Ridley Hall Theological College</a>, that are, to a lesser degree, affiliated to the university and are members of the <a href=\"/wiki/Cambridge_Theological_Federation\" title=\"Cambridge Theological Federation\">Cambridge Theological Federation</a>.<sup class=\"reference\" id=\"cite_ref-79\"><a href=\"#cite_note-79\">[79]</a></sup>\n",
       " </p>,\n",
       " <p>The 31 colleges are:<sup class=\"reference\" id=\"cite_ref-80\"><a href=\"#cite_note-80\">[80]</a></sup>\n",
       " </p>,\n",
       " <p>In addition to the 31 colleges, the university is made up of over 150 departments, faculties, schools, syndicates and other institutions.<sup class=\"reference\" id=\"cite_ref-81\"><a href=\"#cite_note-81\">[81]</a></sup> Members of these are usually also members of one of the colleges and responsibility for running the entire academic programme of the university is divided amongst them. The university also has a centre for part-time study, the <a href=\"/wiki/Institute_of_Continuing_Education\" title=\"Institute of Continuing Education\">Institute of Continuing Education</a>, which is housed in <a class=\"mw-redirect\" href=\"/wiki/Madingley_Hall\" title=\"Madingley Hall\">Madingley Hall</a>, a 16th-century manor house in <a href=\"/wiki/Cambridgeshire\" title=\"Cambridgeshire\">Cambridgeshire</a>.\n",
       " </p>,\n",
       " <p>A \"School\" in the University of Cambridge is a broad administrative grouping of related faculties and other units. Each has an elected supervisory body—the \"Council\" of the school—comprising representatives of the constituent bodies. There are six schools:<sup class=\"reference\" id=\"cite_ref-82\"><a href=\"#cite_note-82\">[82]</a></sup>\n",
       " </p>,\n",
       " <p>Teaching and research in Cambridge is organised by faculties. The faculties have different organisational sub-structures which partly reflect their history and partly their operational needs, which may include a number of departments and other institutions. In addition, a small number of bodies called 'Syndicates' have responsibilities for teaching and research, e.g. <a class=\"mw-redirect\" href=\"/wiki/UCLES\" title=\"UCLES\">Cambridge Assessment</a>, the <a href=\"/wiki/Cambridge_University_Press\" title=\"Cambridge University Press\">University Press</a>, and the <a href=\"/wiki/Cambridge_University_Library\" title=\"Cambridge University Library\">University Library</a>.\n",
       " </p>,\n",
       " <p>The office of <a class=\"mw-redirect\" href=\"/wiki/List_of_Chancellors_of_the_University_of_Cambridge\" title=\"List of Chancellors of the University of Cambridge\">Chancellor</a> of the university, for which there are no term limits, is mainly ceremonial and is held by <a href=\"/wiki/David_Sainsbury,_Baron_Sainsbury_of_Turville\" title=\"David Sainsbury, Baron Sainsbury of Turville\">David Sainsbury, Baron Sainsbury of Turville</a>, following the retirement of the <a href=\"/wiki/Prince_Philip,_Duke_of_Edinburgh\" title=\"Prince Philip, Duke of Edinburgh\">Duke of Edinburgh</a> on his 90th birthday in June 2011. Lord Sainsbury was nominated by the official Nomination Board to succeed him,<sup class=\"reference\" id=\"cite_ref-83\"><a href=\"#cite_note-83\">[83]</a></sup> and Abdul Arain, owner of a local grocery store, <a href=\"/wiki/Brian_Blessed\" title=\"Brian Blessed\">Brian Blessed</a> and <a href=\"/wiki/Michael_Mansfield\" title=\"Michael Mansfield\">Michael Mansfield</a> were also nominated.<sup class=\"reference\" id=\"cite_ref-84\"><a href=\"#cite_note-84\">[84]</a></sup><sup class=\"reference\" id=\"cite_ref-Guardian_85-0\"><a href=\"#cite_note-Guardian-85\">[85]</a></sup><sup class=\"reference\" id=\"cite_ref-CamElectionNews_86-0\"><a href=\"#cite_note-CamElectionNews-86\">[86]</a></sup> The <a class=\"mw-redirect\" href=\"/wiki/University_of_Cambridge_Chancellor_election,_2011\" title=\"University of Cambridge Chancellor election, 2011\">election</a> took place on 14 and 15 October 2011.<sup class=\"reference\" id=\"cite_ref-CamElectionNews_86-1\"><a href=\"#cite_note-CamElectionNews-86\">[86]</a></sup> David Sainsbury won the election taking 2,893 of the 5,888 votes cast, winning on the first count.\n",
       " </p>,\n",
       " <p>The current <a class=\"mw-redirect\" href=\"/wiki/Vice-Chancellor\" title=\"Vice-Chancellor\">Vice-Chancellor</a> is <a href=\"/wiki/Stephen_Toope\" title=\"Stephen Toope\">Stephen Toope</a>.<sup class=\"reference\" id=\"cite_ref-toope_87-0\"><a href=\"#cite_note-toope-87\">[87]</a></sup> While the Chancellor's office is ceremonial, the Vice-Chancellor is the <i>de facto</i> principal administrative officer of the university. The university's internal governance is carried out almost entirely by its own members,<sup class=\"reference\" id=\"cite_ref-88\"><a href=\"#cite_note-88\">[88]</a></sup> with very little external representation on its governing body, the Regent House (though there is external representation on the Audit Committee, and there are four external members on the <a href=\"/wiki/Cambridge_University_Council\" title=\"Cambridge University Council\">University's Council</a>, who are the only external members of the Regent House).<sup class=\"reference\" id=\"cite_ref-89\"><a href=\"#cite_note-89\">[89]</a></sup>\n",
       " </p>,\n",
       " <p>The Senate consists of all holders of the <a class=\"mw-redirect\" href=\"/wiki/Master_of_Arts_(Oxbridge_and_Dublin)\" title=\"Master of Arts (Oxbridge and Dublin)\">MA</a> degree or higher degrees. It elects the Chancellor and the High Steward, and elected two members of the <a href=\"/wiki/House_of_Commons_of_the_United_Kingdom\" title=\"House of Commons of the United Kingdom\">House of Commons</a> until the <a href=\"/wiki/Cambridge_University_(UK_Parliament_constituency)\" title=\"Cambridge University (UK Parliament constituency)\">Cambridge University constituency</a> was abolished in 1950. Prior to 1926, it was the university's governing body, fulfilling the functions that the <a href=\"/wiki/Regent_House\" title=\"Regent House\">Regent House</a> fulfils today.<sup class=\"reference\" id=\"cite_ref-90\"><a href=\"#cite_note-90\">[90]</a></sup> The Regent House is the university's governing body, a direct democracy comprising all resident senior members of the University and the Colleges, together with the Chancellor, the <a href=\"/wiki/High_Steward_(academia)\" title=\"High Steward (academia)\">High Steward</a>, the Deputy High Steward, and the Commissary.<sup class=\"reference\" id=\"cite_ref-91\"><a href=\"#cite_note-91\">[91]</a></sup> The public representatives of the Regent House are the two <a href=\"/wiki/Proctor\" title=\"Proctor\">Proctors</a>, elected to serve for one year, on the nomination of the Colleges.\n",
       " </p>,\n",
       " <p>Although the <a href=\"/wiki/Cambridge_University_Council\" title=\"Cambridge University Council\">University Council</a> is the principal executive and policy-making body of the university, it must report and be accountable to the <a href=\"/wiki/Regent_House\" title=\"Regent House\">Regent House</a> through a variety of checks and balances. It has the right of reporting to the university, and is obliged to advise the Regent House on matters of general concern to the university. It does both of these by causing notices to be published by authority in the <i><a href=\"/wiki/Cambridge_University_Reporter\" title=\"Cambridge University Reporter\">Cambridge University Reporter</a></i>, the official journal of the university. Since January 2005, the membership of the Council has included two external members,<sup class=\"reference\" id=\"cite_ref-92\"><a href=\"#cite_note-92\">[92]</a></sup> and the Regent House voted for an increase from two to four in the number of external members in March 2008,<sup class=\"reference\" id=\"cite_ref-93\"><a href=\"#cite_note-93\">[93]</a></sup><sup class=\"reference\" id=\"cite_ref-94\"><a href=\"#cite_note-94\">[94]</a></sup> and this was approved by Her Majesty the Queen in July 2008.<sup class=\"reference\" id=\"cite_ref-95\"><a href=\"#cite_note-95\">[95]</a></sup>\n",
       " </p>,\n",
       " <p>The General Board of the Faculties is responsible for the academic and educational policy of the university,<sup class=\"reference\" id=\"cite_ref-96\"><a href=\"#cite_note-96\">[96]</a></sup> and is accountable to the Council for its management of these affairs.\n",
       " </p>,\n",
       " <p>Faculty Boards are responsible to the General Board; other Boards and Syndicates are responsible either to the General Board (if primarily for academic purposes) or to the Council. In this way, the various arms of the university are kept under the supervision of the central administration, and thus the Regent House.\n",
       " </p>,\n",
       " <p>In 2000, <a href=\"/wiki/Bill_Gates\" title=\"Bill Gates\">Bill Gates</a> of <a href=\"/wiki/Microsoft\" title=\"Microsoft\">Microsoft</a> donated US$210 million through the <a class=\"mw-redirect\" href=\"/wiki/Bill_and_Melinda_Gates_Foundation\" title=\"Bill and Melinda Gates Foundation\">Bill and Melinda Gates Foundation</a> to endow the <a class=\"mw-redirect\" href=\"/wiki/Gates_Scholarships\" title=\"Gates Scholarships\">Gates Scholarships</a> for students from outside the UK seeking postgraduate study at Cambridge.<sup class=\"reference\" id=\"cite_ref-97\"><a href=\"#cite_note-97\">[97]</a></sup>\n",
       " </p>,\n",
       " <p>In the year ended 31 July 2013 the university had a total income of £1.44 billion, of which £332 million was from research grants and contracts.<sup class=\"reference\" id=\"cite_ref-finstat1213_98-0\"><a href=\"#cite_note-finstat1213-98\">[98]</a></sup>\n",
       " </p>,\n",
       " <p>Cambridge University accepted a £6m donation from Shell to fund a team researching oil extraction technology, while publicly positioning itself as part of the transition to a sustainable future. Shell gave the money to fund the work of the university's magnetic resonance research group amid a campaign by students and staff to persuade the university to sever its links with extractive industries.<sup class=\"reference\" id=\"cite_ref-99\"><a href=\"#cite_note-99\">[99]</a></sup>\n",
       " </p>,\n",
       " <p>The University of Cambridge borrowed £350 million by issuing a 40-year security bond in October 2012.<sup class=\"reference\" id=\"cite_ref-CN2012oct11ib_100-0\"><a href=\"#cite_note-CN2012oct11ib-100\">[100]</a></sup> Its interest rate is about 0.6 percent higher than a British government 40-year bond. Vice chancellor <a href=\"/wiki/Leszek_Borysiewicz\" title=\"Leszek Borysiewicz\">Leszek Borysiewicz</a> hailed the success of the issue.<sup class=\"reference\" id=\"cite_ref-101\"><a href=\"#cite_note-101\">[101]</a></sup> In a 2010 report, the Russell Group of 20 leading universities made a conclusion that higher education could be financed by issuing bonds.<sup class=\"reference\" id=\"cite_ref-CN2012oct11ib_100-1\"><a href=\"#cite_note-CN2012oct11ib-100\">[100]</a></sup>\n",
       " </p>,\n",
       " <p>Cambridge is a member of the <a href=\"/wiki/Russell_Group\" title=\"Russell Group\">Russell Group</a> of research-led <a href=\"/wiki/Universities_in_the_United_Kingdom\" title=\"Universities in the United Kingdom\">British universities</a>, the <a class=\"mw-redirect\" href=\"/wiki/G5_(education)\" title=\"G5 (education)\">G5</a>, the <a href=\"/wiki/League_of_European_Research_Universities\" title=\"League of European Research Universities\">League of European Research Universities</a>, and the <a href=\"/wiki/International_Alliance_of_Research_Universities\" title=\"International Alliance of Research Universities\">International Alliance of Research Universities</a>, and forms part of the \"<a href=\"/wiki/Golden_triangle_(universities)\" title=\"Golden triangle (universities)\">golden triangle</a>\" of research intensive and southern English universities.<sup class=\"reference\" id=\"cite_ref-102\"><a href=\"#cite_note-102\">[102]</a></sup> It is also closely linked with the development of the high-tech business cluster known as \"<a href=\"/wiki/Silicon_Fen\" title=\"Silicon Fen\">Silicon Fen</a>\", and as part of the <a href=\"/wiki/Cambridge_University_Health_Partners\" title=\"Cambridge University Health Partners\">Cambridge University Health Partners</a>, an <a href=\"/wiki/Academic_health_science_centre\" title=\"Academic health science centre\">academic health science centre</a>.\n",
       " </p>,\n",
       " <p>Undergraduate applications to Cambridge must be made through <a href=\"/wiki/UCAS\" title=\"UCAS\">UCAS</a> in time for the early deadline, currently mid-October in the year before starting. Until the 1980s candidates for all subjects were required to sit special entrance examinations,<sup class=\"reference\" id=\"cite_ref-108\"><a href=\"#cite_note-108\">[107]</a></sup> since replaced by additional tests for some subjects, such as the Thinking Skills Assessment and the Cambridge Law Test.<sup class=\"reference\" id=\"cite_ref-109\"><a href=\"#cite_note-109\">[108]</a></sup> The university is considering reintroducing an admissions exam for all subjects with effect from 2016.<sup class=\"reference\" id=\"cite_ref-110\"><a href=\"#cite_note-110\">[109]</a></sup> The university gave offers of admission to 33.5% of its applicants in 2016, the 2nd lowest amongst the <a href=\"/wiki/Russell_Group\" title=\"Russell Group\">Russell Group</a>, behind Oxford.<sup class=\"reference\" id=\"cite_ref-111\"><a href=\"#cite_note-111\">[110]</a></sup> The acceptance rate for students in the 2018–2019 cycle was 18.8%.<sup class=\"reference\" id=\"cite_ref-112\"><a href=\"#cite_note-112\">[111]</a></sup><sup class=\"reference\" id=\"cite_ref-113\"><a href=\"#cite_note-113\">[112]</a></sup>\n",
       " </p>,\n",
       " <p>Most applicants who are called for interview will have been predicted at least three A-grade <a class=\"mw-redirect\" href=\"/wiki/Advanced_Level_(UK)\" title=\"Advanced Level (UK)\">A-level</a> qualifications relevant to their chosen undergraduate course, or the equivalent in other qualifications, such as getting at least 7,7,6 for higher-level subjects at <a href=\"/wiki/International_Baccalaureate\" title=\"International Baccalaureate\">IB</a>. The A* A-level grade (introduced in 2010) now plays a part in the acceptance of applications, with the university's standard offer for most courses being set at A*AA,<sup class=\"reference\" id=\"cite_ref-114\"><a href=\"#cite_note-114\">[113]</a></sup><sup class=\"reference\" id=\"cite_ref-115\"><a href=\"#cite_note-115\">[114]</a></sup> with A*A*A for sciences courses. Due to a high proportion of applicants receiving the highest school grades, the interview process is needed for distinguishing between the most able candidates. The interview is performed by College Fellows, who evaluate candidates on unexamined factors such as potential for original thinking and creativity.<sup class=\"reference\" id=\"cite_ref-intguide_116-0\"><a href=\"#cite_note-intguide-116\">[115]</a></sup> For exceptional candidates, a <i>Matriculation Offer</i> was sometimes previously offered, requiring only two A-levels at grade E or above. In 2006, 5,228 students who were rejected went on to get 3 A levels or more at grade A, representing about 63% of all applicants rejected.<sup class=\"reference\" id=\"cite_ref-117\"><a href=\"#cite_note-117\">[116]</a></sup> The <a href=\"/wiki/Sutton_Trust\" title=\"Sutton Trust\">Sutton Trust</a> maintains that Oxford University and Cambridge University recruit disproportionately from 8 schools which accounted for 1,310 Oxbridge places during three years, contrasted with 1,220 from 2,900 other schools.<sup class=\"reference\" id=\"cite_ref-118\"><a href=\"#cite_note-118\">[117]</a></sup>\n",
       " </p>,\n",
       " <p>Strong applicants who are not successful at their chosen college may be placed in the <a href=\"/wiki/Winter_Pool\" title=\"Winter Pool\">Winter Pool</a>, where they can be offered places by other colleges. This is in order to maintain consistency throughout the colleges, some of which receive more applicants than others.\n",
       " </p>,\n",
       " <p>Graduate admission is first decided by the faculty or department relating to the applicant's subject. When an offer is made, this effectively guarantees admission to a college—though not necessarily the applicant's preferred choice.<sup class=\"reference\" id=\"cite_ref-119\"><a href=\"#cite_note-119\">[118]</a></sup>\n",
       " </p>,\n",
       " <p>Public debate in the United Kingdom continues over whether admissions processes at Oxford and Cambridge are entirely merit based and fair; whether enough students from <a href=\"/wiki/State_school#United_Kingdom\" title=\"State school\">state schools</a> are encouraged to apply to Cambridge; and whether these students succeed in gaining entry. In 2007–08, 57% of all successful applicants were from <a href=\"/wiki/State_school#United_Kingdom\" title=\"State school\">state schools</a><sup class=\"reference\" id=\"cite_ref-bbc08_122-0\"><a href=\"#cite_note-bbc08-122\">[121]</a></sup> (roughly 93 percent of all students in the UK attend state schools). Critics have argued that the lack of state school applicants with the required grades applying to Cambridge and Oxford has had a negative impact on <a href=\"/wiki/Oxbridge\" title=\"Oxbridge\">Oxbridge</a>'s reputation for many years, and the university has encouraged pupils from state schools to apply for Cambridge to help redress the imbalance.<sup class=\"reference\" id=\"cite_ref-123\"><a href=\"#cite_note-123\">[122]</a></sup> Others counter that government pressure to increase state school admissions constitutes inappropriate <a href=\"/wiki/Social_engineering_(political_science)\" title=\"Social engineering (political science)\">social engineering</a>.<sup class=\"reference\" id=\"cite_ref-124\"><a href=\"#cite_note-124\">[123]</a></sup><sup class=\"reference\" id=\"cite_ref-125\"><a href=\"#cite_note-125\">[124]</a></sup> The proportion of undergraduates drawn from independent schools has dropped over the years, and such applicants now form a (very large) minority (43%)<sup class=\"reference\" id=\"cite_ref-bbc08_122-1\"><a href=\"#cite_note-bbc08-122\">[121]</a></sup><sup class=\"reference\" id=\"cite_ref-126\"><a href=\"#cite_note-126\">[125]</a></sup> of the intake. In 2005, 32% of the 3599 applicants from independent schools were admitted to Cambridge, as opposed to 24% of the 6674 applications from state schools.<sup class=\"reference\" id=\"cite_ref-127\"><a href=\"#cite_note-127\">[126]</a></sup> In 2008 the University of Cambridge received a gift of £4m to improve its accessibility to candidates from maintained schools.<sup class=\"reference\" id=\"cite_ref-128\"><a href=\"#cite_note-128\">[127]</a></sup> Cambridge, together with Oxford and <a href=\"/wiki/Durham_University\" title=\"Durham University\">Durham</a>, is among those universities that have adopted formulae that gives a rating to the <a href=\"/wiki/General_Certificate_of_Secondary_Education\" title=\"General Certificate of Secondary Education\">GCSE</a> performance of every school in the country to \"weight\" the scores of university applicants.<sup class=\"reference\" id=\"cite_ref-129\"><a href=\"#cite_note-129\">[128]</a></sup><sup class=\"noprint Inline-Template\" style=\"white-space:nowrap;\">[<i><a href=\"/wiki/Wikipedia:Verifiability\" title=\"Wikipedia:Verifiability\"><span title=\"The material near this tag failed verification of its source citation(s). (April 2013)\">failed verification</span></a></i>]</sup>\n",
       " </p>,\n",
       " <p>With the release of admissions figures, a 2013 article in <i><a href=\"/wiki/The_Guardian\" title=\"The Guardian\">The Guardian</a></i> reported that ethnic minority candidates had lower success rates in individual subjects even when they had the same grades as white applicants. The university was hence criticised for what was seen as institutional discrimination against ethnic minority applicants in favour of white applicants. The university denied the claims of institutional discrimination by stating the figures did not take into account \"other variables\".<sup class=\"reference\" id=\"cite_ref-Guardian20130226_130-0\"><a href=\"#cite_note-Guardian20130226-130\">[129]</a></sup> A following article stated that in the years 2010–2012 ethnic minority applicants to medicine with 3 A* grades or higher were 20% less likely to gain admission than white applicants with similar grades. The University refused to provide figures for a wider range of subjects claiming it would be too costly.<sup class=\"reference\" id=\"cite_ref-131\"><a href=\"#cite_note-131\">[130]</a></sup>\n",
       " </p>,\n",
       " <p>There are a number of educational consultancies that offer support with the applications process. Some make claims of improved chances of admission but these claims are not independently verified. None of these companies are affiliated to or endorsed by the University of Cambridge. The university informs applicants that all important information regarding the application process is public knowledge and none of these services is providing any inside information.<sup class=\"reference\" id=\"cite_ref-132\"><a href=\"#cite_note-132\">[131]</a></sup>\n",
       " </p>,\n",
       " <p>Cambridge University has been criticised because many colleges admit a low proportion of black students though many apply. Of the 31 colleges at Cambridge 6 admitted fewer than 10 black or mixed race students from 2012 to 2016.<sup class=\"reference\" id=\"cite_ref-133\"><a href=\"#cite_note-133\">[132]</a></sup>\n",
       " </p>,\n",
       " <p>The academic year is divided into three academic terms, determined by the Statutes of the University.<sup class=\"reference\" id=\"cite_ref-134\"><a href=\"#cite_note-134\">[133]</a></sup> <a href=\"/wiki/Michaelmas_term\" title=\"Michaelmas term\">Michaelmas term</a> lasts from October to December; <a href=\"/wiki/Lent_term\" title=\"Lent term\">Lent term</a> from January to March; and <a href=\"/wiki/Easter_term\" title=\"Easter term\">Easter term</a> from April to June.\n",
       " </p>,\n",
       " <p>Within these terms undergraduate teaching takes place within eight-week periods called <a href=\"/wiki/Full_Term\" title=\"Full Term\">Full Terms</a>. According to the university statutes, it is a requirement that during this period all students should live within 3 miles of the <a href=\"/wiki/Church_of_St_Mary_the_Great,_Cambridge\" title=\"Church of St Mary the Great, Cambridge\">Church of St Mary the Great</a>; this is defined as <i>Keeping term</i>. Students can graduate only if they fulfill this condition for nine terms (three years) when obtaining a Bachelor of Arts or twelve terms (four years) when studying for a <a href=\"/wiki/Master%27s_degree\" title=\"Master's degree\">Master</a> of Science, Engineering or Mathematics.<sup class=\"reference\" id=\"cite_ref-135\"><a href=\"#cite_note-135\">[134]</a></sup>\n",
       " </p>,\n",
       " <p>These terms are shorter than those of many other British universities.<sup class=\"reference\" id=\"cite_ref-136\"><a href=\"#cite_note-136\">[135]</a></sup> Undergraduates are also expected to prepare heavily in the three holidays (known as the Christmas, Easter and Long Vacations).\n",
       " </p>,\n",
       " <p><a href=\"/wiki/Tripos\" title=\"Tripos\">Triposes</a> involve a mixture of lectures (organised by the university departments), and <a class=\"mw-redirect\" href=\"/wiki/Supervision_system\" title=\"Supervision system\">supervisions</a> (organised by the colleges). Science subjects also involve laboratory sessions, organised by the departments. The relative importance of these methods of teaching varies according to the needs of the subject. Supervisions are typically weekly hour-long sessions in which small groups of students (usually between one and three) meet with a member of the teaching staff or with a doctoral student. Students are normally required to complete an assignment in advance of the supervision, which they will discuss with the supervisor during the session, along with any concerns or difficulties they have had with the material presented in that week's lectures. The assignment is often an essay on a subject set by the supervisor, or a problem sheet set by the lecturer. Depending on the subject and college, students might receive between one and four supervisions per week.<sup class=\"reference\" id=\"cite_ref-137\"><a href=\"#cite_note-137\">[136]</a></sup> This <a href=\"/wiki/Tutorial_system\" title=\"Tutorial system\">pedagogical system</a> is often cited as being unique to Oxford (where \"supervisions\" are known as \"<a href=\"/wiki/Tutorial\" title=\"Tutorial\">tutorials</a>\")<sup class=\"reference\" id=\"cite_ref-138\"><a href=\"#cite_note-138\">[137]</a></sup> and Cambridge.\n",
       " </p>,\n",
       " <p>A tutor named <a class=\"mw-redirect\" href=\"/wiki/William_Farish_(professor)\" title=\"William Farish (professor)\">William Farish</a> developed the concept of grading students' work quantitatively at the University of Cambridge in 1792.<sup class=\"reference\" id=\"cite_ref-139\"><a href=\"#cite_note-139\">[138]</a></sup>\n",
       " </p>,\n",
       " <p>The University of Cambridge has research departments and teaching faculties in most academic disciplines. All research and lectures are conducted by university departments. The colleges are in charge of giving or arranging most supervisions, student accommodation, and funding most extracurricular activities. During the 1990s Cambridge added a substantial number of new specialist research laboratories on several sites around the city, and major expansion continues on a number of sites.<sup class=\"reference\" id=\"cite_ref-140\"><a href=\"#cite_note-140\">[139]</a></sup>\n",
       " </p>,\n",
       " <p>Cambridge also has a research partnership with <a class=\"mw-redirect\" href=\"/wiki/MIT\" title=\"MIT\">MIT</a> in the United States: the <a href=\"/wiki/Cambridge%E2%80%93MIT_Institute\" title=\"Cambridge–MIT Institute\">Cambridge–MIT Institute</a>.\n",
       " </p>,\n",
       " <p>Unlike in most universities, the <a class=\"mw-redirect\" href=\"/wiki/Master_of_Arts_(Oxbridge_and_Dublin)\" title=\"Master of Arts (Oxbridge and Dublin)\">Cambridge Master of Arts</a> is not awarded by merit of study, but by right, four years after being awarded the BA.\n",
       " </p>,\n",
       " <p>At the University of Cambridge, each graduation is a separate act of the university's governing body, the <a href=\"/wiki/Regent_House\" title=\"Regent House\">Regent House</a>, and must be voted on as with any other act. A formal meeting of the Regent House, known as a <a href=\"/wiki/Congregation_(university)\" title=\"Congregation (university)\"><i>Congregation</i></a>, is held for this purpose.<sup class=\"reference\" id=\"cite_ref-Ceremony_141-0\"><a href=\"#cite_note-Ceremony-141\">[140]</a></sup>\n",
       " This is the common last act at which all the different university procedures (for: undergraduate and graduate students; and the different degrees) land. After degrees are approved, to have them conferred candidates must ask their Colleges to be presented during a Congregation.\n",
       " </p>,\n",
       " <p>Graduates receiving an undergraduate degree wear the <a href=\"/wiki/Academic_dress_of_the_University_of_Cambridge\" title=\"Academic dress of the University of Cambridge\">academic dress</a> that they were entitled to before graduating: for example, most students becoming Bachelors of Arts wear undergraduate gowns and not BA gowns. Graduates receiving a postgraduate degree (e.g. PhD or Master's) wear the academic dress that they were entitled to before graduating, only if their first degree was also from the University of Cambridge; if their first degree is from another university, they wear the academic dress of the degree that they are about to receive, the BA gown without the strings if they are under 24 years of age, or the MA gown without strings if they are 24 and over.<sup class=\"reference\" id=\"cite_ref-142\"><a href=\"#cite_note-142\">[141]</a></sup> Graduates are presented in the Senate House college by college, in order of foundation or recognition by the university, except for the royal colleges.\n",
       " </p>,\n",
       " <p>During the congregation, graduands are brought forth by the <a href=\"/wiki/Praelector\" title=\"Praelector\">Praelector</a> of their college, who takes them by the right hand, and presents them to the vice-chancellor for the degree they are about to take. The Praelector presents graduands with the following <a href=\"/wiki/Latin\" title=\"Latin\">Latin</a> statement (the following forms were used when the vice-chancellor was female), substituting \"____\" with the name of the degree:\n",
       " </p>,\n",
       " <p>\"<i lang=\"la\" title=\"Latin language text\">Dignissima domina, Domina Procancellaria et tota Academia praesento vobis hunc virum quem scio tam moribus quam doctrina esse idoneum ad gradum assequendum _____; idque tibi fide mea praesto totique Academiae.</i>\n",
       " </p>,\n",
       " <p>    (Most worthy Vice-Chancellor and the whole University, I present to you this man whom I know to be suitable as much by character as by learning to proceed to the degree of ____; for which I pledge my faith to you and to the whole University.)\"\n",
       " </p>,\n",
       " <p>and female graduands with the following:\n",
       " </p>,\n",
       " <p>    \"<i lang=\"la\" title=\"Latin language text\">Dignissima domina, Domina Procancellaria et tota Academia praesento vobis hanc mulierem quam scio tam moribus quam doctrina esse idoneam ad gradum assequendum ____; idque tibi fide mea praesto totique Academiae.</i>\n",
       " </p>,\n",
       " <p>    (Most worthy Vice-Chancellor and the whole University, I present to you this woman whom I know to be suitable as much by character as by learning to proceed to the degree of ____; for which I pledge my faith to you and to the whole University.)\"\n",
       " </p>,\n",
       " <p>After presentation, the graduand is called by name and kneels before the vice-chancellor and proffers their hands to the vice-chancellor, who clasps them and then confers the degree through the following Latin statement—the <a href=\"/wiki/Trinitarian_formula\" title=\"Trinitarian formula\">Trinitarian formula</a> (<i lang=\"la\" title=\"Latin language text\">in nomine Patris</i>...) may be omitted at the request of the graduand:\n",
       " </p>,\n",
       " <p>    \"<i lang=\"la\" title=\"Latin language text\">Auctoritate mihi commissa admitto te ad gradum ____, in nomine Patris et Filii et Spiritus Sancti.</i>\n",
       " </p>,\n",
       " <p>\n",
       "     (By the authority committed to me, I admit you to the degree of ____, in the name of the Father and of the Son and of the Holy Spirit.)\"</p>,\n",
       " <p>The now-graduate then rises, bows and leaves the Senate House through the Doctor's door, where he or she receives his or her certificate, into <a class=\"mw-redirect\" href=\"/wiki/Senate_House_Passage\" title=\"Senate House Passage\">Senate House Passage</a>.<sup class=\"reference\" id=\"cite_ref-Ceremony_141-1\"><a href=\"#cite_note-Ceremony-141\">[140]</a></sup>\n",
       " </p>,\n",
       " <p>The university has <a class=\"mw-redirect\" href=\"/wiki/Libraries_of_Cambridge_University\" title=\"Libraries of Cambridge University\">114 libraries</a>.<sup class=\"reference\" id=\"cite_ref-143\"><a href=\"#cite_note-143\">[142]</a></sup> The <a href=\"/wiki/Cambridge_University_Library\" title=\"Cambridge University Library\">Cambridge University Library</a> is the central research library, which holds over 8 million volumes. It is a <a href=\"/wiki/Legal_deposit\" title=\"Legal deposit\">legal deposit</a> library, therefore it is entitled to request a free copy of every book published in the UK and Ireland.<sup class=\"reference\" id=\"cite_ref-144\"><a href=\"#cite_note-144\">[143]</a></sup> In addition to the University Library and its dependents, almost every faculty or department has a specialised library; for example, the History Faculty's <a href=\"/wiki/Seeley_Historical_Library\" title=\"Seeley Historical Library\">Seeley Historical Library</a> possesses more than 100,000 books. Furthermore, every college has a library as well, partially for the purposes of undergraduate teaching, and the older colleges often possess many early books and manuscripts in a separate library. For example, <a href=\"/wiki/Trinity_College,_Cambridge\" title=\"Trinity College, Cambridge\">Trinity College's</a> <a class=\"mw-redirect\" href=\"/wiki/Wren_Library,_Cambridge\" title=\"Wren Library, Cambridge\">Wren Library</a> has more than 200,000 books printed before 1800, while <a href=\"/wiki/Corpus_Christi_College,_Cambridge\" title=\"Corpus Christi College, Cambridge\">Corpus Christi College's</a> <a href=\"/wiki/Parker_Library,_Corpus_Christi_College\" title=\"Parker Library, Corpus Christi College\">Parker Library</a> possesses one of the greatest collections of medieval manuscripts in the world, with over 600 manuscripts.\n",
       " </p>,\n",
       " <p>Cambridge University operates eight arts, cultural, and scientific museums, and a botanic garden.<sup class=\"reference\" id=\"cite_ref-145\"><a href=\"#cite_note-145\">[144]</a></sup> The <a href=\"/wiki/Fitzwilliam_Museum\" title=\"Fitzwilliam Museum\">Fitzwilliam Museum</a>, is the art and antiquities museum, the <a href=\"/wiki/Kettle%27s_Yard\" title=\"Kettle's Yard\">Kettle's Yard</a> is a contemporary art gallery, the <a href=\"/wiki/Museum_of_Archaeology_and_Anthropology,_University_of_Cambridge\" title=\"Museum of Archaeology and Anthropology, University of Cambridge\">Museum of Archaeology and Anthropology</a> houses the university's collections of local antiquities, together with archaeological and ethnographic artefacts from around the world, the <a href=\"/wiki/Cambridge_University_Museum_of_Zoology\" title=\"Cambridge University Museum of Zoology\">Cambridge University Museum of Zoology</a> houses a wide range of zoological specimens from around the world and is known for its iconic <a class=\"mw-redirect\" href=\"/wiki/Finback_whale\" title=\"Finback whale\">finback whale</a> skeleton that hangs outside. This Museum also has specimens collected by <a href=\"/wiki/Charles_Darwin\" title=\"Charles Darwin\">Charles Darwin</a>. Other museums include, the <a href=\"/wiki/Museum_of_Classical_Archaeology,_Cambridge\" title=\"Museum of Classical Archaeology, Cambridge\">Museum of Classical Archaeology</a>, the <a href=\"/wiki/Whipple_Museum_of_the_History_of_Science\" title=\"Whipple Museum of the History of Science\">Whipple Museum of the History of Science</a>, the <a href=\"/wiki/Sedgwick_Museum_of_Earth_Sciences\" title=\"Sedgwick Museum of Earth Sciences\">Sedgwick Museum of Earth Sciences</a> which is the geology museum of the university, the <a href=\"/wiki/Scott_Polar_Research_Institute#The_Polar_Museum\" title=\"Scott Polar Research Institute\">Polar Museum</a>, part of the <a href=\"/wiki/Scott_Polar_Research_Institute\" title=\"Scott Polar Research Institute\">Scott Polar Research Institute</a> which is dedicated to <a class=\"mw-redirect\" href=\"/wiki/Captain_Scott\" title=\"Captain Scott\">Captain Scott</a> and his men, and focuses on the exploration of the Polar Regions.\n",
       " </p>,\n",
       " <p>The <a href=\"/wiki/Cambridge_University_Botanic_Garden\" title=\"Cambridge University Botanic Garden\">Cambridge University Botanic Garden</a> is the botanic garden of the university, created in 1831.\n",
       " </p>,\n",
       " <p>The university's publishing arm, the <a href=\"/wiki/Cambridge_University_Press\" title=\"Cambridge University Press\">Cambridge University Press</a>, is the oldest printer and publisher in the world, and it is the second largest university press in the world.<sup class=\"reference\" id=\"cite_ref-146\"><a href=\"#cite_note-146\">[145]</a></sup><sup class=\"reference\" id=\"cite_ref-147\"><a href=\"#cite_note-147\">[146]</a></sup>\n",
       " </p>,\n",
       " <p>The university set up its Local Examination Syndicate in 1858. Today, the syndicate, which is known as <a class=\"mw-redirect\" href=\"/wiki/Cambridge_Assessment\" title=\"Cambridge Assessment\">Cambridge Assessment</a>, is Europe's largest assessment agency and it plays a leading role in researching, developing and delivering assessments across the globe.<sup class=\"reference\" id=\"cite_ref-148\"><a href=\"#cite_note-148\">[147]</a></sup>\n",
       " </p>,\n",
       " <p>In 2011, <a href=\"/wiki/Times_Higher_Education\" title=\"Times Higher Education\">Times Higher Education</a> (THE) recognised Cambridge as one of the world's \"six super brands\" on its <i>World Reputation Rankings</i>, along with <a href=\"/wiki/University_of_California,_Berkeley\" title=\"University of California, Berkeley\">Berkeley</a>, <a href=\"/wiki/Harvard_University\" title=\"Harvard University\">Harvard</a>, <a href=\"/wiki/Massachusetts_Institute_of_Technology\" title=\"Massachusetts Institute of Technology\">MIT</a>, <a href=\"/wiki/University_of_Oxford\" title=\"University of Oxford\">Oxford</a> and <a href=\"/wiki/Stanford_University\" title=\"Stanford University\">Stanford</a>.<sup class=\"reference\" id=\"cite_ref-156\"><a href=\"#cite_note-156\">[155]</a></sup> As of September 2017<sup class=\"plainlinks noexcerpt noprint asof-tag update\" style=\"display:none;\"><a class=\"external text\" href=\"https://en.wikipedia.org/w/index.php?title=University_of_Cambridge&amp;action=edit\">[update]</a></sup>, Cambridge is recognised by THE as the world's second best university.<sup class=\"reference\" id=\"cite_ref-World_University_Rankings_157-0\"><a href=\"#cite_note-World_University_Rankings-157\">[156]</a></sup>\n",
       " </p>,\n",
       " <p>According to the 2016 Complete University Guide, the University of Cambridge is ranked first amongst the UK's universities; this ranking is based on a broad raft of criteria from entry standards and student satisfaction to quality of teaching in specific subjects and job prospects for graduates.<sup class=\"reference\" id=\"cite_ref-158\"><a href=\"#cite_note-158\">[157]</a></sup> The University is ranked as the 2nd best university in the UK for the quality of graduates according to recruiters from the UK's major companies.<sup class=\"reference\" id=\"cite_ref-159\"><a href=\"#cite_note-159\">[158]</a></sup>\n",
       " </p>,\n",
       " <p>In 2014–15, according to University Ranking by Academic Performance (URAP), Cambridge is ranked second in UK (coming second to Oxford) and ranked fifth in the world.<sup class=\"reference\" id=\"cite_ref-160\"><a href=\"#cite_note-160\">[159]</a></sup>\n",
       " </p>,\n",
       " <p>In the 2001 and 2008 Government <a href=\"/wiki/Research_Assessment_Exercise\" title=\"Research Assessment Exercise\">Research Assessment Exercises</a>, Cambridge was ranked first in the country.<sup class=\"reference\" id=\"cite_ref-161\"><a href=\"#cite_note-161\">[160]</a></sup> In 2005, it was reported that Cambridge produces more PhDs per year than any other British university (over 30% more than second placed Oxford).<sup class=\"reference\" id=\"cite_ref-162\"><a href=\"#cite_note-162\">[161]</a></sup> In 2006, a <a href=\"/wiki/Thomson_Scientific\" title=\"Thomson Scientific\">Thomson Scientific</a> study showed that Cambridge has the highest research paper output of any British university, and is also the top research producer (as assessed by total paper citation count) in 10 out of 21 major British research fields analysed.<sup class=\"reference\" id=\"cite_ref-163\"><a href=\"#cite_note-163\">[162]</a></sup> Another study published the same year by Evidence showed that Cambridge won a larger proportion (6.6%) of total British research grants and contracts than any other university (coming first in three out of four broad discipline fields).<sup class=\"reference\" id=\"cite_ref-164\"><a href=\"#cite_note-164\">[163]</a></sup>\n",
       " The university is also closely linked with the development of the high-tech <a href=\"/wiki/Business_cluster\" title=\"Business cluster\">business cluster</a> in and around Cambridge, which forms the area known as <a href=\"/wiki/Silicon_Fen\" title=\"Silicon Fen\">Silicon Fen</a> or sometimes the \"Cambridge Phenomenon\". In 2004, it was reported that Silicon Fen was the second largest <a href=\"/wiki/Venture_capital\" title=\"Venture capital\">venture capital</a> market in the world, after <a href=\"/wiki/Silicon_Valley\" title=\"Silicon Valley\">Silicon Valley</a>. Estimates reported in February 2006 suggest that there were about 250 active <a href=\"/wiki/Startup_company\" title=\"Startup company\">startup companies</a> directly linked with the university, worth around US$6 billion.<sup class=\"reference\" id=\"cite_ref-165\"><a href=\"#cite_note-165\">[164]</a></sup>\n",
       " </p>,\n",
       " <p>Cambridge has been highly ranked by most <a class=\"mw-redirect\" href=\"/wiki/University_rankings\" title=\"University rankings\">international</a> and <a href=\"/wiki/Rankings_of_universities_in_the_United_Kingdom\" title=\"Rankings of universities in the United Kingdom\">UK</a> league tables. In particular, it had topped the <i>QS World University Rankings</i> from 2010/11 to 2011/12.<sup class=\"reference\" id=\"cite_ref-QS2010_166-0\"><a href=\"#cite_note-QS2010-166\">[165]</a></sup><sup class=\"reference\" id=\"cite_ref-QS2011_167-0\"><a href=\"#cite_note-QS2011-167\">[166]</a></sup> A 2006 <i><a href=\"/wiki/Newsweek\" title=\"Newsweek\">Newsweek</a></i> overall ranking, which combined elements of the THES-QS and ARWU rankings with other factors that purportedly evaluated an institution's global \"openness and diversity\", suggested Cambridge was sixth around the globe.<sup class=\"reference\" id=\"cite_ref-168\"><a href=\"#cite_note-168\">[167]</a></sup> In <i>The Guardian</i> newspaper's 2012 rankings, Cambridge had overtaken Oxford in philosophy, law, politics, theology, maths, classics, anthropology and modern languages.<sup class=\"reference\" id=\"cite_ref-Shepherd_169-0\"><a href=\"#cite_note-Shepherd-169\">[168]</a></sup> In the 2009 <i>Times Good University Guide Subject Rankings</i>, it was ranked top (or joint top) in 34 out of the 42 subjects which it offers.<sup class=\"reference\" id=\"cite_ref-170\"><a href=\"#cite_note-170\">[169]</a></sup> But Cambridge has been ranked only 30th in the world and 3rd in the UK by the <i><a href=\"/wiki/Mines_ParisTech:_Professional_Ranking_of_World_Universities\" title=\"Mines ParisTech: Professional Ranking of World Universities\">Mines ParisTech: Professional Ranking of World Universities</a></i> based on the number of alumni holding CEO position in <a href=\"/wiki/Fortune_Global_500\" title=\"Fortune Global 500\">Fortune Global 500</a> companies.\n",
       " </p>,\n",
       " <p>There are two Student Unions in Cambridge: CUSU (the Cambridge University Students‘ Union) and the GU (the Graduate Union). CUSU represents all University students, and the GU solely represents graduate students. All students are automatically members of either CUSU or both CUSU and GU, depending on their course of study.<sup class=\"reference\" id=\"cite_ref-171\"><a href=\"#cite_note-171\">[170]</a></sup><sup class=\"reference\" id=\"cite_ref-172\"><a href=\"#cite_note-172\">[171]</a></sup>\n",
       " </p>,\n",
       " <p>CUSU was founded in 1964 as the <i>Students' Representative Council</i> (SRC); the six most important positions in the Union are occupied by <a href=\"/wiki/Sabbatical_officer\" title=\"Sabbatical officer\">sabbatical officers</a>.<sup class=\"reference\" id=\"cite_ref-173\"><a href=\"#cite_note-173\">[172]</a></sup> However, turnout in recent elections has been low, with the 2014/15 president elected with votes in favour from only 7.5% of the whole student body.<sup class=\"reference\" id=\"cite_ref-174\"><a href=\"#cite_note-174\">[173]</a></sup>\n",
       " </p>,\n",
       " <p><a href=\"/wiki/Rowing_(sport)\" title=\"Rowing (sport)\">Rowing</a> is a particularly popular sport at Cambridge, and there are competitions between colleges, notably the <a href=\"/wiki/Bumps_race\" title=\"Bumps race\">bumps races</a>, and against Oxford, the <a class=\"mw-redirect\" href=\"/wiki/Boat_Race\" title=\"Boat Race\">Boat Race</a>. There are also <a href=\"/wiki/Varsity_match\" title=\"Varsity match\">Varsity matches</a> against Oxford in many other sports, ranging from <a href=\"/wiki/Cambridge_University_Cricket_Club\" title=\"Cambridge University Cricket Club\">cricket</a> and <a href=\"/wiki/Cambridge_University_R.U.F.C.\" title=\"Cambridge University R.U.F.C.\">rugby</a>, to <a href=\"/wiki/Chess\" title=\"Chess\">chess</a> and <a href=\"/wiki/Tiddlywinks\" title=\"Tiddlywinks\">tiddlywinks</a>. Athletes representing the university in certain sports are entitled to apply for a <a class=\"mw-redirect\" href=\"/wiki/Cambridge_Blue\" title=\"Cambridge Blue\">Cambridge Blue</a> at the discretion of the <i>Blues Committee</i>, consisting of the captains of the thirteen most prestigious sports. There is also the self-described \"unashamedly elite\" <a href=\"/wiki/Hawks%27_Club\" title=\"Hawks' Club\">Hawks' Club</a>, which is for men only, whose membership is usually restricted to Cambridge Full Blues and Half Blues.<sup class=\"reference\" id=\"cite_ref-175\"><a href=\"#cite_note-175\">[174]</a></sup> The Ospreys are the equivalent female club.\n",
       " </p>,\n",
       " <p>The <a href=\"/wiki/University_of_Cambridge_Sports_Centre\" title=\"University of Cambridge Sports Centre\">University of Cambridge Sports Centre</a> opened in August 2013. Phase 1 included a 37x34m Sports Hall, a Fitness Suite, a Strength and Conditioning Room, a Multi-Purpose Room and <a href=\"/wiki/Eton_Fives\" title=\"Eton Fives\">Eton</a> and <a href=\"/wiki/Rugby_Fives\" title=\"Rugby Fives\">Rugby Fives</a> courts. Phase 1b included 5 glass backed <a href=\"/wiki/Squash_(sport)\" title=\"Squash (sport)\">squash</a> courts and a Team Training Room. Future phases include indoor and outdoor tennis courts and a swimming pool.<sup class=\"reference\" id=\"cite_ref-176\"><a href=\"#cite_note-176\">[175]</a></sup>\n",
       " </p>,\n",
       " <p>The university also has an <a href=\"/wiki/Cambridge_%26_Coleridge_Athletic_Club\" title=\"Cambridge &amp; Coleridge Athletic Club\">Athletics Track</a> at Wilberforce Road, an Indoor Cricket School and <a href=\"/wiki/Fenner%27s\" title=\"Fenner's\">Fenner's</a> Cricket Ground.\n",
       " </p>,\n",
       " <p>Numerous student-run societies exist in order to encourage people who share a common passion or interest to periodically meet or discuss. As of 2010<sup class=\"plainlinks noexcerpt noprint asof-tag update\" style=\"display:none;\"><a class=\"external text\" href=\"https://en.wikipedia.org/w/index.php?title=University_of_Cambridge&amp;action=edit\">[update]</a></sup>, there were 751 registered societies.<sup class=\"reference\" id=\"cite_ref-177\"><a href=\"#cite_note-177\">[176]</a></sup> In addition to these, individual colleges often promote their own societies and sports teams.\n",
       " </p>,\n",
       " <p>Although technically independent from the university, the <a href=\"/wiki/Cambridge_Union\" title=\"Cambridge Union\">Cambridge Union</a> serves as a focus for debating and public speaking, as the oldest free speech society in the world, and the largest in Cambridge. Drama societies notably include the <a href=\"/wiki/Cambridge_University_Amateur_Dramatic_Club\" title=\"Cambridge University Amateur Dramatic Club\">Amateur Dramatic Club (ADC)</a> and the comedy club <a href=\"/wiki/Footlights\" title=\"Footlights\">Footlights</a>, which are known for producing well-known show-business personalities. The Cambridge University <a class=\"mw-redirect\" href=\"/wiki/Chamber_Orchestra\" title=\"Chamber Orchestra\">Chamber Orchestra</a> explores a range of programmes, from popular symphonies to lesser known works; membership of the orchestra is composed of students of the university.\n",
       " </p>,\n",
       " <p>Cambridge's oldest student newspaper is <i><a href=\"/wiki/Varsity_(Cambridge)\" title=\"Varsity (Cambridge)\">Varsity (Cambridge)</a></i>. Established in 1947, notable figures to have edited the paper include <a href=\"/wiki/Jeremy_Paxman\" title=\"Jeremy Paxman\">Jeremy Paxman</a>, BBC media editor <a href=\"/wiki/Amol_Rajan\" title=\"Amol Rajan\">Amol Rajan</a>, and Vogue international editor <a href=\"/wiki/Suzy_Menkes\" title=\"Suzy Menkes\">Suzy Menkes</a>. It has also featured the early writings of <a href=\"/wiki/Zadie_Smith\" title=\"Zadie Smith\">Zadie Smith</a> (who appeared in Varsity's literary anthology offshoot, <i><a href=\"/wiki/The_Mays\" title=\"The Mays\">The Mays</a></i>), <a href=\"/wiki/Robert_Webb\" title=\"Robert Webb\">Robert Webb</a>, <a href=\"/wiki/Tristram_Hunt\" title=\"Tristram Hunt\">Tristram Hunt</a>, and <a href=\"/wiki/Tony_Wilson\" title=\"Tony Wilson\">Tony Wilson</a>.\n",
       " </p>,\n",
       " <p>With a print run of 9,000, <i>Varsity</i> is the only student paper to go to print on a weekly basis. News stories from the paper have recently appeared in <i>The Guardian</i>, <i>The Times</i>, <i>The Sunday Times</i>, <i>The Daily Telegraph</i>, <i>The Independent</i>, and <i>The i</i>.\n",
       " </p>,\n",
       " <p>Other student publications include <i><a href=\"/wiki/The_Cambridge_Student\" title=\"The Cambridge Student\">The Cambridge Student</a></i>, which is funded by Cambridge University Students' Union and goes to print on a fortnightly basis, and <i><a href=\"/wiki/The_Tab\" title=\"The Tab\">The Tab</a></i>. Founded by two Cambridge students in 2009, <i>The Tab</i> is online-only (apart from one print edition in Freshers' Week), and mostly features light-hearted features content.\n",
       " </p>,\n",
       " <p><i><a href=\"/wiki/The_Mays\" title=\"The Mays\">The Mays</a></i> is a literary anthology made up of student prose, poetry, and visual art from both Cambridge and Oxford. Founded in 1992 by three Cambridge students, the anthology goes to print on an annual basis. It is overseen by Varsity Publications Ltd, the same body that is responsible for <i>Varsity</i>, the newspaper.\n",
       " </p>,\n",
       " <p>There are many other journals, magazines, and zines. Another literary journal, <i>Notes</i>, is published roughly two times per term. Many colleges also have their own publications run by students.\n",
       " </p>,\n",
       " <p>The student radio station, <a href=\"/wiki/Cam_FM\" title=\"Cam FM\">Cam FM</a>, is run together with students from Anglia Ruskin university. One of few student radio stations to have an FM licence (frequency 97.2 MHz), the station hosts a mixture of music, talk, and sports shows.\n",
       " </p>,\n",
       " <p>In addition to university-wide representation, students can benefit from their own college student unions, which are known as JCR (<i><a class=\"mw-redirect\" href=\"/wiki/Junior_Combination_Room\" title=\"Junior Combination Room\">Junior Combination Room</a></i>) for undergraduates and MCR (<i>Middle Combination Room</i>) for postgraduates. These serve as a link between college staff and members and consists of officers elected annually between the fellow students; individual JCR and MCRs also report to CUSU, which offers training courses for some of the positions within the body.<sup class=\"reference\" id=\"cite_ref-178\"><a href=\"#cite_note-178\">[177]</a></sup>\n",
       " </p>,\n",
       " <p>One privilege of student life at Cambridge is the opportunity to attend formal dinners at college. These are called <a href=\"/wiki/Formal_(university)\" title=\"Formal (university)\">Formal Hall</a> and occur regularly during term time. Students sit down for a meal in their <a class=\"mw-redirect\" href=\"/wiki/Academic_gown\" title=\"Academic gown\">gowns</a>, while <a href=\"/wiki/Fellow\" title=\"Fellow\">Fellows</a> eat separately at <i>High Table</i>: the beginning and end of the function is usually marked with a grace said in Latin. Special Formal Halls are organised for events such as Christmas and the Commemoration of Benefactors.<sup class=\"reference\" id=\"cite_ref-179\"><a href=\"#cite_note-179\">[178]</a></sup>\n",
       " </p>,\n",
       " <p>After the exam period, <a href=\"/wiki/May_Week\" title=\"May Week\">May Week</a> is held and it is customary to celebrate by attending <a class=\"mw-redirect\" href=\"/wiki/May_Ball\" title=\"May Ball\">May Balls</a>. These are all-night long lavish parties held in the colleges where food and drinks are served and entertainment is provided. <a href=\"/wiki/Time_(magazine)\" title=\"Time (magazine)\"><i>Time</i> magazine</a> argues that some of the larger May Balls are among the best private parties in the world. <i>Suicide Sunday</i>, the first day of May Week, is a popular date for organising <a class=\"mw-redirect\" href=\"/wiki/Garden_party\" title=\"Garden party\">garden parties</a>.<sup class=\"reference\" id=\"cite_ref-180\"><a href=\"#cite_note-180\">[179]</a></sup>\n",
       " </p>,\n",
       " <p>Over the course of its history, a number of Cambridge University academics and alumni have become notable in their fields, both academic and in the wider world. As of October 2019, 120 affiliates of the University of Cambridge have won <a href=\"/wiki/List_of_Nobel_laureates_by_university_affiliation\" title=\"List of Nobel laureates by university affiliation\">121 Nobel prizes</a> (<a href=\"/wiki/Frederick_Sanger\" title=\"Frederick Sanger\">Frederick Sanger</a> won twice<sup class=\"reference\" id=\"cite_ref-181\"><a href=\"#cite_note-181\">[180]</a></sup><sup class=\"reference\" id=\"cite_ref-182\"><a href=\"#cite_note-182\">[181]</a></sup>), with 70 former students of the university having won the prize. In addition, as of 2019, Cambridge alumni, faculty members and researchers have won <a href=\"/wiki/List_of_Fields_Medal_winners_by_university_affiliation\" title=\"List of Fields Medal winners by university affiliation\">11 Fields Medals</a> and <a href=\"/wiki/List_of_Turing_Award_laureates_by_university_affiliation\" title=\"List of Turing Award laureates by university affiliation\">7 Turing Awards</a>.\n",
       " </p>,\n",
       " <p>Among the most famous of Cambridge natural philosophers is <a class=\"mw-redirect\" href=\"/wiki/Sir_Isaac_Newton\" title=\"Sir Isaac Newton\">Sir Isaac Newton</a>, who conducted many of his experiments in the grounds of Trinity College. Others are <a class=\"mw-redirect\" href=\"/wiki/Sir_Francis_Bacon\" title=\"Sir Francis Bacon\">Sir Francis Bacon</a>, who was responsible for the development of the <a href=\"/wiki/Scientific_method\" title=\"Scientific method\">scientific method</a> and the mathematicians <a href=\"/wiki/John_Dee\" title=\"John Dee\">John Dee</a> and <a href=\"/wiki/Brook_Taylor\" title=\"Brook Taylor\">Brook Taylor</a>. <a href=\"/wiki/Pure_mathematics\" title=\"Pure mathematics\">Pure mathematicians</a> include <a href=\"/wiki/G._H._Hardy\" title=\"G. H. Hardy\">G. H. Hardy</a>, <a href=\"/wiki/John_Edensor_Littlewood\" title=\"John Edensor Littlewood\">John Edensor Littlewood</a> and <a href=\"/wiki/Augustus_De_Morgan\" title=\"Augustus De Morgan\">Augustus De Morgan</a>; <a class=\"mw-redirect\" href=\"/wiki/Sir_Michael_Atiyah\" title=\"Sir Michael Atiyah\">Sir Michael Atiyah</a>, a specialist in geometry; <a href=\"/wiki/William_Oughtred\" title=\"William Oughtred\">William Oughtred</a>, inventor of the <a href=\"/wiki/Logarithmic_scale\" title=\"Logarithmic scale\">logarithmic scale</a>; <a href=\"/wiki/John_Wallis\" title=\"John Wallis\">John Wallis</a>, first to state the law of acceleration; <a href=\"/wiki/Srinivasa_Ramanujan\" title=\"Srinivasa Ramanujan\">Srinivasa Ramanujan</a>, the self-taught genius who made substantial contributions to <a href=\"/wiki/Mathematical_analysis\" title=\"Mathematical analysis\">mathematical analysis</a>, <a href=\"/wiki/Number_theory\" title=\"Number theory\">number theory</a>, <a class=\"mw-redirect\" href=\"/wiki/Infinite_series\" title=\"Infinite series\">infinite series</a> and <a class=\"mw-redirect\" href=\"/wiki/Continued_fractions\" title=\"Continued fractions\">continued fractions</a>; and <a href=\"/wiki/James_Clerk_Maxwell\" title=\"James Clerk Maxwell\">James Clerk Maxwell</a>, who brought about the \"second great unification of physics\" (the first being accredited to Newton) with his classical theory of <a href=\"/wiki/Electromagnetic_radiation\" title=\"Electromagnetic radiation\">electromagnetic radiation</a>. In 1890, mathematician <a href=\"/wiki/Philippa_Fawcett\" title=\"Philippa Fawcett\">Philippa Fawcett</a> was the person with the highest score in the Cambridge Mathematical Tripos exams, but as a woman was unable to take the title of 'Senior Wrangler'.\n",
       " </p>,\n",
       " <p>In biology, <a href=\"/wiki/Charles_Darwin\" title=\"Charles Darwin\">Charles Darwin</a>, famous for developing the theory of <a href=\"/wiki/Natural_selection\" title=\"Natural selection\">natural selection</a>, was an alumnus of <a href=\"/wiki/Christ%27s_College,_Cambridge\" title=\"Christ's College, Cambridge\">Christ's College</a>, although his education was intended to allow him to become a clergyman. Biologists <a href=\"/wiki/Francis_Crick\" title=\"Francis Crick\">Francis Crick</a> and <a class=\"mw-redirect\" href=\"/wiki/James_D._Watson\" title=\"James D. Watson\">James Watson</a> worked out a model for the three-dimensional structure of <a href=\"/wiki/DNA\" title=\"DNA\">DNA</a> while working at the <a href=\"/wiki/Cavendish_Laboratory\" title=\"Cavendish Laboratory\">Cavendish Laboratory</a>; Cambridge graduates <a href=\"/wiki/Maurice_Wilkins\" title=\"Maurice Wilkins\">Maurice Wilkins</a> and especially <a href=\"/wiki/Rosalind_Franklin\" title=\"Rosalind Franklin\">Rosalind Franklin</a> produced key <a href=\"/wiki/X-ray_crystallography\" title=\"X-ray crystallography\">X-ray crystallography</a> data, which was shared with Watson by Wilkins. Wilkins went on to help verify the proposed structure and win the Nobel Prize with Watson and Crick. More recently, <a href=\"/wiki/Ian_Wilmut\" title=\"Ian Wilmut\">Sir Ian Wilmut</a> was part of the team responsible for the first cloning of a mammal (<a class=\"mw-redirect\" href=\"/wiki/Dolly_the_Sheep\" title=\"Dolly the Sheep\">Dolly the Sheep</a> in 1996), naturalist and broadcaster <a href=\"/wiki/David_Attenborough\" title=\"David Attenborough\">David Attenborough</a>, ethologist <a href=\"/wiki/Jane_Goodall\" title=\"Jane Goodall\">Jane Goodall</a>, expert on chimpanzees was a PhD student, anthropologist <a href=\"/wiki/Alison_Richard\" title=\"Alison Richard\">Dame Alison Richard</a>, former vice-chancellor of the university, and <a href=\"/wiki/Frederick_Sanger\" title=\"Frederick Sanger\">Frederick Sanger</a>, a biochemist known for developing <a href=\"/wiki/Sanger_sequencing\" title=\"Sanger sequencing\">Sanger sequencing</a> and receiving two Nobel prizes.\n",
       " </p>,\n",
       " <p>Despite the university's delay in admitting women to full degrees, Cambridge women were at the heart of scientific research throughout the 20th century. Notable female scientists include; biochemist <a href=\"/wiki/Marjory_Stephenson\" title=\"Marjory Stephenson\">Marjory Stephenson</a>, plant physiologist <a href=\"/wiki/Gabrielle_Howard\" title=\"Gabrielle Howard\">Gabrielle Howard</a>, social anthropologist <a href=\"/wiki/Audrey_Richards\" title=\"Audrey Richards\">Audrey Richards</a>, psycho-analyst <a href=\"/wiki/Alix_Strachey\" title=\"Alix Strachey\">Alix Strachey</a>, who with her husband translated the works of <a href=\"/wiki/Sigmund_Freud\" title=\"Sigmund Freud\">Sigmund Freud</a>, <a href=\"/wiki/Kavli_Prize\" title=\"Kavli Prize\">Kavli Prize</a>-winner <a href=\"/wiki/Brenda_Milner\" title=\"Brenda Milner\">Brenda Milner</a>, co-discovery of specialised brain networks for memory and cognition. Veterinary epidemiologist <a href=\"/wiki/Sarah_Cleaveland\" title=\"Sarah Cleaveland\">Sarah Cleaveland</a> has worked to eliminate <a href=\"/wiki/Rabies\" title=\"Rabies\">rabies</a> in the <a href=\"/wiki/Serengeti\" title=\"Serengeti\">Serengeti</a>.<sup class=\"reference\" id=\"cite_ref-183\"><a href=\"#cite_note-183\">[182]</a></sup>\n",
       " </p>,\n",
       " <p>The university can be considered the birthplace of the computer, mathematician <a href=\"/wiki/Charles_Babbage\" title=\"Charles Babbage\">Charles Babbage</a> designed the world's first computing system as early as the mid-1800s. <a href=\"/wiki/Alan_Turing\" title=\"Alan Turing\">Alan Turing</a> went on to devise what is essentially the basis for modern computing and <a href=\"/wiki/Maurice_Wilkes\" title=\"Maurice Wilkes\">Maurice Wilkes</a> later created the first programmable computer. The <a href=\"/wiki/Webcam\" title=\"Webcam\">webcam</a> was also invented at Cambridge University.<sup class=\"noprint Inline-Template Template-Fact\" style=\"white-space:nowrap;\">[<i><a href=\"/wiki/Wikipedia:Citation_needed\" title=\"Wikipedia:Citation needed\"><span title=\"This claim needs references to reliable sources. (January 2019)\">citation needed</span></a></i>]</sup>\n",
       " </p>,\n",
       " <p>In physics, <a href=\"/wiki/Ernest_Rutherford\" title=\"Ernest Rutherford\">Ernest Rutherford</a> who is regarded as the father of <a href=\"/wiki/Nuclear_physics\" title=\"Nuclear physics\">nuclear physics</a>, spent much of his life at the university where he worked closely with <a href=\"/wiki/Evan_James_Williams\" title=\"Evan James Williams\">E. J. Williams</a> and <a href=\"/wiki/Niels_Bohr\" title=\"Niels Bohr\">Niels Bohr</a>, a major contributor to the understanding of the <a href=\"/wiki/Atom\" title=\"Atom\">atom</a>, <a href=\"/wiki/J._J._Thomson\" title=\"J. J. Thomson\">J. J. Thomson</a>, discoverer of the <a href=\"/wiki/Electron\" title=\"Electron\">electron</a>, <a class=\"mw-redirect\" href=\"/wiki/Sir_James_Chadwick\" title=\"Sir James Chadwick\">Sir James Chadwick</a>, discoverer of the <a href=\"/wiki/Neutron\" title=\"Neutron\">neutron</a>, and <a href=\"/wiki/John_Cockcroft\" title=\"John Cockcroft\">Sir John Cockcroft</a> and <a href=\"/wiki/Ernest_Walton\" title=\"Ernest Walton\">Ernest Walton</a>, responsible for first splitting the atom. <a href=\"/wiki/J._Robert_Oppenheimer\" title=\"J. Robert Oppenheimer\">J. Robert Oppenheimer</a>, leader of the <a href=\"/wiki/Manhattan_Project\" title=\"Manhattan Project\">Manhattan Project</a> that developed the <a class=\"mw-redirect\" href=\"/wiki/Atomic_bomb\" title=\"Atomic bomb\">atomic bomb</a>, also studied under Rutherford and Thomson. <a href=\"/wiki/Joan_Curran\" title=\"Joan Curran\">Joan Curran</a> devised the <a href=\"/wiki/Chaff_(countermeasure)\" title=\"Chaff (countermeasure)\">'chaff'</a> technique during the Second World War to disrupt <a href=\"/wiki/Radar\" title=\"Radar\">radar</a> on enemy planes.\n",
       " </p>,\n",
       " <p>Astronomers <a class=\"mw-redirect\" href=\"/wiki/Sir_John_Herschel\" title=\"Sir John Herschel\">Sir John Herschel</a>, <a class=\"mw-redirect\" href=\"/wiki/Sir_Arthur_Eddington\" title=\"Sir Arthur Eddington\">Sir Arthur Eddington</a>, <a href=\"/wiki/Paul_Dirac\" title=\"Paul Dirac\">Paul Dirac</a>, the discoverer of <a href=\"/wiki/Antimatter\" title=\"Antimatter\">antimatter</a> and one of the pioneers of <a href=\"/wiki/Quantum_mechanics\" title=\"Quantum mechanics\">quantum mechanics</a>; <a href=\"/wiki/Stephen_Hawking\" title=\"Stephen Hawking\">Stephen Hawking</a>, theoretical physicist and the university's long-serving <a href=\"/wiki/Lucasian_Professor_of_Mathematics\" title=\"Lucasian Professor of Mathematics\">Lucasian Professor of Mathematics</a> until 2009; and <a class=\"mw-redirect\" href=\"/wiki/Martin_Rees,_Baron_Rees_of_Ludlow\" title=\"Martin Rees, Baron Rees of Ludlow\">Lord Martin Rees</a>, the current <a href=\"/wiki/Astronomer_Royal\" title=\"Astronomer Royal\">Astronomer Royal</a> and former Master of Trinity College. <a href=\"/wiki/John_Polkinghorne\" title=\"John Polkinghorne\">John Polkinghorne</a>, a mathematician before his entrance into the <a href=\"/wiki/Church_of_England\" title=\"Church of England\">Anglican</a> <a href=\"/wiki/Minister_(Christianity)\" title=\"Minister (Christianity)\">ministry</a>, received the <a href=\"/wiki/Templeton_Prize\" title=\"Templeton Prize\">Templeton Prize</a> for his work reconciling science and religion.\n",
       " </p>,\n",
       " <p>Other significant scientists include <a href=\"/wiki/Henry_Cavendish\" title=\"Henry Cavendish\">Henry Cavendish</a>, the discoverer of <a href=\"/wiki/Hydrogen\" title=\"Hydrogen\">hydrogen</a>; <a href=\"/wiki/Frank_Whittle\" title=\"Frank Whittle\">Frank Whittle</a>, co-inventor of the jet engine; <a href=\"/wiki/William_Thomson,_1st_Baron_Kelvin\" title=\"William Thomson, 1st Baron Kelvin\">William Thomson (Lord Kelvin)</a>, who formulated the original <a class=\"mw-redirect\" href=\"/wiki/Laws_of_Thermodynamics\" title=\"Laws of Thermodynamics\">Laws of Thermodynamics</a>; <a class=\"mw-redirect\" href=\"/wiki/William_Fox_Talbot\" title=\"William Fox Talbot\">William Fox Talbot</a>, who invented the camera, <a href=\"/wiki/Alfred_North_Whitehead\" title=\"Alfred North Whitehead\">Alfred North Whitehead</a>, Einstein's major opponent; <a href=\"/wiki/Jagadish_Chandra_Bose\" title=\"Jagadish Chandra Bose\">Sir Jagadish Chandra Bose</a>, one of the fathers of radio science; <a href=\"/wiki/John_William_Strutt,_3rd_Baron_Rayleigh\" title=\"John William Strutt, 3rd Baron Rayleigh\">Lord Rayleigh</a>, who made extensive contributions to both theoretical and experimental physics in the 20th century; and <a href=\"/wiki/Georges_Lema%C3%AEtre\" title=\"Georges Lemaître\">Georges Lemaître</a>, who first proposed a <a href=\"/wiki/Big_Bang\" title=\"Big Bang\">Big Bang</a> theory.\n",
       " </p>,\n",
       " <p>In the humanities, Greek studies were inaugurated at Cambridge in the early sixteenth century by <a class=\"mw-redirect\" href=\"/wiki/Desiderius_Erasmus\" title=\"Desiderius Erasmus\">Desiderius Erasmus</a>; contributions to the field were made by <a href=\"/wiki/Richard_Bentley\" title=\"Richard Bentley\">Richard Bentley</a> and <a href=\"/wiki/Richard_Porson\" title=\"Richard Porson\">Richard Porson</a>. <a href=\"/wiki/John_Chadwick\" title=\"John Chadwick\">John Chadwick</a> was associated with <a href=\"/wiki/Michael_Ventris\" title=\"Michael Ventris\">Michael Ventris</a> in the decipherment of <a href=\"/wiki/Linear_B\" title=\"Linear B\">Linear B</a>. The Latinist <a href=\"/wiki/A._E._Housman\" title=\"A. E. Housman\">A. E. Housman</a> taught at Cambridge but is more widely known as a poet. <a href=\"/wiki/Simon_Ockley\" title=\"Simon Ockley\">Simon Ockley</a> made a significant contribution to <a href=\"/wiki/Arabist\" title=\"Arabist\">Arabic Studies</a>.\n",
       " </p>,\n",
       " <p>Distinguished Cambridge academics include economists such as <a href=\"/wiki/John_Maynard_Keynes\" title=\"John Maynard Keynes\">John Maynard Keynes</a>, <a class=\"mw-redirect\" href=\"/wiki/Thomas_Malthus\" title=\"Thomas Malthus\">Thomas Malthus</a>, <a href=\"/wiki/Alfred_Marshall\" title=\"Alfred Marshall\">Alfred Marshall</a>, <a href=\"/wiki/Milton_Friedman\" title=\"Milton Friedman\">Milton Friedman</a>, <a href=\"/wiki/Joan_Robinson\" title=\"Joan Robinson\">Joan Robinson</a>, <a href=\"/wiki/Piero_Sraffa\" title=\"Piero Sraffa\">Piero Sraffa</a>, <a href=\"/wiki/Ha-Joon_Chang\" title=\"Ha-Joon Chang\">Ha-Joon Chang</a> and <a href=\"/wiki/Amartya_Sen\" title=\"Amartya Sen\">Amartya Sen</a>, a former Master of Trinity College. Philosophers <a class=\"mw-redirect\" href=\"/wiki/Sir_Francis_Bacon\" title=\"Sir Francis Bacon\">Sir Francis Bacon</a>, <a href=\"/wiki/Bertrand_Russell\" title=\"Bertrand Russell\">Bertrand Russell</a>, <a href=\"/wiki/Ludwig_Wittgenstein\" title=\"Ludwig Wittgenstein\">Ludwig Wittgenstein</a>, <a href=\"/wiki/Leo_Strauss\" title=\"Leo Strauss\">Leo Strauss</a>, <a href=\"/wiki/George_Santayana\" title=\"George Santayana\">George Santayana</a>, <a href=\"/wiki/G._E._M._Anscombe\" title=\"G. E. M. Anscombe\">G. E. M. Anscombe</a>, <a href=\"/wiki/Karl_Popper\" title=\"Karl Popper\">Sir Karl Popper</a>, <a href=\"/wiki/Bernard_Williams\" title=\"Bernard Williams\">Sir Bernard Williams</a>, <a class=\"mw-redirect\" href=\"/wiki/Sir_Allama_Muhammad_Iqbal\" title=\"Sir Allama Muhammad Iqbal\">Sir Allama Muhammad Iqbal</a> and <a href=\"/wiki/G._E._Moore\" title=\"G. E. Moore\">G. E. Moore</a> were all Cambridge scholars, as were historians such as <a class=\"mw-redirect\" href=\"/wiki/Thomas_Babington_Macaulay,_1st_Baron_Macaulay\" title=\"Thomas Babington Macaulay, 1st Baron Macaulay\">Thomas Babington Macaulay</a>, <a href=\"/wiki/Frederic_William_Maitland\" title=\"Frederic William Maitland\">Frederic William Maitland</a>, <a class=\"mw-redirect\" href=\"/wiki/Lord_Acton\" title=\"Lord Acton\">Lord Acton</a>, <a href=\"/wiki/Joseph_Needham\" title=\"Joseph Needham\">Joseph Needham</a>, <a href=\"/wiki/E._H._Carr\" title=\"E. H. Carr\">E. H. Carr</a>, <a href=\"/wiki/Hugh_Trevor-Roper\" title=\"Hugh Trevor-Roper\">Hugh Trevor-Roper</a>, <a href=\"/wiki/Rhoda_Dorsey\" title=\"Rhoda Dorsey\">Rhoda Dorsey</a>, <a href=\"/wiki/E._P._Thompson\" title=\"E. P. Thompson\">E. P. Thompson</a>, <a href=\"/wiki/Eric_Hobsbawm\" title=\"Eric Hobsbawm\">Eric Hobsbawm</a>, <a href=\"/wiki/Niall_Ferguson\" title=\"Niall Ferguson\">Niall Ferguson</a> and <a class=\"mw-redirect\" href=\"/wiki/Arthur_M._Schlesinger,_Jr.\" title=\"Arthur M. Schlesinger, Jr.\">Arthur M. Schlesinger, Jr.</a>, and famous lawyers such as <a href=\"/wiki/Glanville_Williams\" title=\"Glanville Williams\">Glanville Williams</a>, <a href=\"/wiki/James_Fitzjames_Stephen\" title=\"James Fitzjames Stephen\">Sir James Fitzjames Stephen</a>, and <a class=\"mw-redirect\" href=\"/wiki/Sir_Edward_Coke\" title=\"Sir Edward Coke\">Sir Edward Coke</a>.\n",
       " </p>,\n",
       " <p>Religious figures have included <a href=\"/wiki/Rowan_Williams\" title=\"Rowan Williams\">Rowan Williams</a>, former <a href=\"/wiki/Archbishop_of_Canterbury\" title=\"Archbishop of Canterbury\">Archbishop of Canterbury</a> and his predecessors; <a href=\"/wiki/William_Tyndale\" title=\"William Tyndale\">William Tyndale</a>, the biblical translator; <a href=\"/wiki/Thomas_Cranmer\" title=\"Thomas Cranmer\">Thomas Cranmer</a>, <a href=\"/wiki/Hugh_Latimer\" title=\"Hugh Latimer\">Hugh Latimer</a>, and <a href=\"/wiki/Nicholas_Ridley_(martyr)\" title=\"Nicholas Ridley (martyr)\">Nicholas Ridley</a>, known as the \"Oxford martyrs\" from the place of their execution; <a href=\"/wiki/Benjamin_Whichcote\" title=\"Benjamin Whichcote\">Benjamin Whichcote</a> and the <a href=\"/wiki/Cambridge_Platonists\" title=\"Cambridge Platonists\">Cambridge Platonists</a>; <a href=\"/wiki/William_Paley\" title=\"William Paley\">William Paley</a>, the Christian philosopher known primarily for formulating the <a href=\"/wiki/Teleological_argument\" title=\"Teleological argument\">teleological argument</a> for the existence of God; <a href=\"/wiki/William_Wilberforce\" title=\"William Wilberforce\">William Wilberforce</a> and <a href=\"/wiki/Thomas_Clarkson\" title=\"Thomas Clarkson\">Thomas Clarkson</a>, largely responsible for the <a href=\"/wiki/Abolitionism_in_the_United_Kingdom\" title=\"Abolitionism in the United Kingdom\">abolition</a> of the <a class=\"mw-redirect\" href=\"/wiki/Slave_trade\" title=\"Slave trade\">slave trade</a>; Evangelical churchman <a href=\"/wiki/Charles_Simeon\" title=\"Charles Simeon\">Charles Simeon</a>; <a class=\"mw-redirect\" href=\"/wiki/John_William_Colenso\" title=\"John William Colenso\">John William Colenso</a>, the bishop of Natal who developed views on the interpretation of Scripture and relations with native peoples that seemed dangerously radical at the time; <a class=\"mw-redirect\" href=\"/wiki/John_Bainbridge_Webster\" title=\"John Bainbridge Webster\">John Bainbridge Webster</a> and <a href=\"/wiki/David_F._Ford\" title=\"David F. Ford\">David F. Ford</a>, theologians; and six winners of the <a href=\"/wiki/Templeton_Prize\" title=\"Templeton Prize\">Templeton Prize</a>, the highest accolade for the study of religion since its foundation in 1972.\n",
       " </p>,\n",
       " <p>Composers <a href=\"/wiki/Ralph_Vaughan_Williams\" title=\"Ralph Vaughan Williams\">Ralph Vaughan Williams</a>, <a class=\"mw-redirect\" href=\"/wiki/Sir_Charles_Villiers_Stanford\" title=\"Sir Charles Villiers Stanford\">Sir Charles Villiers Stanford</a>, <a href=\"/wiki/William_Sterndale_Bennett\" title=\"William Sterndale Bennett\">William Sterndale Bennett</a>, <a href=\"/wiki/Orlando_Gibbons\" title=\"Orlando Gibbons\">Orlando Gibbons</a> and, more recently, <a href=\"/wiki/Alexander_Goehr\" title=\"Alexander Goehr\">Alexander Goehr</a>, <a href=\"/wiki/Thomas_Ad%C3%A8s\" title=\"Thomas Adès\">Thomas Adès</a>, <a href=\"/wiki/John_Rutter\" title=\"John Rutter\">John Rutter</a>, <a href=\"/wiki/Julian_Anderson\" title=\"Julian Anderson\">Julian Anderson</a> and <a href=\"/wiki/Judith_Weir\" title=\"Judith Weir\">Judith Weir</a> were all at Cambridge. The university has also produced instrumentalists and conductors, including <a href=\"/wiki/Colin_Davis\" title=\"Colin Davis\">Colin Davis</a>, <a href=\"/wiki/John_Eliot_Gardiner\" title=\"John Eliot Gardiner\">John Eliot Gardiner</a>, <a href=\"/wiki/Roger_Norrington\" title=\"Roger Norrington\">Roger Norrington</a>, <a href=\"/wiki/Trevor_Pinnock\" title=\"Trevor Pinnock\">Trevor Pinnock</a>, <a href=\"/wiki/Andrew_Manze\" title=\"Andrew Manze\">Andrew Manze</a>, <a href=\"/wiki/Richard_Egarr\" title=\"Richard Egarr\">Richard Egarr</a>, <a href=\"/wiki/Mark_Elder\" title=\"Mark Elder\">Mark Elder</a>, <a href=\"/wiki/Richard_Hickox\" title=\"Richard Hickox\">Richard Hickox</a>, <a href=\"/wiki/Christopher_Hogwood\" title=\"Christopher Hogwood\">Christopher Hogwood</a>, <a href=\"/wiki/Andrew_Marriner\" title=\"Andrew Marriner\">Andrew Marriner</a>, <a href=\"/wiki/David_Munrow\" title=\"David Munrow\">David Munrow</a>, <a href=\"/wiki/Simon_Standage\" title=\"Simon Standage\">Simon Standage</a>, <a href=\"/wiki/Endellion_Quartet\" title=\"Endellion Quartet\">Endellion Quartet</a> and <a href=\"/wiki/Fitzwilliam_Quartet\" title=\"Fitzwilliam Quartet\">Fitzwilliam Quartet</a>. Although known primarily for its <a class=\"mw-redirect\" href=\"/wiki/Choral_music\" title=\"Choral music\">choral music</a>, the university has also produced members of contemporary bands such as <a href=\"/wiki/Radiohead\" title=\"Radiohead\">Radiohead</a>, <a href=\"/wiki/Hot_Chip\" title=\"Hot Chip\">Hot Chip</a>, <a href=\"/wiki/Procol_Harum\" title=\"Procol Harum\">Procol Harum</a>, <a href=\"/wiki/Clean_Bandit\" title=\"Clean Bandit\">Clean Bandit</a>, songwriter and entertainer <a href=\"/wiki/Jonathan_King\" title=\"Jonathan King\">Jonathan King</a>, <a href=\"/wiki/Henry_Cow\" title=\"Henry Cow\">Henry Cow</a>, and the singer-songwriter <a href=\"/wiki/Nick_Drake\" title=\"Nick Drake\">Nick Drake</a>.\n",
       " </p>,\n",
       " <p>Artists <a href=\"/wiki/Quentin_Blake\" title=\"Quentin Blake\">Quentin Blake</a>, <a href=\"/wiki/Roger_Fry\" title=\"Roger Fry\">Roger Fry</a> and <a href=\"/wiki/Julian_Trevelyan\" title=\"Julian Trevelyan\">Julian Trevelyan</a> , sculptors <a href=\"/wiki/Antony_Gormley\" title=\"Antony Gormley\">Antony Gormley</a>, <a href=\"/wiki/Marc_Quinn\" title=\"Marc Quinn\">Marc Quinn</a> and <a href=\"/wiki/Anthony_Caro\" title=\"Anthony Caro\">Sir Anthony Caro</a>, and photographers <a class=\"mw-redirect\" href=\"/wiki/Antony_Armstrong-Jones\" title=\"Antony Armstrong-Jones\">Antony Armstrong-Jones</a>, <a href=\"/wiki/Cecil_Beaton\" title=\"Cecil Beaton\">Sir Cecil Beaton</a> and <a href=\"/wiki/Mick_Rock\" title=\"Mick Rock\">Mick Rock</a> all attended as undergraduates.\n",
       " </p>,\n",
       " <p>Writers to have studied at the university include the Elizabethan dramatist <a href=\"/wiki/Christopher_Marlowe\" title=\"Christopher Marlowe\">Christopher Marlowe</a>, his fellow University Wits <a href=\"/wiki/Thomas_Nashe\" title=\"Thomas Nashe\">Thomas Nashe</a> and <a href=\"/wiki/Robert_Greene_(dramatist)\" title=\"Robert Greene (dramatist)\">Robert Greene</a>, arguably the first professional authors in England, and <a href=\"/wiki/John_Fletcher_(playwright)\" title=\"John Fletcher (playwright)\">John Fletcher</a>, who collaborated with Shakespeare on <i><a href=\"/wiki/The_Two_Noble_Kinsmen\" title=\"The Two Noble Kinsmen\">The Two Noble Kinsmen</a></i>, <i><a href=\"/wiki/Henry_VIII_(play)\" title=\"Henry VIII (play)\">Henry VIII</a></i> and the lost <i><a class=\"mw-redirect\" href=\"/wiki/Cardenio\" title=\"Cardenio\">Cardenio</a></i> and succeeded him as house playwright of <a href=\"/wiki/King%27s_Men_(playing_company)\" title=\"King's Men (playing company)\">The King's Men</a>. <a href=\"/wiki/Samuel_Pepys\" title=\"Samuel Pepys\">Samuel Pepys</a> matriculated in 1650, known for his <a href=\"/wiki/Samuel_Pepys#The_diary\" title=\"Samuel Pepys\">diary</a>, the original manuscripts of which are now housed in the <a href=\"/wiki/Pepys_Library\" title=\"Pepys Library\">Pepys Library</a> at Magdalene College. <a class=\"mw-redirect\" href=\"/wiki/Lawrence_Sterne\" title=\"Lawrence Sterne\">Lawrence Sterne</a>, whose novel <i><a class=\"mw-redirect\" href=\"/wiki/Tristram_Shandy\" title=\"Tristram Shandy\">Tristram Shandy</a></i> is judged to have inspired many modern narrative devices and styles. In the following century, the novelists <a class=\"mw-redirect\" href=\"/wiki/W._M._Thackeray\" title=\"W. M. Thackeray\">W. M. Thackeray</a>, best known for <i><a href=\"/wiki/Vanity_Fair_(novel)\" title=\"Vanity Fair (novel)\">Vanity Fair</a></i>, <a href=\"/wiki/Charles_Kingsley\" title=\"Charles Kingsley\">Charles Kingsley</a>, author of <i><a href=\"/wiki/Westward_Ho!\" title=\"Westward Ho!\">Westward Ho!</a></i> and <i><a href=\"/wiki/The_Water-Babies,_A_Fairy_Tale_for_a_Land_Baby\" title=\"The Water-Babies, A Fairy Tale for a Land Baby\">Water Babies</a></i>, and <a href=\"/wiki/Samuel_Butler_(novelist)\" title=\"Samuel Butler (novelist)\">Samuel Butler</a>, remembered for <i><a href=\"/wiki/The_Way_of_All_Flesh\" title=\"The Way of All Flesh\">The Way of All Flesh</a></i> and <i><a href=\"/wiki/Erewhon\" title=\"Erewhon\">Erewhon</a></i>, were all at Cambridge.\n",
       " </p>,\n",
       " <p>Ghost story writer <a href=\"/wiki/M._R._James\" title=\"M. R. James\">M. R. James</a> served as provost of King's College from 1905 to 1918. Novelist <a href=\"/wiki/Amy_Levy\" title=\"Amy Levy\">Amy Levy</a> was the first Jewish woman to attend the university. Modernist writers to have attended the university include <a href=\"/wiki/E._M._Forster\" title=\"E. M. Forster\">E. M. Forster</a>, <a href=\"/wiki/Rosamond_Lehmann\" title=\"Rosamond Lehmann\">Rosamond Lehmann</a>, <a href=\"/wiki/Vladimir_Nabokov\" title=\"Vladimir Nabokov\">Vladimir Nabokov</a>, <a href=\"/wiki/Christopher_Isherwood\" title=\"Christopher Isherwood\">Christopher Isherwood</a> and <a href=\"/wiki/Malcolm_Lowry\" title=\"Malcolm Lowry\">Malcolm Lowry</a>. Although not a student, <a href=\"/wiki/Virginia_Woolf\" title=\"Virginia Woolf\">Virginia Woolf</a> wrote her essay <i><a href=\"/wiki/A_Room_of_One%27s_Own\" title=\"A Room of One's Own\">A Room of One's Own</a></i> while in residence at Newnham College. Playwright <a href=\"/wiki/J._B._Priestley\" title=\"J. B. Priestley\">J. B. Priestley</a>, physicist and novelist <a href=\"/wiki/C._P._Snow\" title=\"C. P. Snow\">C. P. Snow</a> and children's writer <a href=\"/wiki/A._A._Milne\" title=\"A. A. Milne\">A. A. Milne</a> were also among those who passed through the university in the early 20th century. They were followed by the postmodernists <a href=\"/wiki/Patrick_White\" title=\"Patrick White\">Patrick White</a>, <a href=\"/wiki/J._G._Ballard\" title=\"J. G. Ballard\">J. G. Ballard</a>, and the early postcolonial writer <a href=\"/wiki/E._R._Braithwaite\" title=\"E. R. Braithwaite\">E. R. Braithwaite</a>. More recently, alumni include comedy writers <a href=\"/wiki/Douglas_Adams\" title=\"Douglas Adams\">Douglas Adams</a>, <a href=\"/wiki/Tom_Sharpe\" title=\"Tom Sharpe\">Tom Sharpe</a> and <a href=\"/wiki/Howard_Jacobson\" title=\"Howard Jacobson\">Howard Jacobson</a>, the popular novelists <a href=\"/wiki/A._S._Byatt\" title=\"A. S. Byatt\">A. S. Byatt</a>, <a class=\"mw-redirect\" href=\"/wiki/Sir_Salman_Rushdie\" title=\"Sir Salman Rushdie\">Sir Salman Rushdie</a>, <a href=\"/wiki/Nick_Hornby\" title=\"Nick Hornby\">Nick Hornby</a>, <a href=\"/wiki/Zadie_Smith\" title=\"Zadie Smith\">Zadie Smith</a>, <a href=\"/wiki/Robert_Harris_(novelist)\" title=\"Robert Harris (novelist)\">Robert Harris</a> and <a href=\"/wiki/Sebastian_Faulks\" title=\"Sebastian Faulks\">Sebastian Faulks</a>, the action writers <a href=\"/wiki/Michael_Crichton\" title=\"Michael Crichton\">Michael Crichton</a>, <a href=\"/wiki/David_Gibbins\" title=\"David Gibbins\">David Gibbins</a> and <a href=\"/wiki/Jin_Yong\" title=\"Jin Yong\">Jin Yong</a>, and contemporary playwrights and screenwriters such as <a href=\"/wiki/Julian_Fellowes\" title=\"Julian Fellowes\">Julian Fellowes</a>, <a href=\"/wiki/Stephen_Poliakoff\" title=\"Stephen Poliakoff\">Stephen Poliakoff</a>, <a href=\"/wiki/Michael_Frayn\" title=\"Michael Frayn\">Michael Frayn</a> and <a class=\"mw-redirect\" href=\"/wiki/Sir_Peter_Shaffer\" title=\"Sir Peter Shaffer\">Sir Peter Shaffer</a>.\n",
       " </p>,\n",
       " <p>Cambridge poets include <a href=\"/wiki/Edmund_Spenser\" title=\"Edmund Spenser\">Edmund Spenser</a>, author of <i><a href=\"/wiki/The_Faerie_Queene\" title=\"The Faerie Queene\">The Faerie Queene</a></i>, the Metaphysical poets <a href=\"/wiki/John_Donne\" title=\"John Donne\">John Donne</a>, <a href=\"/wiki/George_Herbert\" title=\"George Herbert\">George Herbert</a> and <a href=\"/wiki/Andrew_Marvell\" title=\"Andrew Marvell\">Andrew Marvell</a>, <a href=\"/wiki/John_Milton\" title=\"John Milton\">John Milton</a>, renowned for his late epic <i><a href=\"/wiki/Paradise_Lost\" title=\"Paradise Lost\">Paradise Lost</a></i>, the Restoration poet and playwright <a href=\"/wiki/John_Dryden\" title=\"John Dryden\">John Dryden</a>, the pre-romantic <a href=\"/wiki/Thomas_Gray\" title=\"Thomas Gray\">Thomas Gray</a>, best known his <i><a href=\"/wiki/Elegy_Written_in_a_Country_Churchyard\" title=\"Elegy Written in a Country Churchyard\">Elegy Written in a Country Churchyard</a></i>, <a href=\"/wiki/William_Wordsworth\" title=\"William Wordsworth\">William Wordsworth</a> and <a href=\"/wiki/Samuel_Taylor_Coleridge\" title=\"Samuel Taylor Coleridge\">Samuel Taylor Coleridge</a>, whose joint work <i><a href=\"/wiki/Lyrical_Ballads\" title=\"Lyrical Ballads\">Lyrical Ballads</a></i> is often seen to mark the beginning of the <a href=\"/wiki/Romantic_poetry\" title=\"Romantic poetry\">Romantic movement</a>, later Romantics such as <a href=\"/wiki/Lord_Byron\" title=\"Lord Byron\">Lord Byron</a> and the postromantic <a href=\"/wiki/Alfred,_Lord_Tennyson\" title=\"Alfred, Lord Tennyson\">Alfred, Lord Tennyson</a>, classical scholar and lyric poet <a href=\"/wiki/A._E._Housman\" title=\"A. E. Housman\">A. E. Housman</a>, war poets <a href=\"/wiki/Siegfried_Sassoon\" title=\"Siegfried Sassoon\">Siegfried Sassoon</a> and <a href=\"/wiki/Rupert_Brooke\" title=\"Rupert Brooke\">Rupert Brooke</a>, modernist <a href=\"/wiki/T._E._Hulme\" title=\"T. E. Hulme\">T. E. Hulme</a>, confessional poets <a href=\"/wiki/Ted_Hughes\" title=\"Ted Hughes\">Ted Hughes</a>, <a href=\"/wiki/Sylvia_Plath\" title=\"Sylvia Plath\">Sylvia Plath</a> and <a href=\"/wiki/John_Berryman\" title=\"John Berryman\">John Berryman</a>, and, more recently, <a href=\"/wiki/Cecil_Day-Lewis\" title=\"Cecil Day-Lewis\">Cecil Day-Lewis</a>, <a href=\"/wiki/Joseph_Brodsky\" title=\"Joseph Brodsky\">Joseph Brodsky</a>, <a href=\"/wiki/Kathleen_Raine\" title=\"Kathleen Raine\">Kathleen Raine</a> and <a href=\"/wiki/Geoffrey_Hill\" title=\"Geoffrey Hill\">Geoffrey Hill</a>. At least nine of the Poets Laureate graduated from Cambridge. The university has also made a notable contribution to literary criticism, having produced, among others, <a href=\"/wiki/F._R._Leavis\" title=\"F. R. Leavis\">F. R. Leavis</a>, <a href=\"/wiki/I._A._Richards\" title=\"I. A. Richards\">I. A. Richards</a>, <a class=\"mw-redirect\" href=\"/wiki/C._K._Ogden\" title=\"C. K. Ogden\">C. K. Ogden</a> and <a href=\"/wiki/William_Empson\" title=\"William Empson\">William Empson</a>, often collectively known as the <a class=\"mw-redirect\" href=\"/wiki/Cambridge_Critics\" title=\"Cambridge Critics\">Cambridge Critics</a>, the Marxists <a href=\"/wiki/Raymond_Williams\" title=\"Raymond Williams\">Raymond Williams</a>, sometimes regarded as the founding father of <a href=\"/wiki/Cultural_studies\" title=\"Cultural studies\">cultural studies</a>, and <a href=\"/wiki/Terry_Eagleton\" title=\"Terry Eagleton\">Terry Eagleton</a>, author of <i>Literary Theory: An Introduction</i>, the most successful academic book ever published, the Aesthetician <a href=\"/wiki/Harold_Bloom\" title=\"Harold Bloom\">Harold Bloom</a>, the New Historicist <a href=\"/wiki/Stephen_Greenblatt\" title=\"Stephen Greenblatt\">Stephen Greenblatt</a>, and biographical writers such as <a href=\"/wiki/Lytton_Strachey\" title=\"Lytton Strachey\">Lytton Strachey</a>, a central figure in the <a href=\"/wiki/Bloomsbury_Group\" title=\"Bloomsbury Group\">Bloomsbury Group</a>, <a href=\"/wiki/Peter_Ackroyd\" title=\"Peter Ackroyd\">Peter Ackroyd</a> and <a href=\"/wiki/Claire_Tomalin\" title=\"Claire Tomalin\">Claire Tomalin</a>.\n",
       " </p>,\n",
       " <p>Actors and directors such as <a href=\"/wiki/Ian_McKellen\" title=\"Ian McKellen\">Sir Ian McKellen</a>, <a href=\"/wiki/Eleanor_Bron\" title=\"Eleanor Bron\">Eleanor Bron</a>, <a href=\"/wiki/Miriam_Margolyes\" title=\"Miriam Margolyes\">Miriam Margolyes</a>, <a href=\"/wiki/Derek_Jacobi\" title=\"Derek Jacobi\">Sir Derek Jacobi</a>, <a href=\"/wiki/Michael_Redgrave\" title=\"Michael Redgrave\">Sir Michael Redgrave</a>, <a href=\"/wiki/James_Mason\" title=\"James Mason\">James Mason</a>, <a href=\"/wiki/Emma_Thompson\" title=\"Emma Thompson\">Emma Thompson</a>, <a href=\"/wiki/Stephen_Fry\" title=\"Stephen Fry\">Stephen Fry</a>, <a href=\"/wiki/Hugh_Laurie\" title=\"Hugh Laurie\">Hugh Laurie</a>, <a href=\"/wiki/John_Cleese\" title=\"John Cleese\">John Cleese</a>, <a href=\"/wiki/Freddie_Highmore\" title=\"Freddie Highmore\">Freddie Highmore</a>, <a href=\"/wiki/Eric_Idle\" title=\"Eric Idle\">Eric Idle</a>, <a href=\"/wiki/Graham_Chapman\" title=\"Graham Chapman\">Graham Chapman</a>, <a href=\"/wiki/Graeme_Garden\" title=\"Graeme Garden\">Graeme Garden</a>, <a href=\"/wiki/Tim_Brooke-Taylor\" title=\"Tim Brooke-Taylor\">Tim Brooke-Taylor</a>, <a href=\"/wiki/Bill_Oddie\" title=\"Bill Oddie\">Bill Oddie</a>, <a href=\"/wiki/Simon_Russell_Beale\" title=\"Simon Russell Beale\">Simon Russell Beale</a>, <a href=\"/wiki/Tilda_Swinton\" title=\"Tilda Swinton\">Tilda Swinton</a>, <a href=\"/wiki/Thandie_Newton\" title=\"Thandie Newton\">Thandie Newton</a>, <a href=\"/wiki/Georgie_Henley\" title=\"Georgie Henley\">Georgie Henley</a>, <a href=\"/wiki/Rachel_Weisz\" title=\"Rachel Weisz\">Rachel Weisz</a>, <a href=\"/wiki/Sacha_Baron_Cohen\" title=\"Sacha Baron Cohen\">Sacha Baron Cohen</a>, <a href=\"/wiki/Tom_Hiddleston\" title=\"Tom Hiddleston\">Tom Hiddleston</a>, <a href=\"/wiki/Sara_Mohr-Pietsch\" title=\"Sara Mohr-Pietsch\">Sara Mohr-Pietsch</a>, <a href=\"/wiki/Eddie_Redmayne\" title=\"Eddie Redmayne\">Eddie Redmayne</a>, <a href=\"/wiki/Dan_Stevens\" title=\"Dan Stevens\">Dan Stevens</a>, <a href=\"/wiki/Jamie_Bamber\" title=\"Jamie Bamber\">Jamie Bamber</a>, <a href=\"/wiki/Lily_Cole\" title=\"Lily Cole\">Lily Cole</a>, <a href=\"/wiki/David_Mitchell_(comedian)\" title=\"David Mitchell (comedian)\">David Mitchell</a>, <a href=\"/wiki/Robert_Webb\" title=\"Robert Webb\">Robert Webb</a>, <a href=\"/wiki/Mel_Giedroyc\" title=\"Mel Giedroyc\">Mel Giedroyc</a> and <a href=\"/wiki/Sue_Perkins\" title=\"Sue Perkins\">Sue Perkins</a> all studied at the university, as did directors such as <a href=\"/wiki/Mike_Newell_(director)\" title=\"Mike Newell (director)\">Mike Newell</a>, <a href=\"/wiki/Sam_Mendes\" title=\"Sam Mendes\">Sam Mendes</a>, <a href=\"/wiki/Stephen_Frears\" title=\"Stephen Frears\">Stephen Frears</a>, <a href=\"/wiki/Paul_Greengrass\" title=\"Paul Greengrass\">Paul Greengrass</a>, <a href=\"/wiki/Chris_Weitz\" title=\"Chris Weitz\">Chris Weitz</a> and <a href=\"/wiki/John_Madden_(director)\" title=\"John Madden (director)\">John Madden</a>.\n",
       " </p>,\n",
       " <p>Athletes who are university graduates or attendees have won a total of 194 Olympic medals, including 88 gold.<sup class=\"reference\" id=\"cite_ref-Hawks_28-1\"><a href=\"#cite_note-Hawks-28\">[28]</a></sup> The legendary Chinese six-time world table tennis champion <a href=\"/wiki/Deng_Yaping\" title=\"Deng Yaping\">Deng Yaping</a>; the sprinter and athletics hero <a href=\"/wiki/Harold_Abrahams\" title=\"Harold Abrahams\">Harold Abrahams</a>; the inventors of the modern game of football, <a class=\"mw-redirect\" href=\"/wiki/H._de_Winton\" title=\"H. de Winton\">H. de Winton</a> and <a class=\"mw-redirect\" href=\"/wiki/J._C._Thring\" title=\"J. C. Thring\">J. C. Thring</a>; and <a href=\"/wiki/George_Mallory\" title=\"George Mallory\">George Mallory</a>, the famed mountaineer all attended Cambridge.\n",
       " </p>,\n",
       " <p>Notable educationalists to have attended the university include the founders and early professors of Harvard University, including <a href=\"/wiki/John_Harvard_(clergyman)\" title=\"John Harvard (clergyman)\">John Harvard</a> himself; <a href=\"/wiki/Emily_Davies\" title=\"Emily Davies\">Emily Davies</a>, founder of Girton College, the first residential higher education institution for women, and <a href=\"/wiki/John_Haden_Badley\" title=\"John Haden Badley\">John Haden Badley</a>, founder of the first mixed-sex school in England; <a href=\"/wiki/Anil_Kumar_Gain\" title=\"Anil Kumar Gain\">Anil Kumar Gain</a>, 20th century mathematician and founder of the <a href=\"/wiki/Vidyasagar_University\" title=\"Vidyasagar University\">Vidyasagar University</a> in <a href=\"/wiki/Bengal\" title=\"Bengal\">Bengal</a>, and <a href=\"/wiki/Menachem_Ben-Sasson\" title=\"Menachem Ben-Sasson\">Menachem Ben-Sasson</a>, Israeli President of <a href=\"/wiki/Hebrew_University_of_Jerusalem\" title=\"Hebrew University of Jerusalem\">Hebrew University of Jerusalem</a>.\n",
       " </p>,\n",
       " <p>Cambridge has a strong reputation in the fields of politics, having educated:<sup class=\"reference\" id=\"cite_ref-184\"><a href=\"#cite_note-184\">[183]</a></sup><sup class=\"noprint Inline-Template noprint noexcerpt Template-Fact\" style=\"white-space:nowrap;\">[<i><a class=\"mw-redirect\" href=\"/wiki/Wikipedia:NOTRS\" title=\"Wikipedia:NOTRS\"><span title=\"This claim needs references to better sources. (October 2014)\">better source needed</span></a></i>]</sup>\n",
       " </p>,\n",
       " <p>Throughout its history, the university has featured in literature and artistic works by various authors.\n",
       " </p>,\n",
       " <p>The Great Gate of <a href=\"/wiki/Trinity_College,_Cambridge\" title=\"Trinity College, Cambridge\">Trinity College</a>\n",
       " </p>,\n",
       " <p><a href=\"/wiki/Corpus_Christi_College,_Cambridge\" title=\"Corpus Christi College, Cambridge\">Corpus Christi College</a> New Court\n",
       " </p>,\n",
       " <p><a href=\"/wiki/Gonville_and_Caius_College,_Cambridge\" title=\"Gonville and Caius College, Cambridge\">Gonville and Caius College</a>\n",
       " </p>,\n",
       " <p><a href=\"/wiki/Pembroke_College,_Cambridge\" title=\"Pembroke College, Cambridge\">Pembroke College</a>\n",
       " </p>,\n",
       " <p><a href=\"/wiki/Selwyn_College,_Cambridge\" title=\"Selwyn College, Cambridge\">Selwyn College</a>\n",
       " </p>,\n",
       " <p><a href=\"/wiki/St_Catharine%27s_College,_Cambridge\" title=\"St Catharine's College, Cambridge\">St Catharine's College</a>\n",
       " </p>,\n",
       " <p><a class=\"mw-redirect\" href=\"/wiki/Hughes_Hall\" title=\"Hughes Hall\">Hughes Hall</a>\n",
       " </p>,\n",
       " <p>Bredon House of <a href=\"/wiki/Wolfson_College,_Cambridge\" title=\"Wolfson College, Cambridge\">Wolfson College</a>\n",
       " </p>,\n",
       " <p><a href=\"/wiki/St_Edmund%27s_College,_Cambridge\" title=\"St Edmund's College, Cambridge\">St Edmund's College</a> Norfolk Building\n",
       " </p>,\n",
       " <p><a class=\"mw-redirect\" href=\"/wiki/Downing_College\" title=\"Downing College\">Downing College</a> East Range\n",
       " </p>,\n",
       " <p><a class=\"mw-redirect\" href=\"/wiki/Queens%27_College\" title=\"Queens' College\">Queens' College</a> Old Gatehouse\n",
       " </p>,\n",
       " <p><a href=\"/wiki/Selwyn_College,_Cambridge\" title=\"Selwyn College, Cambridge\">Selwyn College</a> Chapel\n",
       " </p>,\n",
       " <p>The <a href=\"/wiki/Pepys_Library\" title=\"Pepys Library\">Pepys Library</a>, <a class=\"mw-redirect\" href=\"/wiki/Magdalene_College\" title=\"Magdalene College\">Magdalene College</a>\n",
       " </p>,\n",
       " <p><a href=\"/wiki/Selwyn_College,_Cambridge\" title=\"Selwyn College, Cambridge\">Selwyn College</a> Old Court\n",
       " </p>,\n",
       " <p><a href=\"/wiki/Jesus_College,_Cambridge\" title=\"Jesus College, Cambridge\">Jesus College</a> Chapel\n",
       " </p>,\n",
       " <p><a href=\"/wiki/St_John%27s_College,_Cambridge\" title=\"St John's College, Cambridge\">St John's College</a> Great gate\n",
       " </p>,\n",
       " <p>The entrance of <a href=\"/wiki/Trinity_Hall,_Cambridge\" title=\"Trinity Hall, Cambridge\">Trinity Hall</a>\n",
       " </p>,\n",
       " <p>The Dining Hall at <a href=\"/wiki/Selwyn_College,_Cambridge\" title=\"Selwyn College, Cambridge\">Selwyn College, Cambridge</a>\n",
       " </p>,\n",
       " <p>The Cavendish Building of <a href=\"/wiki/Homerton_College,_Cambridge\" title=\"Homerton College, Cambridge\">Homerton College, Cambridge</a>\n",
       " </p>,\n",
       " <p><a href=\"/wiki/Darwin_College,_Cambridge\" title=\"Darwin College, Cambridge\">Darwin College</a>\n",
       " </p>,\n",
       " <p>The Chapel, <a href=\"/wiki/Sidney_Sussex_College,_Cambridge\" title=\"Sidney Sussex College, Cambridge\">Sidney Sussex College</a>\n",
       " </p>,\n",
       " <p><a class=\"mw-redirect\" href=\"/wiki/Judge_Business_School\" title=\"Judge Business School\">Judge Business School</a> interior\n",
       " </p>,\n",
       " <p>The Grove at <a class=\"mw-redirect\" href=\"/wiki/Fitzwilliam_College\" title=\"Fitzwilliam College\">Fitzwilliam College</a>\n",
       " </p>,\n",
       " <p><a class=\"mw-redirect\" href=\"/wiki/Girton_College\" title=\"Girton College\">Girton College</a>\n",
       " </p>,\n",
       " <p><span style=\"font-size: small;\"><span id=\"coordinates\"><a href=\"/wiki/Geographic_coordinate_system\" title=\"Geographic coordinate system\">Coordinates</a>: <span class=\"plainlinks nourlexpansion\"><a class=\"external text\" href=\"//tools.wmflabs.org/geohack/geohack.php?pagename=University_of_Cambridge&amp;params=52_12_19_N_0_7_2_E_type:edu_region:GB-CAM\"><span class=\"geo-default\"><span class=\"geo-dms\" title=\"Maps, aerial photos, and other data for this location\"><span class=\"latitude\">52°12′19″N</span> <span class=\"longitude\">0°7′2″E</span></span></span><span class=\"geo-multi-punct\">﻿ / ﻿</span><span class=\"geo-nondefault\"><span class=\"geo-dec\" title=\"Maps, aerial photos, and other data for this location\">52.20528°N 0.11722°E</span><span style=\"display:none\">﻿ / <span class=\"geo\">52.20528; 0.11722</span></span></span></a></span></span></span>\n",
       " </p>]"
      ]
     },
     "execution_count": 85,
     "metadata": {},
     "output_type": "execute_result"
    }
   ],
   "source": [
    "soup.findAll('p')"
   ]
  },
  {
   "cell_type": "code",
   "execution_count": 86,
   "metadata": {},
   "outputs": [
    {
     "data": {
      "text/plain": [
       "154"
      ]
     },
     "execution_count": 86,
     "metadata": {},
     "output_type": "execute_result"
    }
   ],
   "source": [
    "len(soup.findAll('p'))"
   ]
  },
  {
   "cell_type": "code",
   "execution_count": 87,
   "metadata": {},
   "outputs": [
    {
     "data": {
      "text/plain": [
       "['infobox', 'vcard']"
      ]
     },
     "execution_count": 87,
     "metadata": {},
     "output_type": "execute_result"
    }
   ],
   "source": [
    "soup.table['class']"
   ]
  },
  {
   "cell_type": "code",
   "execution_count": 88,
   "metadata": {},
   "outputs": [
    {
     "name": "stdout",
     "output_type": "stream",
     "text": [
      "[['infobox', 'vcard'], ['wikitable', 'floatright'], ['infobox'], ['mbox-small', 'plainlinks', 'sistersitebox'], ['mbox-small', 'plainlinks', 'sistersitebox'], ['nowraplinks', 'hlist', 'mw-collapsible', 'autocollapse', 'navbox-inner'], ['nowraplinks', 'navbox-subgroup'], ['nowraplinks', 'mw-collapsible', 'mw-collapsed', 'navbox-inner'], ['nowraplinks', 'hlist', 'mw-collapsible', 'mw-collapsed', 'navbox-inner'], ['nowraplinks', 'navbox-subgroup'], ['nowraplinks', 'navbox-subgroup'], ['nowraplinks', 'mw-collapsible', 'autocollapse', 'navbox-inner'], ['nowraplinks', 'mw-collapsible', 'mw-collapsed', 'navbox-inner'], ['nowraplinks', 'mw-collapsible', 'autocollapse', 'navbox-inner'], ['nowraplinks', 'mw-collapsible', 'autocollapse', 'navbox-inner'], ['nowraplinks', 'hlist', 'navbox-inner']]\n"
     ]
    }
   ],
   "source": [
    "new_table = []\n",
    "for table in soup.findAll('table',class_= True):\n",
    "    new_table.append(table['class'])\n",
    "\n",
    "print(new_table)\n"
   ]
  },
  {
   "cell_type": "code",
   "execution_count": 89,
   "metadata": {},
   "outputs": [],
   "source": [
    "table_html = str(soup.find_all('table', class_=\"wikitable floatright\")[0])\n",
    "html_soup = soup.find_all('table', class_=\"wikitable floatright\")[0]"
   ]
  },
  {
   "cell_type": "code",
   "execution_count": 90,
   "metadata": {},
   "outputs": [
    {
     "data": {
      "text/plain": [
       "'<table class=\"wikitable floatright\" style=\"font-size:85%; text-align:center;\">\\n<caption>UCAS Admission Statistics\\n</caption>\\n<tbody><tr>\\n<th>\\n</th>\\n<th>2017\\n</th>\\n<th>2016\\n</th>\\n<th>2015\\n</th>\\n<th>2014\\n</th>\\n<th>2013\\n</th></tr>\\n<tr>\\n<td><b>Applications</b><sup class=\"reference\" id=\"cite_ref-103\"><a href=\"#cite_note-103\">[103]</a></sup>\\n</td>\\n<td>17,235\\n</td>\\n<td>16,795\\n</td>\\n<td>16,505\\n</td>\\n<td>16,970\\n</td>\\n<td>16,330\\n</td></tr>\\n<tr>\\n<td><b>Offer Rate (%)</b><sup class=\"reference\" id=\"cite_ref-104\"><a href=\"#cite_note-104\">[104]</a></sup>\\n</td>\\n<td>31.2\\n</td>\\n<td>33.8\\n</td>\\n<td>33.5\\n</td>\\n<td>32.5\\n</td>\\n<td>32.2\\n</td></tr>\\n<tr>\\n<td><b>Enrols</b><sup class=\"reference\" id=\"cite_ref-105\"><a href=\"#cite_note-105\">[105]</a></sup>\\n</td>\\n<td>3,480\\n</td>\\n<td>3,440\\n</td>\\n<td>3,430\\n</td>\\n<td>3,425\\n</td>\\n<td>3,355\\n</td></tr>\\n<tr>\\n<td><a href=\"/wiki/Yield_(college_admissions)\" title=\"Yield (college admissions)\"><b>Yield (%)</b></a>\\n</td>\\n<td>64.7\\n</td>\\n<td>60.6\\n</td>\\n<td>62.0\\n</td>\\n<td>62.1\\n</td>\\n<td>63.8\\n</td></tr>\\n<tr>\\n<td><b>Applicant/Enrolled Ratio</b>\\n</td>\\n<td>4.95\\n</td>\\n<td>4.88\\n</td>\\n<td>4.81\\n</td>\\n<td>4.95\\n</td>\\n<td>4.87\\n</td></tr>\\n<tr>\\n<td><b><a href=\"/wiki/UCAS_Tariff\" title=\"UCAS Tariff\">Average Entry Tariff</a></b><sup class=\"reference\" id=\"cite_ref-Complete_League_Table_2019_106-0\"><a href=\"#cite_note-Complete_League_Table_2019-106\">[106]</a></sup><sup class=\"reference\" id=\"cite_ref-107\"><a href=\"#cite_note-107\">[note 1]</a></sup>\\n</td>\\n<td>n/a\\n</td>\\n<td>226\\n</td>\\n<td>592\\n</td>\\n<td>600\\n</td>\\n<td>601\\n</td></tr></tbody></table>'"
      ]
     },
     "execution_count": 90,
     "metadata": {},
     "output_type": "execute_result"
    }
   ],
   "source": [
    "table_html"
   ]
  },
  {
   "cell_type": "code",
   "execution_count": 91,
   "metadata": {},
   "outputs": [
    {
     "data": {
      "text/html": [
       "<table class=\"wikitable floatright\" style=\"font-size:85%; text-align:center;\">\n",
       "<caption>UCAS Admission Statistics\n",
       "</caption>\n",
       "<tbody><tr>\n",
       "<th>\n",
       "</th>\n",
       "<th>2017\n",
       "</th>\n",
       "<th>2016\n",
       "</th>\n",
       "<th>2015\n",
       "</th>\n",
       "<th>2014\n",
       "</th>\n",
       "<th>2013\n",
       "</th></tr>\n",
       "<tr>\n",
       "<td><b>Applications</b><sup class=\"reference\" id=\"cite_ref-103\"><a href=\"#cite_note-103\">[103]</a></sup>\n",
       "</td>\n",
       "<td>17,235\n",
       "</td>\n",
       "<td>16,795\n",
       "</td>\n",
       "<td>16,505\n",
       "</td>\n",
       "<td>16,970\n",
       "</td>\n",
       "<td>16,330\n",
       "</td></tr>\n",
       "<tr>\n",
       "<td><b>Offer Rate (%)</b><sup class=\"reference\" id=\"cite_ref-104\"><a href=\"#cite_note-104\">[104]</a></sup>\n",
       "</td>\n",
       "<td>31.2\n",
       "</td>\n",
       "<td>33.8\n",
       "</td>\n",
       "<td>33.5\n",
       "</td>\n",
       "<td>32.5\n",
       "</td>\n",
       "<td>32.2\n",
       "</td></tr>\n",
       "<tr>\n",
       "<td><b>Enrols</b><sup class=\"reference\" id=\"cite_ref-105\"><a href=\"#cite_note-105\">[105]</a></sup>\n",
       "</td>\n",
       "<td>3,480\n",
       "</td>\n",
       "<td>3,440\n",
       "</td>\n",
       "<td>3,430\n",
       "</td>\n",
       "<td>3,425\n",
       "</td>\n",
       "<td>3,355\n",
       "</td></tr>\n",
       "<tr>\n",
       "<td><a href=\"/wiki/Yield_(college_admissions)\" title=\"Yield (college admissions)\"><b>Yield (%)</b></a>\n",
       "</td>\n",
       "<td>64.7\n",
       "</td>\n",
       "<td>60.6\n",
       "</td>\n",
       "<td>62.0\n",
       "</td>\n",
       "<td>62.1\n",
       "</td>\n",
       "<td>63.8\n",
       "</td></tr>\n",
       "<tr>\n",
       "<td><b>Applicant/Enrolled Ratio</b>\n",
       "</td>\n",
       "<td>4.95\n",
       "</td>\n",
       "<td>4.88\n",
       "</td>\n",
       "<td>4.81\n",
       "</td>\n",
       "<td>4.95\n",
       "</td>\n",
       "<td>4.87\n",
       "</td></tr>\n",
       "<tr>\n",
       "<td><b><a href=\"/wiki/UCAS_Tariff\" title=\"UCAS Tariff\">Average Entry Tariff</a></b><sup class=\"reference\" id=\"cite_ref-Complete_League_Table_2019_106-0\"><a href=\"#cite_note-Complete_League_Table_2019-106\">[106]</a></sup><sup class=\"reference\" id=\"cite_ref-107\"><a href=\"#cite_note-107\">[note 1]</a></sup>\n",
       "</td>\n",
       "<td>n/a\n",
       "</td>\n",
       "<td>226\n",
       "</td>\n",
       "<td>592\n",
       "</td>\n",
       "<td>600\n",
       "</td>\n",
       "<td>601\n",
       "</td></tr></tbody></table>"
      ],
      "text/plain": [
       "<IPython.core.display.HTML object>"
      ]
     },
     "execution_count": 91,
     "metadata": {},
     "output_type": "execute_result"
    }
   ],
   "source": [
    "from IPython.core.display import HTML\n",
    "\n",
    "HTML(table_html)"
   ]
  },
  {
   "cell_type": "code",
   "execution_count": 92,
   "metadata": {},
   "outputs": [
    {
     "name": "stdout",
     "output_type": "stream",
     "text": [
      "[<tr>\n",
      "<th>\n",
      "</th>\n",
      "<th>2017\n",
      "</th>\n",
      "<th>2016\n",
      "</th>\n",
      "<th>2015\n",
      "</th>\n",
      "<th>2014\n",
      "</th>\n",
      "<th>2013\n",
      "</th></tr>, <tr>\n",
      "<td><b>Applications</b><sup class=\"reference\" id=\"cite_ref-103\"><a href=\"#cite_note-103\">[103]</a></sup>\n",
      "</td>\n",
      "<td>17,235\n",
      "</td>\n",
      "<td>16,795\n",
      "</td>\n",
      "<td>16,505\n",
      "</td>\n",
      "<td>16,970\n",
      "</td>\n",
      "<td>16,330\n",
      "</td></tr>, <tr>\n",
      "<td><b>Offer Rate (%)</b><sup class=\"reference\" id=\"cite_ref-104\"><a href=\"#cite_note-104\">[104]</a></sup>\n",
      "</td>\n",
      "<td>31.2\n",
      "</td>\n",
      "<td>33.8\n",
      "</td>\n",
      "<td>33.5\n",
      "</td>\n",
      "<td>32.5\n",
      "</td>\n",
      "<td>32.2\n",
      "</td></tr>, <tr>\n",
      "<td><b>Enrols</b><sup class=\"reference\" id=\"cite_ref-105\"><a href=\"#cite_note-105\">[105]</a></sup>\n",
      "</td>\n",
      "<td>3,480\n",
      "</td>\n",
      "<td>3,440\n",
      "</td>\n",
      "<td>3,430\n",
      "</td>\n",
      "<td>3,425\n",
      "</td>\n",
      "<td>3,355\n",
      "</td></tr>, <tr>\n",
      "<td><a href=\"/wiki/Yield_(college_admissions)\" title=\"Yield (college admissions)\"><b>Yield (%)</b></a>\n",
      "</td>\n",
      "<td>64.7\n",
      "</td>\n",
      "<td>60.6\n",
      "</td>\n",
      "<td>62.0\n",
      "</td>\n",
      "<td>62.1\n",
      "</td>\n",
      "<td>63.8\n",
      "</td></tr>, <tr>\n",
      "<td><b>Applicant/Enrolled Ratio</b>\n",
      "</td>\n",
      "<td>4.95\n",
      "</td>\n",
      "<td>4.88\n",
      "</td>\n",
      "<td>4.81\n",
      "</td>\n",
      "<td>4.95\n",
      "</td>\n",
      "<td>4.87\n",
      "</td></tr>, <tr>\n",
      "<td><b><a href=\"/wiki/UCAS_Tariff\" title=\"UCAS Tariff\">Average Entry Tariff</a></b><sup class=\"reference\" id=\"cite_ref-Complete_League_Table_2019_106-0\"><a href=\"#cite_note-Complete_League_Table_2019-106\">[106]</a></sup><sup class=\"reference\" id=\"cite_ref-107\"><a href=\"#cite_note-107\">[note 1]</a></sup>\n",
      "</td>\n",
      "<td>n/a\n",
      "</td>\n",
      "<td>226\n",
      "</td>\n",
      "<td>592\n",
      "</td>\n",
      "<td>600\n",
      "</td>\n",
      "<td>601\n",
      "</td></tr>]\n"
     ]
    }
   ],
   "source": [
    "rows = html_soup.find_all('tr')\n",
    "print(rows)"
   ]
  },
  {
   "cell_type": "code",
   "execution_count": 93,
   "metadata": {},
   "outputs": [],
   "source": [
    "rem_nl = lambda s: s.replace(\"\\n\", \" \")"
   ]
  },
  {
   "cell_type": "code",
   "execution_count": 94,
   "metadata": {},
   "outputs": [
    {
     "name": "stdout",
     "output_type": "stream",
     "text": [
      "['2017', '2016', '2015', '2014', '2013']\n"
     ]
    }
   ],
   "source": [
    "th = html_soup.find_all('th')\n",
    "\n",
    "column = []\n",
    "columns = []\n",
    "\n",
    "for x in th:\n",
    "    column.append(rem_nl(x.get_text()))\n",
    "    \n",
    "column.remove(' ')\n",
    "\n",
    "for p in column:\n",
    "    columns.append(p.strip())\n",
    "        \n",
    "print(columns)\n",
    "        \n",
    "    \n",
    "    \n"
   ]
  },
  {
   "cell_type": "code",
   "execution_count": 95,
   "metadata": {},
   "outputs": [
    {
     "name": "stdout",
     "output_type": "stream",
     "text": [
      "['Applications', 'Offer Rate (%)', 'Enrols', 'Yield (%)', 'Applicant/Enrolled Ratio', 'Average Entry Tariff']\n"
     ]
    }
   ],
   "source": [
    "index = html_soup.findAll('b')\n",
    "\n",
    "indexes = []\n",
    "for b in index:\n",
    "    indexes.append(b.get_text())\n",
    "    \n",
    "print(indexes)"
   ]
  },
  {
   "cell_type": "code",
   "execution_count": 96,
   "metadata": {},
   "outputs": [
    {
     "data": {
      "text/html": [
       "<table class=\"wikitable floatright\" style=\"font-size:85%; text-align:center;\">\n",
       "<caption>UCAS Admission Statistics\n",
       "</caption>\n",
       "<tbody><tr>\n",
       "<th>\n",
       "</th>\n",
       "<th>2017\n",
       "</th>\n",
       "<th>2016\n",
       "</th>\n",
       "<th>2015\n",
       "</th>\n",
       "<th>2014\n",
       "</th>\n",
       "<th>2013\n",
       "</th></tr>\n",
       "<tr>\n",
       "<td><b>Applications</b><sup class=\"reference\" id=\"cite_ref-103\"><a href=\"#cite_note-103\">[103]</a></sup>\n",
       "</td>\n",
       "<td>17,235\n",
       "</td>\n",
       "<td>16,795\n",
       "</td>\n",
       "<td>16,505\n",
       "</td>\n",
       "<td>16,970\n",
       "</td>\n",
       "<td>16,330\n",
       "</td></tr>\n",
       "<tr>\n",
       "<td><b>Offer Rate (%)</b><sup class=\"reference\" id=\"cite_ref-104\"><a href=\"#cite_note-104\">[104]</a></sup>\n",
       "</td>\n",
       "<td>31.2\n",
       "</td>\n",
       "<td>33.8\n",
       "</td>\n",
       "<td>33.5\n",
       "</td>\n",
       "<td>32.5\n",
       "</td>\n",
       "<td>32.2\n",
       "</td></tr>\n",
       "<tr>\n",
       "<td><b>Enrols</b><sup class=\"reference\" id=\"cite_ref-105\"><a href=\"#cite_note-105\">[105]</a></sup>\n",
       "</td>\n",
       "<td>3,480\n",
       "</td>\n",
       "<td>3,440\n",
       "</td>\n",
       "<td>3,430\n",
       "</td>\n",
       "<td>3,425\n",
       "</td>\n",
       "<td>3,355\n",
       "</td></tr>\n",
       "<tr>\n",
       "<td><a href=\"/wiki/Yield_(college_admissions)\" title=\"Yield (college admissions)\"><b>Yield (%)</b></a>\n",
       "</td>\n",
       "<td>64.7\n",
       "</td>\n",
       "<td>60.6\n",
       "</td>\n",
       "<td>62.0\n",
       "</td>\n",
       "<td>62.1\n",
       "</td>\n",
       "<td>63.8\n",
       "</td></tr>\n",
       "<tr>\n",
       "<td><b>Applicant/Enrolled Ratio</b>\n",
       "</td>\n",
       "<td>4.95\n",
       "</td>\n",
       "<td>4.88\n",
       "</td>\n",
       "<td>4.81\n",
       "</td>\n",
       "<td>4.95\n",
       "</td>\n",
       "<td>4.87\n",
       "</td></tr>\n",
       "<tr>\n",
       "<td><b><a href=\"/wiki/UCAS_Tariff\" title=\"UCAS Tariff\">Average Entry Tariff</a></b><sup class=\"reference\" id=\"cite_ref-Complete_League_Table_2019_106-0\"><a href=\"#cite_note-Complete_League_Table_2019-106\">[106]</a></sup><sup class=\"reference\" id=\"cite_ref-107\"><a href=\"#cite_note-107\">[note 1]</a></sup>\n",
       "</td>\n",
       "<td>n/a\n",
       "</td>\n",
       "<td>226\n",
       "</td>\n",
       "<td>592\n",
       "</td>\n",
       "<td>600\n",
       "</td>\n",
       "<td>601\n",
       "</td></tr></tbody></table>"
      ],
      "text/plain": [
       "<IPython.core.display.HTML object>"
      ]
     },
     "execution_count": 96,
     "metadata": {},
     "output_type": "execute_result"
    }
   ],
   "source": [
    "HTML(table_html)"
   ]
  },
  {
   "cell_type": "code",
   "execution_count": 97,
   "metadata": {},
   "outputs": [
    {
     "name": "stdout",
     "output_type": "stream",
     "text": [
      "[17235.0, 16795.0, 16505.0, 16970.0, 16330.0, 31.2, 33.8, 33.5, 32.5, 32.2, 3480.0, 3440.0, 3430.0, 3425.0, 3355.0, 64.7, 60.6, 62.0, 62.1, 63.8, 4.95, 4.88, 4.81, 4.95, 4.87, None, 226.0, 592.0, 600.0, 601.0]\n"
     ]
    }
   ],
   "source": [
    "td = html_soup.findAll('td')\n",
    "\n",
    "value = []\n",
    "i = []\n",
    "values = []\n",
    "\n",
    "for x in td:\n",
    "    value.append(rem_nl(x.get_text()))\n",
    "\n",
    "unwanted = [0,6,12,18,24,30]\n",
    "\n",
    "for y in sorted(unwanted, reverse = True):\n",
    "    del value[y] \n",
    "    \n",
    "for z in value:\n",
    "    i.append(z.strip(\" \"))\n",
    "    \n",
    "for w in i:\n",
    "    if (w == 'n/a'):\n",
    "        values.append(None)\n",
    "    else:\n",
    "        values.append(float(w.replace(',','')))\n",
    "    \n",
    "\n",
    "    \n",
    "print(values)"
   ]
  },
  {
   "cell_type": "code",
   "execution_count": 98,
   "metadata": {},
   "outputs": [
    {
     "name": "stdout",
     "output_type": "stream",
     "text": [
      "<zip object at 0x0000022BCB863B48>\n"
     ]
    }
   ],
   "source": [
    "stacked_values = zip(*[values[i::5] for i in range(len(columns))])\n",
    "print(stacked_values)"
   ]
  },
  {
   "cell_type": "code",
   "execution_count": 99,
   "metadata": {},
   "outputs": [],
   "source": [
    "import pandas as pd"
   ]
  },
  {
   "cell_type": "code",
   "execution_count": 100,
   "metadata": {},
   "outputs": [
    {
     "data": {
      "text/html": [
       "<div>\n",
       "<style scoped>\n",
       "    .dataframe tbody tr th:only-of-type {\n",
       "        vertical-align: middle;\n",
       "    }\n",
       "\n",
       "    .dataframe tbody tr th {\n",
       "        vertical-align: top;\n",
       "    }\n",
       "\n",
       "    .dataframe thead th {\n",
       "        text-align: right;\n",
       "    }\n",
       "</style>\n",
       "<table border=\"1\" class=\"dataframe\">\n",
       "  <thead>\n",
       "    <tr style=\"text-align: right;\">\n",
       "      <th></th>\n",
       "      <th>2017</th>\n",
       "      <th>2016</th>\n",
       "      <th>2015</th>\n",
       "      <th>2014</th>\n",
       "      <th>2013</th>\n",
       "    </tr>\n",
       "  </thead>\n",
       "  <tbody>\n",
       "    <tr>\n",
       "      <th>Applications</th>\n",
       "      <td>17235.00</td>\n",
       "      <td>16795.00</td>\n",
       "      <td>16505.00</td>\n",
       "      <td>16970.00</td>\n",
       "      <td>16330.00</td>\n",
       "    </tr>\n",
       "    <tr>\n",
       "      <th>Offer Rate (%)</th>\n",
       "      <td>31.20</td>\n",
       "      <td>33.80</td>\n",
       "      <td>33.50</td>\n",
       "      <td>32.50</td>\n",
       "      <td>32.20</td>\n",
       "    </tr>\n",
       "    <tr>\n",
       "      <th>Enrols</th>\n",
       "      <td>3480.00</td>\n",
       "      <td>3440.00</td>\n",
       "      <td>3430.00</td>\n",
       "      <td>3425.00</td>\n",
       "      <td>3355.00</td>\n",
       "    </tr>\n",
       "    <tr>\n",
       "      <th>Yield (%)</th>\n",
       "      <td>64.70</td>\n",
       "      <td>60.60</td>\n",
       "      <td>62.00</td>\n",
       "      <td>62.10</td>\n",
       "      <td>63.80</td>\n",
       "    </tr>\n",
       "    <tr>\n",
       "      <th>Applicant/Enrolled Ratio</th>\n",
       "      <td>4.95</td>\n",
       "      <td>4.88</td>\n",
       "      <td>4.81</td>\n",
       "      <td>4.95</td>\n",
       "      <td>4.87</td>\n",
       "    </tr>\n",
       "    <tr>\n",
       "      <th>Average Entry Tariff</th>\n",
       "      <td>NaN</td>\n",
       "      <td>226.00</td>\n",
       "      <td>592.00</td>\n",
       "      <td>600.00</td>\n",
       "      <td>601.00</td>\n",
       "    </tr>\n",
       "  </tbody>\n",
       "</table>\n",
       "</div>"
      ],
      "text/plain": [
       "                              2017      2016      2015      2014      2013\n",
       "Applications              17235.00  16795.00  16505.00  16970.00  16330.00\n",
       "Offer Rate (%)               31.20     33.80     33.50     32.50     32.20\n",
       "Enrols                     3480.00   3440.00   3430.00   3425.00   3355.00\n",
       "Yield (%)                    64.70     60.60     62.00     62.10     63.80\n",
       "Applicant/Enrolled Ratio      4.95      4.88      4.81      4.95      4.87\n",
       "Average Entry Tariff           NaN    226.00    592.00    600.00    601.00"
      ]
     },
     "execution_count": 100,
     "metadata": {},
     "output_type": "execute_result"
    }
   ],
   "source": [
    "df = pd.DataFrame(stacked_values,indexes,columns)\n",
    "df.head(6)"
   ]
  },
  {
   "cell_type": "code",
   "execution_count": 101,
   "metadata": {},
   "outputs": [
    {
     "data": {
      "text/plain": [
       "2017    float64\n",
       "2016    float64\n",
       "2015    float64\n",
       "2014    float64\n",
       "2013    float64\n",
       "dtype: object"
      ]
     },
     "execution_count": 101,
     "metadata": {},
     "output_type": "execute_result"
    }
   ],
   "source": [
    "df.dtypes"
   ]
  },
  {
   "cell_type": "code",
   "execution_count": 102,
   "metadata": {},
   "outputs": [
    {
     "data": {
      "text/html": [
       "<div>\n",
       "<style scoped>\n",
       "    .dataframe tbody tr th:only-of-type {\n",
       "        vertical-align: middle;\n",
       "    }\n",
       "\n",
       "    .dataframe tbody tr th {\n",
       "        vertical-align: top;\n",
       "    }\n",
       "\n",
       "    .dataframe thead th {\n",
       "        text-align: right;\n",
       "    }\n",
       "</style>\n",
       "<table border=\"1\" class=\"dataframe\">\n",
       "  <thead>\n",
       "    <tr style=\"text-align: right;\">\n",
       "      <th></th>\n",
       "      <th>2017</th>\n",
       "      <th>2016</th>\n",
       "      <th>2015</th>\n",
       "      <th>2014</th>\n",
       "      <th>2013</th>\n",
       "    </tr>\n",
       "  </thead>\n",
       "  <tbody>\n",
       "    <tr>\n",
       "      <th>Applications</th>\n",
       "      <td>17235.00</td>\n",
       "      <td>16795.00</td>\n",
       "      <td>16505.00</td>\n",
       "      <td>16970.00</td>\n",
       "      <td>16330.00</td>\n",
       "    </tr>\n",
       "    <tr>\n",
       "      <th>Offer Rate (%)</th>\n",
       "      <td>31.20</td>\n",
       "      <td>33.80</td>\n",
       "      <td>33.50</td>\n",
       "      <td>32.50</td>\n",
       "      <td>32.20</td>\n",
       "    </tr>\n",
       "    <tr>\n",
       "      <th>Enrols</th>\n",
       "      <td>3480.00</td>\n",
       "      <td>3440.00</td>\n",
       "      <td>3430.00</td>\n",
       "      <td>3425.00</td>\n",
       "      <td>3355.00</td>\n",
       "    </tr>\n",
       "    <tr>\n",
       "      <th>Yield (%)</th>\n",
       "      <td>64.70</td>\n",
       "      <td>60.60</td>\n",
       "      <td>62.00</td>\n",
       "      <td>62.10</td>\n",
       "      <td>63.80</td>\n",
       "    </tr>\n",
       "    <tr>\n",
       "      <th>Applicant/Enrolled Ratio</th>\n",
       "      <td>4.95</td>\n",
       "      <td>4.88</td>\n",
       "      <td>4.81</td>\n",
       "      <td>4.95</td>\n",
       "      <td>4.87</td>\n",
       "    </tr>\n",
       "    <tr>\n",
       "      <th>Average Entry Tariff</th>\n",
       "      <td>0.00</td>\n",
       "      <td>226.00</td>\n",
       "      <td>592.00</td>\n",
       "      <td>600.00</td>\n",
       "      <td>601.00</td>\n",
       "    </tr>\n",
       "  </tbody>\n",
       "</table>\n",
       "</div>"
      ],
      "text/plain": [
       "                              2017      2016      2015      2014      2013\n",
       "Applications              17235.00  16795.00  16505.00  16970.00  16330.00\n",
       "Offer Rate (%)               31.20     33.80     33.50     32.50     32.20\n",
       "Enrols                     3480.00   3440.00   3430.00   3425.00   3355.00\n",
       "Yield (%)                    64.70     60.60     62.00     62.10     63.80\n",
       "Applicant/Enrolled Ratio      4.95      4.88      4.81      4.95      4.87\n",
       "Average Entry Tariff          0.00    226.00    592.00    600.00    601.00"
      ]
     },
     "execution_count": 102,
     "metadata": {},
     "output_type": "execute_result"
    }
   ],
   "source": [
    "df_clean = df.fillna(value = 0)\n",
    "df_clean"
   ]
  },
  {
   "cell_type": "code",
   "execution_count": 103,
   "metadata": {},
   "outputs": [],
   "source": [
    "import numpy as np"
   ]
  },
  {
   "cell_type": "code",
   "execution_count": 104,
   "metadata": {},
   "outputs": [
    {
     "data": {
      "text/plain": [
       "array([[1.7235e+04, 1.6795e+04, 1.6505e+04, 1.6970e+04, 1.6330e+04],\n",
       "       [3.1200e+01, 3.3800e+01, 3.3500e+01, 3.2500e+01, 3.2200e+01],\n",
       "       [3.4800e+03, 3.4400e+03, 3.4300e+03, 3.4250e+03, 3.3550e+03],\n",
       "       [6.4700e+01, 6.0600e+01, 6.2000e+01, 6.2100e+01, 6.3800e+01],\n",
       "       [4.9500e+00, 4.8800e+00, 4.8100e+00, 4.9500e+00, 4.8700e+00],\n",
       "       [0.0000e+00, 2.2600e+02, 5.9200e+02, 6.0000e+02, 6.0100e+02]])"
      ]
     },
     "execution_count": 104,
     "metadata": {},
     "output_type": "execute_result"
    }
   ],
   "source": [
    "df_clean.values"
   ]
  },
  {
   "cell_type": "code",
   "execution_count": 105,
   "metadata": {},
   "outputs": [
    {
     "data": {
      "text/plain": [
       "3469.308333333334"
      ]
     },
     "execution_count": 105,
     "metadata": {},
     "output_type": "execute_result"
    }
   ],
   "source": [
    "mean = df_clean['2017'].mean()\n",
    "mean"
   ]
  },
  {
   "cell_type": "code",
   "execution_count": null,
   "metadata": {},
   "outputs": [],
   "source": []
  },
  {
   "cell_type": "code",
   "execution_count": null,
   "metadata": {},
   "outputs": [],
   "source": []
  }
 ],
 "metadata": {
  "kernelspec": {
   "display_name": "Python 3",
   "language": "python",
   "name": "python3"
  },
  "language_info": {
   "codemirror_mode": {
    "name": "ipython",
    "version": 3
   },
   "file_extension": ".py",
   "mimetype": "text/x-python",
   "name": "python",
   "nbconvert_exporter": "python",
   "pygments_lexer": "ipython3",
   "version": "3.7.6"
  }
 },
 "nbformat": 4,
 "nbformat_minor": 4
}
